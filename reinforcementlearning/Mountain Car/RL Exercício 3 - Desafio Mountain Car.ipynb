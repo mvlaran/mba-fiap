{
 "cells": [
  {
   "cell_type": "markdown",
   "metadata": {
    "id": "FgkCs9MvR4f-"
   },
   "source": [
    "# RL - Exercício 3 - Desafio Mountain Car (Opcional)\n",
    "\n",
    "## Trabalho desenvolvido durante o MBA em Data Science / IA na FIAP - 2022~2023.\n",
    "\n",
    "## Prof. Felipe Teodoro"
   ]
  },
  {
   "cell_type": "markdown",
   "metadata": {
    "id": "clnLGkknvrG_"
   },
   "source": [
    "## Agente de Reinforcement Learning jogando Montain Car usando Q-Learning"
   ]
  },
  {
   "cell_type": "markdown",
   "metadata": {
    "id": "vRU_vXBrl1Jx"
   },
   "source": [
    "<img src=\"https://www.gymlibrary.dev/_images/mountain_car.gif\" alt=\"Environments\"/>"
   ]
  },
  {
   "cell_type": "markdown",
   "metadata": {
    "id": "DPTBOv9HYLZ2"
   },
   "source": [
    "### 🎮 Environments:\n",
    "\n",
    "- [Mountain Car](https://www.gymlibrary.dev/environments/classic_control/mountain_car/)\n",
    "\n",
    "\n",
    "### 📚 RL-Library:\n",
    "\n",
    "- Python and NumPy\n",
    "- [Gym](https://www.gymlibrary.dev/)"
   ]
  },
  {
   "cell_type": "markdown",
   "metadata": {
    "id": "4gpxC1_kqUYe"
   },
   "source": [
    "## Instalar dependências e criar um display virtual 🔽\n"
   ]
  },
  {
   "cell_type": "code",
   "execution_count": 1,
   "metadata": {
    "colab": {
     "base_uri": "https://localhost:8080/"
    },
    "id": "9XaULfDZDvrC",
    "outputId": "7d50b130-16e8-4d51-ed5a-5257d5dfddcf"
   },
   "outputs": [
    {
     "name": "stdout",
     "output_type": "stream",
     "text": [
      "Requirement already satisfied: gym==0.24 in /usr/local/lib/python3.10/dist-packages (0.24.0)\n",
      "Requirement already satisfied: numpy>=1.18.0 in /usr/local/lib/python3.10/dist-packages (from gym==0.24) (1.23.5)\n",
      "Requirement already satisfied: cloudpickle>=1.2.0 in /usr/local/lib/python3.10/dist-packages (from gym==0.24) (2.2.1)\n",
      "Requirement already satisfied: gym-notices>=0.0.4 in /usr/local/lib/python3.10/dist-packages (from gym==0.24) (0.0.8)\n",
      "Requirement already satisfied: pygame in /usr/local/lib/python3.10/dist-packages (2.5.2)\n",
      "Requirement already satisfied: numpy in /usr/local/lib/python3.10/dist-packages (1.23.5)\n",
      "Requirement already satisfied: huggingface_hub in /usr/local/lib/python3.10/dist-packages (0.17.3)\n",
      "Requirement already satisfied: filelock in /usr/local/lib/python3.10/dist-packages (from huggingface_hub) (3.12.4)\n",
      "Requirement already satisfied: fsspec in /usr/local/lib/python3.10/dist-packages (from huggingface_hub) (2023.6.0)\n",
      "Requirement already satisfied: requests in /usr/local/lib/python3.10/dist-packages (from huggingface_hub) (2.31.0)\n",
      "Requirement already satisfied: tqdm>=4.42.1 in /usr/local/lib/python3.10/dist-packages (from huggingface_hub) (4.66.1)\n",
      "Requirement already satisfied: pyyaml>=5.1 in /usr/local/lib/python3.10/dist-packages (from huggingface_hub) (6.0)\n",
      "Requirement already satisfied: typing-extensions>=3.7.4.3 in /usr/local/lib/python3.10/dist-packages (from huggingface_hub) (4.5.0)\n",
      "Requirement already satisfied: packaging>=20.9 in /usr/local/lib/python3.10/dist-packages (from huggingface_hub) (23.1)\n",
      "Requirement already satisfied: charset-normalizer<4,>=2 in /usr/local/lib/python3.10/dist-packages (from requests->huggingface_hub) (3.2.0)\n",
      "Requirement already satisfied: idna<4,>=2.5 in /usr/local/lib/python3.10/dist-packages (from requests->huggingface_hub) (3.4)\n",
      "Requirement already satisfied: urllib3<3,>=1.21.1 in /usr/local/lib/python3.10/dist-packages (from requests->huggingface_hub) (2.0.5)\n",
      "Requirement already satisfied: certifi>=2017.4.17 in /usr/local/lib/python3.10/dist-packages (from requests->huggingface_hub) (2023.7.22)\n",
      "Requirement already satisfied: pickle5 in /usr/local/lib/python3.10/dist-packages (0.0.11)\n",
      "Requirement already satisfied: pyyaml==6.0 in /usr/local/lib/python3.10/dist-packages (6.0)\n",
      "Requirement already satisfied: imageio in /usr/local/lib/python3.10/dist-packages (2.31.4)\n",
      "Requirement already satisfied: numpy in /usr/local/lib/python3.10/dist-packages (from imageio) (1.23.5)\n",
      "Requirement already satisfied: pillow>=8.3.2 in /usr/local/lib/python3.10/dist-packages (from imageio) (9.4.0)\n",
      "Requirement already satisfied: imageio_ffmpeg in /usr/local/lib/python3.10/dist-packages (0.4.9)\n",
      "Requirement already satisfied: setuptools in /usr/local/lib/python3.10/dist-packages (from imageio_ffmpeg) (67.7.2)\n",
      "Requirement already satisfied: pyglet==1.5.1 in /usr/local/lib/python3.10/dist-packages (1.5.1)\n",
      "Requirement already satisfied: tqdm in /usr/local/lib/python3.10/dist-packages (4.66.1)\n"
     ]
    }
   ],
   "source": [
    "!pip install gym==0.24\n",
    "!pip install pygame\n",
    "!pip install numpy\n",
    "\n",
    "!pip install huggingface_hub\n",
    "!pip install pickle5\n",
    "!pip install pyyaml==6.0\n",
    "!pip install imageio\n",
    "!pip install imageio_ffmpeg\n",
    "!pip install pyglet==1.5.1\n",
    "!pip install tqdm"
   ]
  },
  {
   "cell_type": "code",
   "execution_count": 2,
   "metadata": {
    "id": "n71uTX7qqzz2"
   },
   "outputs": [],
   "source": [
    "%%capture\n",
    "!apt update\n",
    "!apt install ffmpeg xvfb\n",
    "!pip install xvfbwrapper\n",
    "!pip install pyvirtualdisplay"
   ]
  },
  {
   "cell_type": "markdown",
   "metadata": {
    "id": "K6XC13pTfFiD"
   },
   "source": [
    "Para garantir que as novas bibliotecas instaladas sejam usadas, **às vezes é necessário reiniciar o tempo de execução do notebook**. A próxima célula forçará o **tempo de execução a travar, então você precisará se conectar novamente e executar o código a partir daqui**."
   ]
  },
  {
   "cell_type": "code",
   "execution_count": 3,
   "metadata": {
    "id": "3kuZbWAkfHdg"
   },
   "outputs": [],
   "source": [
    "# import os\n",
    "# os.kill(os.getpid(), 9)"
   ]
  },
  {
   "cell_type": "code",
   "execution_count": 4,
   "metadata": {
    "colab": {
     "base_uri": "https://localhost:8080/"
    },
    "id": "DaY1N4dBrabi",
    "outputId": "42583dcd-2806-4fa7-9691-e98a983a64c3"
   },
   "outputs": [
    {
     "data": {
      "text/plain": [
       "<pyvirtualdisplay.display.Display at 0x7b5e64ef39d0>"
      ]
     },
     "execution_count": 4,
     "metadata": {},
     "output_type": "execute_result"
    }
   ],
   "source": [
    "# Virtual display\n",
    "from pyvirtualdisplay import Display\n",
    "\n",
    "virtual_display = Display(visible=0, size=(1400, 900))\n",
    "virtual_display.start()"
   ]
  },
  {
   "cell_type": "markdown",
   "metadata": {
    "id": "W-7f-Swax_9x"
   },
   "source": [
    "## Importação de pacotes 📦\n",
    "\n",
    "Além das bibliotecas instaladas, utilizamos também:\n",
    "\n",
    "- `random`: Para gerar números aleatórios (que serão úteis para a política epsilon-greedy).\n",
    "- `imageio`: Para gerar um vídeo de replay."
   ]
  },
  {
   "cell_type": "code",
   "execution_count": 5,
   "metadata": {
    "colab": {
     "base_uri": "https://localhost:8080/"
    },
    "id": "VcNvOAQlysBJ",
    "outputId": "fd7df8e7-d10e-4319-ae0a-580edae074ab"
   },
   "outputs": [
    {
     "name": "stderr",
     "output_type": "stream",
     "text": [
      "Warning: Gym version v0.24.0 has a number of critical issues with `gym.make` such that the `reset` and `step` functions are called before returning the environment. It is recommend to downgrading to v0.23.1 or upgrading to v0.25.1\n"
     ]
    }
   ],
   "source": [
    "import numpy as np\n",
    "import gym\n",
    "import random\n",
    "import imageio\n",
    "import os\n",
    "import tqdm\n",
    "import matplotlib.pyplot as plt\n",
    "import math\n",
    "\n",
    "# import pickle5 as pickle\n",
    "from tqdm.notebook import tqdm"
   ]
  },
  {
   "cell_type": "code",
   "execution_count": 6,
   "metadata": {
    "colab": {
     "base_uri": "https://localhost:8080/"
    },
    "id": "lLMurTgUYZc0",
    "outputId": "33d1cae2-33c0-4d46-d31b-0a104d1815af"
   },
   "outputs": [
    {
     "name": "stderr",
     "output_type": "stream",
     "text": [
      "/usr/local/lib/python3.10/dist-packages/ipykernel/ipkernel.py:283: DeprecationWarning: `should_run_async` will not call `transform_cell` automatically in the future. Please pass the result to `transformed_cell` argument and any exception that happen during thetransform in `preprocessing_exc_tuple` in IPython 7.17 and above.\n",
      "  and should_run_async(code)\n"
     ]
    }
   ],
   "source": [
    "random.seed(73)"
   ]
  },
  {
   "cell_type": "code",
   "execution_count": 7,
   "metadata": {
    "id": "jNxUbPMP0akP"
   },
   "outputs": [],
   "source": [
    "env = gym.make('MountainCar-v0')"
   ]
  },
  {
   "cell_type": "markdown",
   "metadata": {
    "id": "SXbTfdeJ1Xi9"
   },
   "source": [
    "### Verifique o Environment:\n"
   ]
  },
  {
   "cell_type": "code",
   "execution_count": 8,
   "metadata": {
    "colab": {
     "base_uri": "https://localhost:8080/"
    },
    "id": "I5zArh3xvL4O",
    "outputId": "7fe59fd9-5719-4a9a-a7d8-dfdb654e3b09"
   },
   "outputs": [
    {
     "name": "stdout",
     "output_type": "stream",
     "text": [
      "_____OBSERVATION SPACE_____ \n",
      "\n",
      "Observation Space Box([-1.2  -0.07], [0.6  0.07], (2,), float32)\n",
      "Sample observation [-0.6760119   0.04352124]\n"
     ]
    }
   ],
   "source": [
    "print(\"_____OBSERVATION SPACE_____ \\n\")\n",
    "print(\"Observation Space\", env.observation_space)\n",
    "print(\"Sample observation\", env.observation_space.sample()) # Get a random observation"
   ]
  },
  {
   "cell_type": "code",
   "execution_count": 9,
   "metadata": {
    "colab": {
     "base_uri": "https://localhost:8080/"
    },
    "id": "6Ys8w0e-vgU2",
    "outputId": "8cea0361-d186-4aa9-dc41-7783b20f8ec0"
   },
   "outputs": [
    {
     "name": "stdout",
     "output_type": "stream",
     "text": [
      "\n",
      " _____ACTION SPACE_____ \n",
      "\n",
      "Action Space Shape 3\n",
      "Action Space Sample 2\n"
     ]
    }
   ],
   "source": [
    "print(\"\\n _____ACTION SPACE_____ \\n\")\n",
    "print(\"Action Space Shape\", env.action_space.n)\n",
    "print(\"Action Space Sample\", env.action_space.sample()) # Take a random action"
   ]
  },
  {
   "cell_type": "code",
   "execution_count": 10,
   "metadata": {
    "colab": {
     "base_uri": "https://localhost:8080/"
    },
    "id": "U9TZWTm1v5MV",
    "outputId": "3d3ec6b0-8141-4779-fba8-75c7584ab528"
   },
   "outputs": [
    {
     "name": "stdout",
     "output_type": "stream",
     "text": [
      "There are  Box([-1.2  -0.07], [0.6  0.07], (2,), float32)  possible states\n",
      "There are  3  possible actions\n"
     ]
    }
   ],
   "source": [
    "state_space = env.observation_space\n",
    "print(\"There are \", state_space, \" possible states\")\n",
    "\n",
    "action_space = env.action_space.n\n",
    "print(\"There are \", action_space, \" possible actions\")"
   ]
  },
  {
   "cell_type": "markdown",
   "metadata": {
    "id": "8lJigamlakTx"
   },
   "source": [
    "Estudando melhor o espaço de Observação temos a seguinte descrição do Enviroment:\n",
    "\n",
    "Given an action, the mountain car follows the following transition dynamics:\n",
    "\n",
    "velocityt+1 = velocityt + (action - 1) * force - cos(3 * positiont) * gravity\n",
    "\n",
    "positiont+1 = positiont + velocityt+1\n",
    "\n",
    "where force = 0.001 and gravity = 0.0025. The collisions at either end are inelastic with the velocity set to 0 upon collision with the wall. The position is clipped to the range [-1.2, 0.6] and velocity is clipped to the range [-0.07, 0.07].\n"
   ]
  },
  {
   "cell_type": "code",
   "execution_count": 11,
   "metadata": {
    "colab": {
     "base_uri": "https://localhost:8080/"
    },
    "id": "CDjti_WYcIOD",
    "outputId": "b1c93d08-660b-45cf-d09d-c45976418d67"
   },
   "outputs": [
    {
     "name": "stdout",
     "output_type": "stream",
     "text": [
      "Min possible values  [-1.2  -0.07]\n"
     ]
    }
   ],
   "source": [
    "min_v = env.observation_space.low\n",
    "print(\"Min possible values \", min_v)"
   ]
  },
  {
   "cell_type": "code",
   "execution_count": 12,
   "metadata": {
    "colab": {
     "base_uri": "https://localhost:8080/"
    },
    "id": "E5dTya-ucujs",
    "outputId": "a9dc74be-a14f-4eeb-8531-b5d579f38d9a"
   },
   "outputs": [
    {
     "name": "stdout",
     "output_type": "stream",
     "text": [
      "Max possible values  [0.6  0.07]\n"
     ]
    }
   ],
   "source": [
    "max_v = env.observation_space.high\n",
    "print(\"Max possible values \", max_v)"
   ]
  },
  {
   "cell_type": "code",
   "execution_count": 13,
   "metadata": {
    "id": "V-rVzBZu0Tih"
   },
   "outputs": [],
   "source": [
    "state = env.reset()"
   ]
  },
  {
   "cell_type": "code",
   "execution_count": 14,
   "metadata": {
    "id": "HS_q2svv0giq"
   },
   "outputs": [],
   "source": [
    "env.step(env.action_space.sample())\n",
    "img = env.render(mode='rgb_array')"
   ]
  },
  {
   "cell_type": "code",
   "execution_count": 15,
   "metadata": {
    "colab": {
     "base_uri": "https://localhost:8080/",
     "height": 413
    },
    "id": "2X6_u4bN0oDS",
    "outputId": "208398e2-24c6-48ac-d50e-9606e2a6fb83"
   },
   "outputs": [
    {
     "data": {
      "text/plain": [
       "<matplotlib.image.AxesImage at 0x7b5e3c8a96c0>"
      ]
     },
     "execution_count": 15,
     "metadata": {},
     "output_type": "execute_result"
    },
    {
     "data": {
      "image/png": "[encoded data removed]",
      "text/plain": [
       "<Figure size 640x480 with 1 Axes>"
      ]
     },
     "metadata": {},
     "output_type": "display_data"
    }
   ],
   "source": [
    "plt.imshow(img)"
   ]
  },
  {
   "cell_type": "markdown",
   "metadata": {
    "id": "EQHcLLXCdBFQ"
   },
   "source": [
    "## O Grande desafio deste notebook é pensar em uma forma de discretizar a velocidade e a posição do carrinho em estados para criar a nossa Q-Table\n"
   ]
  },
  {
   "cell_type": "code",
   "execution_count": 16,
   "metadata": {
    "id": "v8NYSwDeWFto"
   },
   "outputs": [],
   "source": [
    "state_space = env.observation_space\n",
    "\n",
    "# Posições e velocidades máximas e mínimas\n",
    "pos_min = state_space.low[0]\n",
    "pos_max = state_space.high[0]\n",
    "vel_min = state_space.low[1]\n",
    "vel_max = state_space.high[1]\n",
    "\n",
    "# Separar posição e velocidade em intervalos\n",
    "pos_int = 20  # Número de intervalos para a posição\n",
    "vel_int = 15  # Número de intervalos para a velocidade\n",
    "\n",
    "# Separação em um espaço linear tanto da posição como da velocidade\n",
    "pos_sp_lin = np.linspace(pos_min, pos_max, pos_int)\n",
    "vel_sp_lin = np.linspace(vel_min, vel_max, vel_int)\n",
    "\n",
    "# Função para mapear: estado do ambiente -> estado discreto correspondente\n",
    "def mapear_obs(observation):\n",
    "  pos_disc = np.digitize(observation[0], pos_sp_lin)\n",
    "  vel_disc = np.digitize(observation[1], vel_sp_lin)\n",
    "  if pos_disc <= 0:\n",
    "    pos_disc = 0\n",
    "  if pos_disc >= pos_sp_lin.shape[0] - 1:\n",
    "    pos_disc = pos_sp_lin.shape[0] - 1\n",
    "  if vel_disc <= 0:\n",
    "    vel_disc = 0\n",
    "  if vel_disc >= vel_sp_lin.shape[0] - 1:\n",
    "    vel_disc = vel_sp_lin.shape[0] - 1\n",
    "\n",
    "  return pos_disc, vel_disc"
   ]
  },
  {
   "cell_type": "code",
   "execution_count": 17,
   "metadata": {
    "id": "Pgg3uFYbxyhq"
   },
   "outputs": [],
   "source": [
    "# Inicialização da Q-table com as dimensões corretas\n",
    "# Temos três variáveis para representar os estados:\n",
    "#   Posição discretizada\n",
    "#   Velocidade discretizada\n",
    "#   Ação que o agente pode tomar\n",
    "# Desta forma, a Q-Table será tridimencional\n",
    "\n",
    "Qtable_mountain_car = np.zeros((pos_int, vel_int, env.action_space.n))"
   ]
  },
  {
   "cell_type": "code",
   "execution_count": 18,
   "metadata": {
    "colab": {
     "base_uri": "https://localhost:8080/"
    },
    "id": "eNnWqumdhDWJ",
    "outputId": "f086071b-01b2-410c-d745-ed1e5dfcc7a4"
   },
   "outputs": [
    {
     "data": {
      "text/plain": [
       "(20, 15, 3)"
      ]
     },
     "execution_count": 18,
     "metadata": {},
     "output_type": "execute_result"
    }
   ],
   "source": [
    "Qtable_mountain_car.shape"
   ]
  },
  {
   "cell_type": "markdown",
   "metadata": {
    "id": "SnwT0I7CpJd8"
   },
   "source": [
    "## Definir funções de política de exploração\n",
    "\n",
    "Exploração curiosa e gananciosa"
   ]
  },
  {
   "cell_type": "code",
   "execution_count": 19,
   "metadata": {
    "id": "vJnlzfgYxy_6"
   },
   "outputs": [],
   "source": [
    "def epsilon_greedy_policy(Q, state, epsilon):\n",
    "  if random.uniform(0, 1) < epsilon:\n",
    "    # Ação aleatória (exploração curiosa)\n",
    "    return random.randint(0, Q.shape[-1] - 1)\n",
    "  else:\n",
    "    # Ação com base nos valores Q (exploração gananciosa)\n",
    "    return greedy_policy(Q, state)\n",
    "\n",
    "def greedy_policy(Q, state):\n",
    "  pos_disc, vel_disc = mapear_obs(state)\n",
    "  return np.argmax(Q[pos_disc, vel_disc])"
   ]
  },
  {
   "cell_type": "markdown",
   "metadata": {
    "id": "znCjzUTjps5P"
   },
   "source": [
    "## Parâmetros de Treinamento"
   ]
  },
  {
   "cell_type": "code",
   "execution_count": 20,
   "metadata": {
    "id": "FJ2x7-_7SsGa"
   },
   "outputs": [],
   "source": [
    "# Parâmetros de treinamento\n",
    "#   Quantidade de vezes que o agente em treinamento deve convergir para solução\n",
    "#   antes de parar o treinamento\n",
    "min_conv_count = 1500\n",
    "\n",
    "learning_rate = 0.25 # Taxa de aprendizado\n",
    "\n",
    "# Parâmetros do ambiente\n",
    "env_id = \"MountainCar\" # Nome do ambiente\n",
    "\n",
    "max_steps = 200 # Max passos por episódio\n",
    "gamma = 0.90 # Taxa de desconto\n",
    "\n",
    "# Parâmetros de exploração\n",
    "max_epsilon = 1 # Probabilidade de exploração no início\n",
    "min_epsilon = 0.01 # Probabilidade mínima de exploração\n",
    "decay_rate = 0.005 # Taxa de decaimento exponencial para prob de exploração"
   ]
  },
  {
   "cell_type": "markdown",
   "metadata": {
    "id": "7wkddq9CpzdK"
   },
   "source": [
    "## Treinamento do Agente"
   ]
  },
  {
   "cell_type": "code",
   "execution_count": 21,
   "metadata": {
    "id": "A-j7beorGJrr"
   },
   "outputs": [],
   "source": [
    "# Reset no ambiente\n",
    "\n",
    "state = env.reset()\n",
    "\n",
    "# Zera a Q-Table\n",
    "Qtable_mountain_car = np.zeros((pos_int, vel_int, env.action_space.n))"
   ]
  },
  {
   "cell_type": "markdown",
   "metadata": {
    "id": "etTWiN0qrYO7"
   },
   "source": [
    "O racional do algorítimo de treinamento foi levar em consideração não um número fixo de episódios, mas um número alvo de vezes que o agente consegue atingir o objetivo.\n",
    "\n",
    "Fazendo ajustes nos hiperparâmetros, o agente consegue não só atingir o objetivo como preencher a Q-Table com valores ótimos de modo que consegue posteriormente reproduzir o feito.\n",
    "\n",
    "Como baliza para a escolha dos hiperparâmetros, utilizamos a média da recompensa, como mostraremos abaixo."
   ]
  },
  {
   "cell_type": "code",
   "execution_count": 22,
   "metadata": {
    "id": "QR65MjlixzWW"
   },
   "outputs": [],
   "source": [
    "def train(min_conv_count, min_epsilon, max_epsilon, decay_rate, env, max_steps, Qtable):\n",
    "    episode = 0\n",
    "    conv_count = 0\n",
    "    with tqdm(total = min_conv_count) as pbar:\n",
    "        while conv_count <= min_conv_count:\n",
    "            episode += 1\n",
    "            pbar.set_description(f\"Episódio: {episode}\")\n",
    "\n",
    "            # Reduzir epsilon (porque precisamos cada vez menos exploration)\n",
    "            epsilon = min_epsilon + (max_epsilon - min_epsilon)*np.exp(-decay_rate*episode)\n",
    "            # Redefinir o ambiente\n",
    "            state = env.reset()\n",
    "            step = 0\n",
    "            done = False\n",
    "            while done != True:\n",
    "                # Escolha a ação At para usar a política gananciosa (greedy policy) do epsilon\n",
    "                action = epsilon_greedy_policy(Qtable, state, epsilon)\n",
    "\n",
    "                # Take action At and observe Rt+1 and St+1\n",
    "                # Take the action (a) and observe the outcome state(s') and reward (r)\n",
    "\n",
    "                new_state, reward, done, info = env.step(action)\n",
    "\n",
    "                # Discretiza a posição e a velocidade\n",
    "                position = mapear_obs(state)[0]\n",
    "                velocity = mapear_obs(state)[1]\n",
    "\n",
    "                # Discretiza a nova posição e a velocidade\n",
    "                new_position = mapear_obs(new_state)[0]\n",
    "                new_velocity = mapear_obs(new_state)[1]\n",
    "\n",
    "                if new_position >= pos_int - 1:\n",
    "                    if conv_count <= min_conv_count:\n",
    "                        conv_count += 1\n",
    "                        pbar.update(1)\n",
    "                else:\n",
    "                    delta = learning_rate * (reward + gamma * np.max(Qtable[new_position][new_velocity]) - Qtable[position][velocity][action])\n",
    "                    reward = Qtable[position][velocity][action] + delta\n",
    "\n",
    "                    Qtable[new_position, velocity, action] = reward\n",
    "\n",
    "                if step >= max_steps:\n",
    "                    done = True\n",
    "                else:\n",
    "                    step += 1\n",
    "\n",
    "                # Our next state is the new state\n",
    "                state = new_state\n",
    "\n",
    "    return Qtable"
   ]
  },
  {
   "cell_type": "code",
   "execution_count": 23,
   "metadata": {
    "colab": {
     "base_uri": "https://localhost:8080/",
     "height": 49,
     "referenced_widgets": [
      "578ce53b73d746d98df324fe6a99838c",
      "a9497bb8e505407aa3234fbdf3c679f0",
      "9364f0cea5e44332825ab229728bb787",
      "0fae5d5445d04cd1b6a58cf7b00a3640",
      "30e47e3e20a8413ca6236f7f98c57476",
      "d0e1a9b590674e69b66a3f5099a9b24e",
      "f69c5bd240f84309b88113308555d9ea",
      "515bc15f5678452bb5c05021ac763c43",
      "bf9d49fe94734b3ebacd35a071f8dc33",
      "6dc0abc71b6e4181926cf2153a480e42",
      "b55a5b230fe34ff49859e118547d4b87"
     ]
    },
    "id": "Fe-8HKiXxzbW",
    "outputId": "ebea9478-68c8-4988-8ade-0259f2cd00a4"
   },
   "outputs": [
    {
     "data": {
      "application/vnd.jupyter.widget-view+json": {
       "model_id": "578ce53b73d746d98df324fe6a99838c",
       "version_major": 2,
       "version_minor": 0
      },
      "text/plain": [
       "Episódio: 24666: 1501/? [18:07<00:00, 3.07it/s]"
      ]
     },
     "metadata": {},
     "output_type": "display_data"
    }
   ],
   "source": [
    "# Treina o Agente\n",
    "\n",
    "Qtable_mountain_car = train(min_conv_count, min_epsilon, max_epsilon, decay_rate, env, max_steps, Qtable_mountain_car)"
   ]
  },
  {
   "cell_type": "markdown",
   "metadata": {
    "id": "Qw3J_JrxsWLc"
   },
   "source": [
    "### Visualizar a Q-Table preenchida"
   ]
  },
  {
   "cell_type": "code",
   "execution_count": 24,
   "metadata": {
    "colab": {
     "base_uri": "https://localhost:8080/"
    },
    "id": "g-V-CXpNM7BL",
    "outputId": "15456d9a-dcd6-4fda-f989-8dbc8c368ece"
   },
   "outputs": [
    {
     "data": {
      "text/plain": [
       "array([[[  0.        ,   0.        ,   0.        ],\n",
       "        [  0.        ,   0.        ,   0.        ],\n",
       "        [  0.        ,   0.        ,   0.        ],\n",
       "        [  0.        ,   0.        ,   0.        ],\n",
       "        [  0.        ,   0.        ,   0.        ],\n",
       "        [  0.        ,   0.        ,   0.        ],\n",
       "        [  0.        ,   0.        ,   0.        ],\n",
       "        [  0.        ,   0.        ,   0.        ],\n",
       "        [  0.        ,   0.        ,   0.        ],\n",
       "        [  0.        ,   0.        ,   0.        ],\n",
       "        [  0.        ,   0.        ,   0.        ],\n",
       "        [  0.        ,   0.        ,   0.        ],\n",
       "        [  0.        ,   0.        ,   0.        ],\n",
       "        [  0.        ,   0.        ,   0.        ],\n",
       "        [  0.        ,   0.        ,   0.        ]],\n",
       "\n",
       "       [[  0.        ,   0.        ,   0.        ],\n",
       "        [  0.        ,   0.        ,   0.        ],\n",
       "        [ -5.74037388,  -5.92723137,  -6.31049058],\n",
       "        [ -7.3436748 ,  -6.87165643,  -7.36395793],\n",
       "        [ -7.30665972,  -7.98262899,  -7.88244083],\n",
       "        [ -8.48410198,  -7.96927143,  -8.33556557],\n",
       "        [ -7.98743291,  -7.9514531 ,  -7.61884371],\n",
       "        [ -7.39087929,  -7.35758191,  -6.83727629],\n",
       "        [ -6.70898209,  -6.64226088,  -5.87309225],\n",
       "        [ -6.89991064,  -5.08876725,  -5.48762502],\n",
       "        [ -0.25      ,  -0.25      ,  -0.25      ],\n",
       "        [  0.        ,   0.        ,   0.        ],\n",
       "        [  0.        ,   0.        ,   0.        ],\n",
       "        [  0.        ,   0.        ,   0.        ],\n",
       "        [  0.        ,   0.        ,   0.        ]],\n",
       "\n",
       "       [[  0.        ,   0.        ,   0.        ],\n",
       "        [  0.        ,  -1.20054855,  -3.34435064],\n",
       "        [ -6.04639555,  -6.36161383,  -6.19872668],\n",
       "        [ -7.41850885,  -7.41683396,  -7.39598987],\n",
       "        [ -7.23896678,  -8.0631317 ,  -8.37294364],\n",
       "        [ -8.57923806,  -8.61229176,  -8.57951373],\n",
       "        [ -8.49010274,  -8.10260727,  -7.70534476],\n",
       "        [ -7.37620132,  -7.21328654,  -7.38213218],\n",
       "        [ -7.42191669,  -6.8936814 ,  -6.5320681 ],\n",
       "        [ -6.68703427,  -4.83458645,  -5.89566638],\n",
       "        [ -3.65960104,  -5.30556405,  -5.36709045],\n",
       "        [-10.        , -10.        , -10.        ],\n",
       "        [  0.        ,   0.        ,   0.        ],\n",
       "        [  0.        ,   0.        ,   0.        ],\n",
       "        [  0.        ,   0.        ,   0.        ]],\n",
       "\n",
       "       [[  0.        ,   0.        ,   0.        ],\n",
       "        [ -3.75582093,  -3.82907603,  -3.31405698],\n",
       "        [ -6.03426656,  -5.94312342,  -6.05651308],\n",
       "        [ -7.17279442,  -7.36968406,  -6.16978909],\n",
       "        [ -6.7557799 ,  -7.93188637,  -8.28534706],\n",
       "        [ -8.42635511,  -8.62990842,  -8.58367012],\n",
       "        [ -8.72457857,  -8.29629461,  -8.47158156],\n",
       "        [ -7.89076111,  -7.31139466,  -7.71597825],\n",
       "        [ -6.99773395,  -6.71379906,  -6.58736884],\n",
       "        [ -6.53954949,  -6.47067412,  -6.37217678],\n",
       "        [ -5.6291881 ,  -6.73045601,  -6.75157213],\n",
       "        [-10.        , -10.        , -10.        ],\n",
       "        [  0.        ,   0.        ,   0.        ],\n",
       "        [  0.        ,   0.        ,   0.        ],\n",
       "        [  0.        ,   0.        ,   0.        ]],\n",
       "\n",
       "       [[  0.        ,   0.        ,   0.        ],\n",
       "        [ -3.66987757,  -3.42375355,  -3.90737941],\n",
       "        [ -5.79383775,  -5.8085548 ,  -5.99265943],\n",
       "        [ -6.92283074,  -6.95219226,  -5.76125301],\n",
       "        [ -6.43897974,  -7.98352897,  -7.86360788],\n",
       "        [ -8.39099116,  -8.78524125,  -8.82256822],\n",
       "        [ -8.84902876,  -8.96482996,  -8.46527106],\n",
       "        [ -8.71609122,  -8.29215268,  -7.40550989],\n",
       "        [ -7.76093786,  -7.66365405,  -6.80108613],\n",
       "        [ -7.08102624,  -6.47386767,  -6.24159002],\n",
       "        [ -5.05800271,  -7.27115794,  -7.23086463],\n",
       "        [ -9.57235026,  -8.52445705,  -9.65949009],\n",
       "        [ -4.73389049,  -9.05887739,  -4.72500171],\n",
       "        [  0.        ,   0.        ,   0.        ],\n",
       "        [  0.        ,   0.        ,   0.        ]],\n",
       "\n",
       "       [[  0.        ,   0.        ,   0.        ],\n",
       "        [ -3.02405034,  -2.81865275,  -3.57515206],\n",
       "        [ -5.51144753,  -5.34451673,  -5.6071271 ],\n",
       "        [ -7.00799574,  -6.97824333,  -5.33174934],\n",
       "        [ -6.11021128,  -7.59412048,  -7.56708481],\n",
       "        [ -8.16754503,  -8.56267564,  -8.77354279],\n",
       "        [ -8.91695783,  -9.22365899,  -8.92601339],\n",
       "        [ -8.72405752,  -8.63670284,  -8.4164802 ],\n",
       "        [ -7.98921273,  -7.95618915,  -7.94707331],\n",
       "        [ -8.20647611,  -7.28444149,  -7.1964026 ],\n",
       "        [ -7.33232828,  -7.3046349 ,  -7.12549752],\n",
       "        [ -8.80280623,  -8.22068845,  -6.75530173],\n",
       "        [ -7.40684553,  -7.84544251,  -5.6557591 ],\n",
       "        [ -0.25      ,   0.        ,   0.        ],\n",
       "        [  0.        ,   0.        ,   0.        ]],\n",
       "\n",
       "       [[  0.        ,   0.        ,   0.        ],\n",
       "        [ -2.17577566,  -1.9095341 ,  -3.25273504],\n",
       "        [ -5.32823275,  -5.22907379,  -5.24539735],\n",
       "        [ -6.56186884,  -6.76239617,  -4.70137197],\n",
       "        [ -5.86930613,  -7.65172643,  -7.42905882],\n",
       "        [ -7.89900159,  -8.14830334,  -8.39693044],\n",
       "        [ -9.16456844,  -9.3529162 ,  -9.04695457],\n",
       "        [ -9.15729402,  -8.83627165,  -8.72842556],\n",
       "        [ -8.72420482,  -8.66041947,  -8.11206232],\n",
       "        [ -8.18808829,  -7.96483645,  -7.92621875],\n",
       "        [ -7.29564659,  -7.30842255,  -7.56167696],\n",
       "        [ -8.74553873,  -8.66635839,  -7.40597082],\n",
       "        [ -8.05666568,  -8.09700168,  -5.90946179],\n",
       "        [ -2.40598244,  -2.54735527,  -4.27070024],\n",
       "        [  0.        ,   0.        ,   0.        ]],\n",
       "\n",
       "       [[  0.        ,   0.        ,   0.        ],\n",
       "        [ -1.68265342,  -1.55997944,  -2.51967535],\n",
       "        [ -5.16557458,  -5.18067556,  -5.09799664],\n",
       "        [ -6.42605192,  -6.2611513 ,  -4.23873466],\n",
       "        [ -5.24705263,  -7.57836817,  -7.57309038],\n",
       "        [ -7.77009442,  -7.7602415 ,  -8.47894919],\n",
       "        [ -8.81107598,  -9.37431104,  -9.29010796],\n",
       "        [ -9.1610609 ,  -9.89838544,  -9.90154026],\n",
       "        [ -9.66182256,  -9.47220008,  -9.45969808],\n",
       "        [ -8.51166892,  -8.06697066,  -8.01871065],\n",
       "        [ -7.8678298 ,  -7.90841646,  -7.89226407],\n",
       "        [ -8.75174365,  -8.73349959,  -7.63606363],\n",
       "        [ -7.78758057,  -8.12596558,  -6.05463871],\n",
       "        [ -3.30419353,  -4.99737684,  -4.87566633],\n",
       "        [  0.        ,   0.        ,   0.        ]],\n",
       "\n",
       "       [[  0.        ,   0.        ,   0.        ],\n",
       "        [ -1.42334975,  -1.0284677 ,  -1.40828233],\n",
       "        [ -4.93494458,  -4.88007186,  -4.96848269],\n",
       "        [ -5.9720472 ,  -6.30128601,  -3.70097795],\n",
       "        [ -4.94171362,  -7.18453844,  -7.17534184],\n",
       "        [ -7.79214545,  -7.75392383,  -8.00168167],\n",
       "        [ -9.03513824,  -9.32592186,  -9.3177826 ],\n",
       "        [ -8.78104847,  -9.35599614,  -9.75582268],\n",
       "        [ -9.25458333,  -9.34306124,  -9.41767324],\n",
       "        [ -8.69604834,  -8.32470654,  -8.15161774],\n",
       "        [ -8.12325162,  -8.06710812,  -8.09415839],\n",
       "        [ -8.74762559,  -8.73653309,  -7.81495003],\n",
       "        [ -7.84118015,  -8.28627608,  -5.8682061 ],\n",
       "        [ -4.91798397,  -5.13530855,  -5.15827543],\n",
       "        [  0.        ,   0.        ,   0.        ]],\n",
       "\n",
       "       [[  0.        ,   0.        ,   0.        ],\n",
       "        [ -1.40931699,  -0.41978417,  -1.18904307],\n",
       "        [ -4.74622097,  -4.71050175,  -4.655271  ],\n",
       "        [ -6.01595377,  -6.2149895 ,  -3.24974202],\n",
       "        [ -4.93396666,  -7.13582311,  -6.58313271],\n",
       "        [ -7.2052848 ,  -6.64598659,  -7.81076826],\n",
       "        [ -7.89881377,  -8.66642299,  -8.48188244],\n",
       "        [ -8.70325239,  -9.29199005,  -9.16252876],\n",
       "        [ -8.70269327,  -9.189538  ,  -8.97329147],\n",
       "        [ -8.87581678,  -8.6419252 ,  -8.34852678],\n",
       "        [ -8.26760956,  -8.28073582,  -8.26907219],\n",
       "        [ -8.65569457,  -8.73173965,  -7.56156683],\n",
       "        [ -8.37271752,  -8.41514352,  -5.91736012],\n",
       "        [ -5.24634031,  -5.67125124,  -5.45614681],\n",
       "        [  0.        ,   0.        ,   0.        ]],\n",
       "\n",
       "       [[  0.        ,   0.        ,   0.        ],\n",
       "        [ -0.25      ,   0.        ,   0.        ],\n",
       "        [ -4.41876362,  -4.53952854,  -4.45936606],\n",
       "        [ -6.21868588,  -6.05419186,  -2.61620342],\n",
       "        [ -4.35428563,  -6.61184358,  -6.5699833 ],\n",
       "        [ -5.7412433 ,  -7.0636383 ,  -7.7783076 ],\n",
       "        [ -6.93928408,  -8.793021  ,  -8.95247192],\n",
       "        [ -8.41501548,  -8.75044966,  -8.88026011],\n",
       "        [ -8.84582324,  -9.15006323,  -9.05705092],\n",
       "        [ -8.94447769,  -8.96554275,  -8.62172099],\n",
       "        [ -8.35825221,  -8.28424769,  -8.3947645 ],\n",
       "        [ -8.7048766 ,  -8.80659011,  -8.70875793],\n",
       "        [ -8.46839211,  -8.5067934 ,  -6.15572277],\n",
       "        [ -5.69265623,  -6.2067712 ,  -6.05406679],\n",
       "        [  0.        ,   0.        ,   0.        ]],\n",
       "\n",
       "       [[  0.        ,   0.        ,   0.        ],\n",
       "        [  0.        ,   0.        ,   0.        ],\n",
       "        [ -3.68037068,  -3.62882196,  -3.7601466 ],\n",
       "        [ -6.68147355,  -6.58291581,  -2.30634475],\n",
       "        [ -4.02446149,  -6.37759312,  -6.2917421 ],\n",
       "        [ -5.75219142,  -6.9424363 ,  -7.48351425],\n",
       "        [ -7.10833129,  -9.06377461,  -8.82852476],\n",
       "        [ -8.15146431,  -9.30886244,  -9.20814806],\n",
       "        [ -8.66082997,  -9.04832459,  -8.87783008],\n",
       "        [ -9.10753617,  -8.91523387,  -8.89600827],\n",
       "        [ -8.61083717,  -8.60745831,  -8.58026006],\n",
       "        [ -8.81770343,  -8.86320081,  -8.78950256],\n",
       "        [ -8.51615396,  -8.49792757,  -6.39073236],\n",
       "        [ -6.32175417,  -6.54037122,  -6.35061328],\n",
       "        [  0.        ,   0.        ,   0.        ]],\n",
       "\n",
       "       [[  0.        ,   0.        ,   0.        ],\n",
       "        [  0.        ,   0.        ,   0.        ],\n",
       "        [ -0.49375   ,  -0.49375   ,  -0.49375   ],\n",
       "        [ -6.5709194 ,  -6.52784884,  -1.84326102],\n",
       "        [ -4.09735415,  -6.41373788,  -6.38498502],\n",
       "        [ -5.90279216,  -6.51231558,  -7.69821502],\n",
       "        [ -7.05035312,  -8.03200357,  -8.15403393],\n",
       "        [ -8.42174147,  -8.59680147,  -9.37587838],\n",
       "        [ -8.67483238,  -8.99618091,  -9.27395007],\n",
       "        [ -9.18935442,  -9.03219143,  -8.86874652],\n",
       "        [ -8.79280374,  -8.81726425,  -8.82248247],\n",
       "        [ -8.89044116,  -8.88316837,  -8.81342455],\n",
       "        [ -8.58487054,  -8.59116551,  -6.62298502],\n",
       "        [ -6.58687112,  -6.21686008,  -6.53089251],\n",
       "        [  0.        ,   0.        ,   0.        ]],\n",
       "\n",
       "       [[  0.        ,   0.        ,   0.        ],\n",
       "        [  0.        ,   0.        ,   0.        ],\n",
       "        [  0.        ,   0.        ,   0.        ],\n",
       "        [ -5.94871485,  -5.87089967,  -1.3798923 ],\n",
       "        [ -3.32266887,  -5.81077317,  -5.75426818],\n",
       "        [ -6.13040249,  -7.58613049,  -8.63386108],\n",
       "        [ -7.20995491,  -8.77997679,  -8.37041985],\n",
       "        [ -9.24698101,  -8.94986136,  -8.59877689],\n",
       "        [ -8.95342695,  -9.04850683,  -9.04571838],\n",
       "        [ -9.12785269,  -9.15585459,  -9.15162041],\n",
       "        [ -8.95895161,  -9.07894661,  -8.91706412],\n",
       "        [ -9.00889583,  -9.07061722,  -8.94202089],\n",
       "        [ -8.69348898,  -8.58134726,  -6.95274652],\n",
       "        [ -6.18016335,  -6.18442834,  -6.57894414],\n",
       "        [  0.        ,   0.        ,   0.        ]],\n",
       "\n",
       "       [[  0.        ,   0.        ,   0.        ],\n",
       "        [  0.        ,   0.        ,   0.        ],\n",
       "        [  0.        ,   0.        ,   0.        ],\n",
       "        [ -0.49375   ,  -0.49375   ,  -0.25      ],\n",
       "        [ -3.8172414 ,  -5.53530565,  -5.5359115 ],\n",
       "        [ -6.78089758,  -8.84195156,  -9.07753715],\n",
       "        [ -8.22442741,  -9.24177677,  -8.70426584],\n",
       "        [ -9.43271852,  -9.03151957,  -9.40666413],\n",
       "        [ -9.07227307,  -9.17438828,  -9.25389682],\n",
       "        [ -9.3117417 ,  -9.32677861,  -9.32530891],\n",
       "        [ -9.16970062,  -9.17504618,  -9.09152012],\n",
       "        [ -9.11898419,  -9.11558547,  -9.08011283],\n",
       "        [ -8.53200524,  -8.55655058,  -7.50227824],\n",
       "        [ -5.71479227,  -6.38865209,  -6.44752861],\n",
       "        [  0.        ,   0.        ,   0.        ]],\n",
       "\n",
       "       [[  0.        ,   0.        ,   0.        ],\n",
       "        [  0.        ,   0.        ,   0.        ],\n",
       "        [  0.        ,   0.        ,   0.        ],\n",
       "        [  0.        ,   0.        ,   0.        ],\n",
       "        [ -3.57705491,  -3.66009015,  -3.66009015],\n",
       "        [ -6.35541629,  -8.93795811,  -8.74617809],\n",
       "        [ -8.23816624,  -9.43224664,  -9.47687441],\n",
       "        [ -9.67558573,  -8.91386633,  -9.69155267],\n",
       "        [ -9.74643739,  -9.25889346,  -9.82332704],\n",
       "        [ -9.41818904,  -9.40396535,  -9.46656342],\n",
       "        [ -9.29711976,  -9.28378359,  -9.29301646],\n",
       "        [ -9.15235613,  -9.19639203,  -9.15565079],\n",
       "        [ -8.83987807,  -8.8335337 ,  -8.37197681],\n",
       "        [  0.        ,   0.        ,   0.        ],\n",
       "        [  0.        ,   0.        ,   0.        ]],\n",
       "\n",
       "       [[  0.        ,   0.        ,   0.        ],\n",
       "        [  0.        ,   0.        ,   0.        ],\n",
       "        [  0.        ,   0.        ,   0.        ],\n",
       "        [  0.        ,   0.        ,   0.        ],\n",
       "        [  0.        ,   0.        ,   0.        ],\n",
       "        [ -9.23542475,  -9.24438261,  -9.23056405],\n",
       "        [ -9.76955943,  -9.92688084,  -9.92627282],\n",
       "        [ -9.88696057,  -9.95306395,  -9.92459161],\n",
       "        [ -9.9131069 ,  -9.91385356,  -9.91097461],\n",
       "        [ -9.65092811,  -9.70562747,  -9.73074711],\n",
       "        [ -9.42729184,  -9.44007113,  -9.41413025],\n",
       "        [ -9.25345626,  -9.22289592,  -9.20270607],\n",
       "        [ -8.79383405,  -8.80530318,  -8.48582135],\n",
       "        [  0.        ,   0.        ,   0.        ],\n",
       "        [  0.        ,   0.        ,   0.        ]],\n",
       "\n",
       "       [[  0.        ,   0.        ,   0.        ],\n",
       "        [  0.        ,   0.        ,   0.        ],\n",
       "        [  0.        ,   0.        ,   0.        ],\n",
       "        [  0.        ,   0.        ,   0.        ],\n",
       "        [  0.        ,   0.        ,   0.        ],\n",
       "        [ -0.25      ,  -0.25      ,   0.        ],\n",
       "        [ -9.97129166,  -9.97168666,  -9.9718256 ],\n",
       "        [ -9.97982277,  -9.98327197,  -9.98321381],\n",
       "        [ -9.97079018,  -9.97205848,  -9.97110366],\n",
       "        [ -9.75489255,  -9.72920841,  -9.72480756],\n",
       "        [ -9.57006905,  -9.47276858,  -9.48278524],\n",
       "        [ -9.30719457,  -9.278655  ,  -9.27726541],\n",
       "        [ -8.96064522,  -2.31518001,  -6.65775786],\n",
       "        [  0.        ,   0.        ,   0.        ],\n",
       "        [  0.        ,   0.        ,   0.        ]],\n",
       "\n",
       "       [[  0.        ,   0.        ,   0.        ],\n",
       "        [  0.        ,   0.        ,   0.        ],\n",
       "        [  0.        ,   0.        ,   0.        ],\n",
       "        [  0.        ,   0.        ,   0.        ],\n",
       "        [  0.        ,   0.        ,   0.        ],\n",
       "        [  0.        ,   0.        ,   0.        ],\n",
       "        [ -2.4307862 ,  -2.23670379,  -2.99238598],\n",
       "        [ -9.98160855,  -9.98160694,  -9.98189663],\n",
       "        [ -9.95000801,  -9.93053558,  -9.8420002 ],\n",
       "        [ -9.7529247 ,  -9.75652829,  -9.75891755],\n",
       "        [ -9.58841551,  -9.51823826,  -9.51512346],\n",
       "        [ -9.47944502,  -9.31222164,  -9.3167502 ],\n",
       "        [  0.        ,   0.        ,   0.        ],\n",
       "        [  0.        ,   0.        ,   0.        ],\n",
       "        [  0.        ,   0.        ,   0.        ]],\n",
       "\n",
       "       [[  0.        ,   0.        ,   0.        ],\n",
       "        [  0.        ,   0.        ,   0.        ],\n",
       "        [  0.        ,   0.        ,   0.        ],\n",
       "        [  0.        ,   0.        ,   0.        ],\n",
       "        [  0.        ,   0.        ,   0.        ],\n",
       "        [  0.        ,   0.        ,   0.        ],\n",
       "        [  0.        ,   0.        ,   0.        ],\n",
       "        [  0.        ,   0.        ,   0.        ],\n",
       "        [  0.        ,   0.        ,   0.        ],\n",
       "        [  0.        ,   0.        ,   0.        ],\n",
       "        [  0.        ,   0.        ,   0.        ],\n",
       "        [  0.        ,   0.        ,   0.        ],\n",
       "        [  0.        ,   0.        ,   0.        ],\n",
       "        [  0.        ,   0.        ,   0.        ],\n",
       "        [  0.        ,   0.        ,   0.        ]]])"
      ]
     },
     "execution_count": 24,
     "metadata": {},
     "output_type": "execute_result"
    }
   ],
   "source": [
    "Qtable_mountain_car"
   ]
  },
  {
   "cell_type": "markdown",
   "metadata": {
    "id": "mqBh4LKEsbAW"
   },
   "source": [
    "## Avaliar o Treinamento do Agente"
   ]
  },
  {
   "cell_type": "code",
   "execution_count": 25,
   "metadata": {
    "id": "aZssSDaoyQf8"
   },
   "outputs": [],
   "source": [
    "def evaluate_agent(env, max_steps, n_eval_episodes, QTable):\n",
    "    \"\"\"\n",
    "    Avalie o agente para episódios ``n_eval_episodes`` e retorne recompensa média, padrão de recompensa, distribuição de recompensas e outros percentis.\n",
    "    :param env: O ambiente de avaliação\n",
    "    :param n_eval_episodes: Número de episódios para avaliar o agente\n",
    "    :param QTable: A tabela Q\n",
    "    \"\"\"\n",
    "    episode_rewards = []\n",
    "    for episode in tqdm(range(n_eval_episodes)):\n",
    "        state = env.reset()\n",
    "        step = 0\n",
    "        done = False\n",
    "        total_rewards_ep = 0\n",
    "\n",
    "        for step in range(max_steps):\n",
    "            # Tome a ação (índice) que tem a recompensa futura máxima esperada dado aquele estado\n",
    "            action = greedy_policy(QTable, state)\n",
    "            new_state, reward, done, info = env.step(action)\n",
    "            total_rewards_ep += reward\n",
    "            if done:\n",
    "                break\n",
    "            state = new_state\n",
    "        episode_rewards.append(total_rewards_ep)\n",
    "\n",
    "    mean_reward = np.mean(episode_rewards)\n",
    "    std_reward = np.std(episode_rewards)\n",
    "\n",
    "    # Plotar a distribuição de recompensas\n",
    "    plt.hist(episode_rewards, bins = 25, edgecolor = 'k')\n",
    "    plt.title(\"Distribuição de Recompensas\")\n",
    "    plt.xlabel(\"Recompensa\")\n",
    "    plt.ylabel(\"Frequência\")\n",
    "    plt.show()\n",
    "\n",
    "    # Calcular outros percentis, por exemplo, o 25º, 50º e 75º percentis\n",
    "    percentiles = np.percentile(episode_rewards, [25, 50, 75])\n",
    "\n",
    "    return mean_reward, std_reward, percentiles"
   ]
  },
  {
   "cell_type": "code",
   "execution_count": 26,
   "metadata": {
    "colab": {
     "base_uri": "https://localhost:8080/",
     "height": 591,
     "referenced_widgets": [
      "45fc3e399cf9436983994e04fb638794",
      "a4a61ae081e94df6946867be34305933",
      "770af9dc4f7c47e7a54918b503baccbc",
      "759c985d1a874073bbc7bb55d92cb176",
      "eb526a2a5ac645e3aa61f08fa63125b5",
      "197b894de9424c91bddd12666d325f44",
      "e4e281488a4c48ab918cfa000a2c79e9",
      "512bea3b41354939ab01563ce637df71",
      "466a87d9de5446f1bbca27bcec2ee206",
      "34354de56b434e0fa2407a5fd2e62b3c",
      "1df2869cf61a45a5a28b2b14ace854b5"
     ]
    },
    "id": "0_eM58a9yTMi",
    "outputId": "acae48db-18bb-4698-c160-8b633ec63c1f"
   },
   "outputs": [
    {
     "data": {
      "application/vnd.jupyter.widget-view+json": {
       "model_id": "45fc3e399cf9436983994e04fb638794",
       "version_major": 2,
       "version_minor": 0
      },
      "text/plain": [
       "100%          1500/1500 [00:21<00:00, 76.01it/s]"
      ]
     },
     "metadata": {},
     "output_type": "display_data"
    },
    {
     "data": {
      "image/png": "[encoded data removed]",
      "text/plain": [
       "<Figure size 640x480 with 1 Axes>"
      ]
     },
     "metadata": {},
     "output_type": "display_data"
    },
    {
     "name": "stdout",
     "output_type": "stream",
     "text": [
      "\n",
      "Recompensa média=-153.04 +/- 10.40\n",
      "1º Quartil: -157.00\n",
      "Mediana (2º Quartil): -155.00\n",
      "3º Quartil: -152.00\n"
     ]
    }
   ],
   "source": [
    "# Evaluate our Agent\n",
    "mean_reward, std_reward, percentiles = evaluate_agent(env, max_steps, 1500, Qtable_mountain_car)\n",
    "\n",
    "print(f\"\\nRecompensa média={mean_reward:.2f} +/- {std_reward:.2f}\")\n",
    "print(f\"1º Quartil: {percentiles[0]:.2f}\")\n",
    "print(f\"Mediana (2º Quartil): {percentiles[1]:.2f}\")\n",
    "print(f\"3º Quartil: {percentiles[2]:.2f}\")"
   ]
  },
  {
   "cell_type": "markdown",
   "metadata": {
    "id": "U_oFn-Xw3QEQ"
   },
   "source": [
    "Uma recompensa média de -153.04 com um desvio padrão de 10.40 é um resultado que entendemos ser promissor para o desafio proposto do Mountain Car.\n",
    "\n",
    "Nossa leitura é que o agente aprendeu uma política eficaz que faz com que ele consiga alcançar o objetivo (a bandeira) dentro do limite máximo de passos (200) após uma série de execuções, neste caso 1500 episódios.\n",
    "\n",
    "A recompensa média negativa é esperada para o ambiente Mountain Car, uma vez que, além de cada passo ser atribuida uma recompensa -1, o agente precisa superar a gravidade e a inércia para alcançar a bandeira, o que é uma tarefa desafiadora e demanda vários passos. O desvio padrão mostra que existe alguma variabilidade nas recompensas, o que é típico para problemas de aprendizado por reforço, mas ainda assim, o agente parece ser consistente em seu desempenho."
   ]
  },
  {
   "cell_type": "markdown",
   "metadata": {
    "id": "QZ5LrR-joIHD"
   },
   "source": [
    "#### Não modifique essa parte\n"
   ]
  },
  {
   "cell_type": "code",
   "execution_count": 27,
   "metadata": {
    "id": "Qo57HBn3W74O"
   },
   "outputs": [],
   "source": [
    "def record_video(env, Qtable, out_directory, fps=1):\n",
    "  \"\"\"\n",
    "   Gerar um vídeo de replay do agente\n",
    "   :param env\n",
    "   :param Qtable: Qtable do nosso agente\n",
    "   :param out_directory\n",
    "   :param fps: quantos quadros por segundo (com taxi-v3 e frozenlake-v1 usamos 1)\n",
    "   \"\"\"\n",
    "  images = []\n",
    "  done = False\n",
    "  state = env.reset()\n",
    "  img = env.render(mode='rgb_array')\n",
    "  images.append(img)\n",
    "\n",
    "  while not done:\n",
    "    # Tome a ação (índice) que tem a recompensa futura máxima esperada dado aquele estado\n",
    "    position, velocity = mapear_obs(state)\n",
    "    action = np.argmax(Qtable[position][velocity][:])\n",
    "    state, reward, done, info = env.step(action) # Colocamos diretamente next_state = state para a lógica de gravação\n",
    "    img = env.render(mode='rgb_array')\n",
    "    images.append(img)\n",
    "  imageio.mimsave(out_directory, [np.array(img) for i, img in enumerate(images)], fps=fps)"
   ]
  },
  {
   "cell_type": "code",
   "execution_count": 28,
   "metadata": {
    "colab": {
     "base_uri": "https://localhost:8080/"
    },
    "id": "PKrxycyWylq3",
    "outputId": "9442acf2-69f6-4bfb-fcdf-b06474fdb26d"
   },
   "outputs": [
    {
     "name": "stderr",
     "output_type": "stream",
     "text": [
      "WARNING:imageio_ffmpeg:IMAGEIO FFMPEG_WRITER WARNING: input image is not divisible by macro_block_size=16, resizing from (600, 400) to (608, 400) to ensure video compatibility with most codecs and players. To prevent resizing, make your input image divisible by the macro_block_size or set the macro_block_size to 1 (risking incompatibility).\n"
     ]
    }
   ],
   "source": [
    "video_path =  \"replay.mp4\"\n",
    "record_video(env, Qtable_mountain_car, video_path, 2)"
   ]
  },
  {
   "cell_type": "code",
   "execution_count": 29,
   "metadata": {
    "colab": {
     "base_uri": "https://localhost:8080/",
     "height": 285
    },
    "id": "nFxpQ-ZP2iPF",
    "outputId": "759a28e6-e14f-4266-c9ea-5cc355865ee7"
   },
   "outputs": [
    {
     "data": {
      "text/html": [
       "\n",
       "<video width=400 controls>\n",
       "      <source src=\"data:video/mp4;base64,AAAAIGZ0eXBpc29tAAACAGlzb21pc28yYXZjMW1wNDEAAAAIZnJlZQAAykNtZGF0AAACrQYF//+p3EXpvebZSLeWLNgg2SPu73gyNjQgLSBjb3JlIDE1OSByMjk5MSAxNzcxYjU1IC0gSC4yNjQvTVBFRy00IEFWQyBjb2RlYyAtIENvcHlsZWZ0IDIwMDMtMjAxOSAtIGh0dHA6Ly93d3cudmlkZW9sYW4ub3JnL3gyNjQuaHRtbCAtIG9wdGlvbnM6IGNhYmFjPTEgcmVmPTMgZGVibG9jaz0xOjA6MCBhbmFseXNlPTB4MzoweDExMyBtZT1oZXggc3VibWU9NyBwc3k9MSBwc3lfcmQ9MS4wMDowLjAwIG1peGVkX3JlZj0xIG1lX3JhbmdlPTE2IGNocm9tYV9tZT0xIHRyZWxsaXM9MSA4eDhkY3Q9MSBjcW09MCBkZWFkem9uZT0yMSwxMSBmYXN0X3Bza2lwPTEgY2hyb21hX3FwX29mZnNldD0tMiB0aHJlYWRzPTMgbG9va2FoZWFkX3RocmVhZHM9MSBzbGljZWRfdGhyZWFkcz0wIG5yPTAgZGVjaW1hdGU9MSBpbnRlcmxhY2VkPTAgYmx1cmF5X2NvbXBhdD0wIGNvbnN0cmFpbmVkX2ludHJhPTAgYmZyYW1lcz0zIGJfcHlyYW1pZD0yIGJfYWRhcHQ9MSBiX2JpYXM9MCBkaXJlY3Q9MSB3ZWlnaHRiPTEgb3Blbl9nb3A9MCB3ZWlnaHRwPTIga2V5aW50PTI1MCBrZXlpbnRfbWluPTIgc2NlbmVjdXQ9NDAgaW50cmFfcmVmcmVzaD0wIHJjX2xvb2thaGVhZD00MCByYz1jcmYgbWJ0cmVlPTEgY3JmPTIzLjAgcWNvbXA9MC42MCBxcG1pbj0wIHFwbWF4PTY5IHFwc3RlcD00IGlwX3JhdGlvPTEuNDAgYXE9MToxLjAwAIAAABQJZYiEABb//vfTP8yy6/c5teOo96KeJl9DdSUBm5bE7TqAAAADAAADAA1xNY1kWyJWyYv2PTiVdG9xvXOITrzG9XO9AqqykXAAABaO+sHdtesG23Dm1BEmE1kuCmyDRhGrgf/iJI4Yhq7S80eJi0vX3UP96QzEYKhsJ+IIdA/RIZyd8O7pIGPSJ5xvr/xWFgTyTJRh6uucFZzkxeaeoNbR4S+hRvhQNnLPl6xSwSVPABmACTdSVJlvcySu5eyJwqPpr3DUZDndeqV5M3Z7Hepafcco8FvjpODOuuGq7TNJ1hYxEd8+toOed+Rg0sFlPOu48ucyBCt3y2Se6OO8Aqez5E3SWUxx8gCCLvT0kPACqGSDX4s3Lfx1FWs2V61a4uEh1jMzynkC0AN+3HoH7zuIudSwhnjbQ5KCvztsXW/MDMzli6UMiO/CtEZJFBQJrOmx1ggU3iP8wwBxY4zKYY3cW6oAAZSQLsaqD1lm5+6976Nd6DrQz4QT+VpKNxNy1tAG1MC28wpPDZr3zaQArNn7sidj2PXt0xxtA2M0HoVDya+TGUQWkug+GVyB2Du8wPHDmHAAncThTJI6CPpjGyS0BaosgfNzuEJA8xGXNHbidNGrMN8Q6qGSTmC+IUArGjDaBPzFeuNwPc9vobyD9uX8/qLVOlHWY9l2lA6TZv1wJw4CDe9Lqw4/AwYu2c96mQhnk/KhGKpjVE1fE9jREljPP2JeF6UQVG9vMyVi9yXVgY+Awd6AS0hc82o/2fcVx6UY6HoOVf3JiVqeJqZTUvCsh1sFkXQb7QkQZ5XVmaQrxzbWxXHgHpM6llOWPVVBmpJVT0UZ5KZYBrQzeJJikW80LAxb0vo/NGnHEtoRrD/YIeUTcKrX9reZTZlRm4o+10ksSpEHJWSoMfgT9KXGlnIv4PoUWQiCytr9bm/uw3M+DbVWSxzG6rbleu2DdXLpjnWQB9ovVNIJS0UIlxvhxD/tveBf9U2ImqlvoNMq0Ay/GbPFP4oohYktfFHJdUdqBXOz+dG94lFfidZUxmWw5H0l/G0rL+BXMJf5LPh4k0VAw9IqjHkp8UkCMGK/DH6p7dAOtFJI+IN5zPttOwwa5xf1QD9+qDdyHzyRu7rAP9aF00rcmUJk6gRHycWqvYILlBiQIJGZERCtzALm80sULIjvJgLDmPOB4CuqAkmVdEwaVYQfP9hZ0adKId9JhOii/0O8VXd4oYwC9eRmx40nqJHqnyPf2MuTJ0YHn+BbHuEey7xbRBYfZzWjpToFQw9iRCST5g+0UvjPzen9iZ2VgqU+jam4STv+zc54JtpfkrhuPSE5jOekaeEGGtXXdzkJWcDLEel0V5VD/J4FZwrInltlnTC6derb6F83V8FWOsTdMPKk4bL3uWGkf93/0lvA+cngzLkax9CLqgcgG0H3BJWBX1nYxmQ69iPA0bZOmRLloWJCk7iA4OxnaAQRxBSkrMP8rx56wGazaS0Cixy1MPchDEMU/C9CjpQGKcT9rIgpwgHbnmEY7+a2X0Zcjf/NibxLp+pfUbJS4HxFybMJiOUXGAAsLfpgtTSB5fr9AHYuUucaMhILNiqw0SX32LBkCenW6sGj1eZg09MXlRqv7pa/OIEgc/BYe93OkfbK7D48APaBSRsBQ4Ub2lNkelohBoQU1KyQRMQx5QQ26Ewi8NRRkeJk02n6xZGB/oVxmMf6r7dsGe45TcD5dBPs0piuPO4n+ArQp+TUmNiQGh7oGz+kk2XC/oYIGXDoqgU78VKdICrapaSwmf7iOveayoHfUbfX3oQrENdHxLzHrySdC//JD9j9wK7QNETaetf/GGYN5dUa1eMBvO6tFfQwjxEkTxt2/ZAaibEzRfVhexbrqN0Qvr2MW9kLdxQkFRWAcismVUrXHr5oS/QbWcwT3i/ykTitequm4/z83wL9649CB9FlrKH1UL+DsGSHpI1QjArI3u8WUweYPAgHqodLCkp2BARMHmNt1t+0kaC+OY05B3Xe1YrX/V0Ymysm3eCm5HRfkHz6gV82SI/HlChtkGenbONnA/YtFmo09upKfH6TpwFeofOvEn9X5GMou7ss8frXiA+aDjVfgwBfBuBONOGBa/AXIJCoC6xBxIkcorqXfmq0bgJWY9MoivD5ELkWtpAPaqds+U0XW5/K1h03hQMsgEouLgGw6HMM2SfVembgvGWMH3x9ytv/uLbtnkUHkWtCIN4ISXq/0wzrv/NfmJ1T09WbsyhPcTyscgMN18sVouVqwbZkniVWAfzK/q2GLDIJkQJC1vBbyuf/lp83LtY0o0Wz1/Z0dVh/9X/9s7QdbnABuYrKR5PMua/XtQ0LLeB321bYuMLBWFVaNbFal5JJ2GZ1kD1pDoZu7riNkiy/BbMH/FUV6l2kZgmUYfsymKnDY9pfGp5GP5vfF5IcM+in34XgBnLZ/C69/IbjuSa61Pzy0nwr24eVuG87jbnLek7YNrQA87FkcdBZkIjEN6lnke+RLBqTk6Qs6695RhLgC/70bfbG8OWPcIpoDbD6dpr1ces8POeE7bn7WF5cTorAH1/tSDIWFQDy4/fYj7iZJg5zsIP2dxBPayPUX9A0glwLwR4xTs3iEtIlaRESUpTRn2vpTiMmIUAZTZVhlbO/JGOkgM0T/dqY+2LiL3LbARa0ZMfuMOuTBEg4RU3h5rqebKEuZSlJk3M60fFX0agwa/KLa69ZcWOF57t78FwBVvaSw2DzYC5g7WZqtgTcCrNinAHl7tqsR8I1GgTUNQVenjd4LOgLNLjVkbipDfD0vo5kP23mrNUFaRrHGx0TFM/fmxVdz7q/sEc/p/BnBjXLbFh6HnrXYUJDMqtbicoeEK0MTPYuirT40VMgH4ffVA9/IVjUIU8GdQLdHqmcOUCltZzBBqephjmUQbWz2dIbAgvpxbODMuFpFgHAwFYL22Ktzu37VhacY4i8rZDee92Ls4A7exMDYbXtqRx80LOrIn/lwFOCOrvuvY9JbyNyzbCAQqcMSjLXuIBHnhyl0+rGPPNNU648DUm+MSzMWWl6gPdB8wJK27Drr4GjkjXw8QJKXUo1YvbwQGNmvHowqOKzAtuyghwUnu7yPe7smUvstoWiJkaCyPutUM2IOxoP2N7sM/l6TzrK0HWXBA8VnCcBd8IBxLLj7QkptnEU8nHiion11LiB1qHuye9o7l8w3BVXjH4nBZAAEajYV13WR6IIeCUU45zn2hgpZzGsJCEPBYCG7hhLElS1dOyD5GrIrG1Qhs8VJxcE0Z7MPM+Avf/gT31k/wLyHLfFMKiXHw2CfMm1MnYlAIv5iT4IoCuD2BZZjLccaxg7Kpy6c1e9KyI8F27bnzY/sGz0qaIkEXNDthvvh3d268G/zTbvljf1yX7u4Pc7jr6pPnjqh14hgmhV0YLzIapDLriA8NgB75X877KzVyXprkTFC49dK6nsbN2xXwUHbcTCah01P5N8Opfy3Bxszly6gGRUVGkQHI6gKuuKfvqYf/t2wTQB0hwg8GjYbby8L9r7/hQ95zMHAiRTjqYwEP21X/nNkMObXXQJ1RjZqe7oFaxk7To2+o6JxG2QnWRm9wy6+xIy2xL10eyrI8TInbXVFyI0nGdaHWR3oqnNI+o2EmWRr6cDGIdDKguugmF2KOYiX678XqgWQOkQYvtle69PobBlNJdB37pQChDTMcgxhY/S1kbmkyyLft16aSOmohszdiqly6Rf0fD11iq7S2YLVt9t/hKIwcnMfds/C1yJKHb2zngcP+3tbfhXMae8UFJXhhrA/iD4niIpXllNegbJTk63zJoDtbUN1lwgPpdt8ygadfXxbMZQ9Vblwlmwssv+XCy745j/Uk1GH8OtvMvMJmHYbK9YWqSTzZuMKfKx8XA2f/03t9rq08P37xXbvKzWlf9w2Q73bnw6zs/4kNGTbjgwLt/shgG941sUl6KBUjI7noxFYHw+3Sq+RJVWAVOwdqyAgvB+Wxh7d+5cmlBzGk/cdU0fntaDkO9FzQG4+o56vbbDyCwcptaqvW9Wp8bv5MDgEZ4B6811DxzV94oN0rBW89szPwGTabwgaFfjfAfK2C6QTvGop9EqemGYDktkWzDE3S6Nm4CYajhY5OFlttPUh+JjZhMlo3D/cxCEEDJ4hvXnD+jMnKHobt9Btw/OO0EQfpOk0m0on32qxeN8ixpWFHfA32EAr8oWZ234n9ThB4EXHkHOM7l/oXLwM1yNKHY6cpSpQp6f0GMQE4l+ZHZ1g82K8q2trfofjhe/cg7cQimRVksSKQvsuSR0mMLFSMgsZsplnoaSRS4hKogdy+MhOVHgDLSNqvfqp2HAX5phcx/sIWRXxGSSxKwS+5+6+8QisvgdzcStfzCey+S4sAu4l1qOOm64DRi0ew0swBrxjuzmFhKYQjbVecVwNY+R+Rf9Y/A2R+lKAGhrxdhtA63gWrg7VTc/9Xvk066Xpc+akPSxDfnurR0NTx/vqqF3sXYtpcIFyHzmSrhzf7PHQKnuqJRz8JNtNiz+hI2zemVW84V9LDFFVV9QR4a0vMJeFFAIxw67LulNXTurp/rRP2UzlwAJ81KguF7XvJEJ0oDD7rFzDU5CBGKBjejIoXKk6XT0AioNBtNx+3HaVhFChpM/bho/rVg+MeSxTczC2jEods7tTC4ITOD3Tn3Gl1pAymCJCGM3V5AU3Eu0xqSiWibIAXSGwrtcEem15a2p88wu9Q0CrJkbCtrhVnRarKpgBhzVwNUOdasfLIsfJJz1Ih08uBygVe6ly7LhBcabECV/F8ADmIyjvScGDReb29BieLpAdZycw1BE0zJZ5kbKeBMjgCQ6vYGk3HeA1CMtjCcP7m+jefKEvpxfCKiQuj8UiRah8zBh3hWufj9zSew0Tpwub5ngYXRmf6qTFDI92mEgjGEUdMd+mOR62pwjjgQF51yp4DHW0sGs4ewbyS8CCnL0BuGnWDAF/da/ZuGERayPcaIdacDtYFWNSst2Cpl5xmvjR7la+dj6fuxFv9xnhM9s//rsdyx0BW62LSvbMDoIS8klmStqV+0gHcNdNnH49KU8egTCYVlsfIlMvuH7RnBFZcLcAla3iraP0QUvlDCHFvfQVxpI+8O6XfckRMBqsyk4AyjpPjuNNHkrJAhbV+xCECI7T9DCC912lWxToCKwouckmI7fv2Jk2yQITQS7y0uidf1IjUbwFcQ0l1hFkhxH+H1MWiS5DIAdDap/7ggxHPf6kM4CbfqSBbO+nGhh7Ua8QO7HTNtxIw/NjAeBDIQm7OjmhqNgdK3L9GRK5B9Uu1YPwpjTstChKtw1xP4dBXTiSvM5PO56qJgo7vI1eSJYK/RDoOuqQjt8zj+g3X/uGbHkaYRTi4Oe7TPGsyxLnBYmT798BYtapO3cTx6f+CMmqWMlcki1H9MNyP+C/7zIL3E/Q+WQdEl4j7yvT07yzX+yMmAANvXmNOUbmDiM0SY098ZgK7ze11nQ0Ck9+vMykDVosQ55+rePJx48dtye0/L7Z0NPxy5ESfbOrB5viuuk/V/tH9MmkgdvQ3ikZmQZ/V6tNPJj4AViXr9Pi8z1BYkd70H//gIKQdQCBcjN0nUiqhIlXKGq/u7qnCzMbWJzBelHuNLNT8plZQfTsid1UNYbJDqZFCrhhszNA7hE4cTHPeo74n9N03HEkxaVI6qHyCO020LVpg0OdguK13BrYFP4nXg7qwVMYhJzuwb8xwlINXCKj4LOzo6ktj0p/nlDrXWr9tJ5fh+ohbjMQ+zcO119Ij/1bIlX41dfjYxrwijNTQ5AY4kLI9eO9JRZ4oVNf78JLH0HI2iXLPf52XpQ9K6yzCYsWLZJL6vtx6Bue8Ei7AILlqZvy/fn74KoQbRaNnoG5ovFoyXF6YZGCIFFW94LXqOZVFzf3WDmHh3aYuFMjfa009b2IxwwVPEOs4GJqNp29VRG0r52cWE51xUkAYoLyWzlitCT6S0bEWOBEWsDCpNGWo/Qd+bPCG1b+1xkuYyNp5hJGcJFnXPddCm6/fcYV5itUURDm+OM7DxnRKJK1u16BipCh2jzrjpDrIjcD8fnC0bqYnmoinPaPXdbaw/HxoS7SDDw0XuMkxfi3V1jSwpfZeVi813W8y6Pm4SwO14psaLFltM2+gN60y0qrg9Bt1v8XWGcslISgcOCwPluzgeyey01m/FCYuRjBkh+R+gAByVpoaoBCAM+4BEK3aSQKahMXG9SUO2aTdaPVyNh2Wr6A6GPdLz1MOo0/CT4Lc7VIFxxD73b7f3CKiaPKY21ye3gyYcbInC+5sgWPN14L5rhD+v+C25IK/EhY0Tgh9chgdX/abfnS8JVlKUGKTzseGMkN4rlKWQ6eJBMxKPQfqJqZ4wFaW0n1zrSQ0LfmYSji6JrdrNC4iyupGSRaHfxASvdwbh/Gf7BZyA+a1j8V4/QJP8VCcWyDZwjvR68Ll2UUrvKgKsKsnBde533e/MjDVdtDvpjG6zw0ia+ATY5g0sQDWJ4yRSTfwPrBWUbI4gOaZfRnm9y6iinhvjj/zwgdjUfzblR/rVK3B4u4MajIntevEnXzyX6ZJJtUXoWMmqXXr6w8iGgzRQ3dlUHvYb5bfZuFhmM82B3+K1JE+4Z0H8/072JpzA5qvorOU+Jz1+7TgErAZCzbs6R9AKOFo4i7xqnCunYEUQdjC1woh7ZneO32Gi0+VHrwoy3bQOBZpLilX2f7tkhK66DaY8nFz22COMjWnKVXYiFkzzgLT7Dxo03ZjYa6vUIEx1arxcc7/XO6DOs7AyUrLG9ccAMCMWS07qeEI163lS2nz9I5audngMq1A+jBMuumWSgATXfN0AAFfEAAAF+QZokbEFf/talUAAAAwAArv1tBfwpzQKFcKAGLaCNk0OwdPXXR03rbeaUiPFdbd+djinwD1rYvcRG42trDiy7gJviiLLGGFVeYg+Sa9VHBggf3Vv/cnq7e7zPSMVf/gO1Jtgn/qFsEjl7HzBG9nhPF1PfdUg+Kxr6V4DalWasn14CWJh/h++DzvRHNicv59zUq9jlDfpoOisddBdsy2kFvVu/PredSet3JteFw46i1hGc0pwk0uHxbKYQvP+oLMflkMAYDj6ENOM++opr+TUn9SXsEDiTg6/GCCjLuJ5ldbQpwSVzLMLTYgzw6FerU8tXQvTv5HlMdXxOTozW8rPUv/uCWjcAFPwNaxiMS4kEisiOeFTiwdT3RzNK8zPsSX4b7SOTOdBmdikOINsTOoi5dT+HSr+5CW1dlgnbz6uYqF2uAV8z4k2d8LDaNLNaMIV/EE+b+cBsFIqJgEkyTIcAUQC4R7QW7eJD88hwo/b/ZG16sL9Yf2QvU4H6vPZtdQAAALRBnkJ4gp8AAAMAAAMA7N7hmRZQECMGvlABspzXIyWjmRSqXtyK91O2Y/J/jf+AR4C1XW9/U279Ff+QByTyXUm9vzYDm8IT8hbNJwQRKhQ15S+0hi6waon2s4uEwCJX9NoG6fgQaANVNJCDpZslp7DYGHz6iPsj+Wsb+Jyjl8JDYGmGHve66gFWDfxy0C2/nhE/O/nf27mSI5lYyU1hVJkP9q5KWLLOSdQNE+TVVIkfL+7yvWEAAABpAZ5hdEEvAAADAAADAp+N5LuAHH3tQbJ2twhlUkP6zGUI9exye3dWlpgxxKAF9tWeGSz/9RS518iG9mwVfp5m2fO/mXWg0nmxkurlYH8N9GQS3b1TLeEyo7X6ZbnnbHNydlc9dOFODmxFAAAApgGeY2pBLwAAAwAAAwKfvOSPtJKxqksrDvjv20WoJbFgWj3eenBAo4AL6HtYhfvu8tSe2cb5a8hbWL6ardyKmcfLRi0KLI1PcIqpvTLVjzjxoUwGZ86DPe0Ya9vS+T6SIbee+9TICjN1Cz76b8GXJ1hAOjSLNv6vHAb9H0WpO+R2yBZope9lZ4yv2bORGd+7EhV2ym+9MNRyrnJF2xd4U3Ox1JZvG4EAAAFfQZplSahBaJlMCCv//talUAAAAwAAqgr2++vS1AAdozShTlxrnZ/9w1tGib2IPran9D/mtoAVno3OQUfc+bccfQzYoifzFabl1S8sGoCSwYs1oxuam9Oc97EZdVamcvIUgyj1hHJaB1fmWQKP+Szkhq4EWy5zZE+42avWmebGW5cJ1az9gbIwTLJJAyAVCVvy9s1tNx1F/Y0hbLPJylfLJzJq9GrvD8HdsrfrXLVYnxiCiWQbf/S42dMoT1+diJpC3ENz5KWGdWRI2cnceaAX13y9378U05pBkamqhnPQQiyrgavW3+dA3D0JvVim4b3J4j5m/wBh73rb+APn1/YKUdu6vUNgglHL6oLz8SuK+WFTFFMR7OP4iNnQL4RSbhoHwO2kXnhyLo0R3IIwBRTNJ2BveCdlx4LzBI753sUbGAGnEV3KjRRIlS1VWhCpXRolOtMBJ7p8WXJboTfN5ED1AAABgkGahknhClJlMCCv//7WpVAAAAMAAKoIzz8k7QGAEKqCqdBYDlUtXAuzu19SoRH7+6rp+l2eZw0GyJNgm4B8TOkRn2ZMhf9cahgvvrtWtjX6t61GBpDmRbZ5MF8uqwtPEX6yVPQpe3Lx85b948CbbpF1VXFjAq8Cv8Q3RxD/zPzgTR5JBb7w4ONIlIZmdqLtHLlbFYxauDXRnYlCUdwugfuLM0Yhw6aa0mABdildIyqZDSTrk8A56Y0nvIyUwr/5/uekClKcHxvZvefW53Lpk7awLfmc3//LbzCbtSZWsceCQRPMNstv6ycq/BlQKrsCNviSxqnauitu+ZVbARH8AufTLqm4Hr5GWKKZ5PFyzyNmVGBYodo6A4U7Y0sJOZP7+KQqppmiU0bykkYxmxcFEd5Y3snU4Vz4sd3AdI28irT9xLsPA7AJzmLCs2hlU1AmBSmPSGRyb8PZLF8an1wSFVOF+LlQF3FwgFgbGt/vHaWrxAmR/g7K7pSrDVWOv62iGDopAAABOUGap0nhDomUwIK//talUAAAAwAAqharvaWa0AC6t7Nt7an0EwIUi/PNcBxno3rAbdG3dj153K+vROYfIE3WgPhB7ZMIHn+mKOupeIcnJ5Tv+JqUnAj9y379kiy2ljNkHe9CTx199xRou0iAyaNwLa3tN0O/V+B8DgQep7pLjcfgDiFMldCel86E+af3r3pfKZ2BtI3w+B3/p7FVFoIoevvK38+7/sXop9ydVsQ3oMbWYvJfneGXxd6BNy2HXiYpdNyuO4uVR6utGeKFnY37lgdiv0VHLD8Wtf4IgtvWZMcag1FeuFM5hq3Il0sjpZU6aagY22Z6bnjUaLCLPNgoJfq5ipuUeMPSQApLtTV/ryXDyVja05KNmqkGmtvp+REoeZHxJQe+0nvGA+BB/Y26kn01zaFj8m/pj8EAAAFwQZrJSeEPJlMFETwV//7WpVAAAAMAAKp9bQe8A5SR9wJ/+QAuHg3/gLwCRBJ9+CzwMWkk7gILu/+vnKi+vfoX+JpVShZWuwn3SrUHMApqiOixldcaNOdNg4NCmPTmYCxS+vJaKT3U0am0e31ts/q/ZH/B4OwxG/QUb7KclrS6Y5kG2qnZwfA0znhv2/tszvJk/mxNnDAl3ZhPqqbeYyfEYz7w1TcqXu8hL7iAWCHCqipqpbFRDPgtnZb94Gs6tty7MM+KK5ZP4rcho8NwoJUkhyfugQizm94VTMa+xZswZ9pXj6V6+X4kWVwgnkdVthRLHadn0GDz3s8C5R3DiwSZfapJljDbW4czatGyPfP1/z0EhyPg52dtg688YQ3iENs6NYNYbr3hZy0zLS0Z2M0IGK4JWLOVgE3lb4BTBganHc/1MQsSMEmxz6S5YFW2iTMTcW11em90j5x0ObgTfiLKE2mN0MLuyg6JP2QVTi/oY4AAAACjAZ7oakEvAAADAAADAotC1yvPeWMhkP91dhv46rwACHWO3GWEjyhCVvVnrLu74lhAUZk9VrZQ+sd7A5jnV5xO9UDYUOsKUnp8wjY+7xZx4A0iRoj/npclEZS1RXAxl8FnJaGFX5YXztBYQP17Xtp8g6skh0QwNudVh2QOkEML8ONx2crmBleKoiHdODCSZ/Wn5dxUc2UM7y0D7su+2L239NLKNwAAAbxBmutJ4Q8mUwU8Ff/+1qVQAAADAAChE7LVACg78xpNUQPjea3RxYBvMGZfXahi60iVtjKDa67mnOJ9cWSAK/lczSdnQFOnNiQQg2zjPr8tKqBIdyBkwb7vGh8fnEdWZjtP2yKVnwnOI6u7jDoVIaFXiO9B5ZVfNPuGJEawh4+Ss1UC39s6q0ypfNmp6/ybwsBANJAHNqCvKSVKoOGta1iC6NAAA1sb7uhlLWTjmwW6mxtICSmtQ7ueQUcnnKGGrIjsnCD2LHWt9tqMCRa+ZJuMdC6UDW6K69jnfS87J2HTqUICA8TGsK0IzSLQKs1n9TgFoNQSJYfn/aVpza0HWWAIJaFApeghxDMFbpAzryksFbXJOz/CtyedTl90qAXythWTGsF9ONQnMVlqGofZiFMx74Hwr4LJB7EqKuyL+ql+lFieH8tWxkf8pv2eOvcrd4dZRay2q4e07hZW1bEaU26YMnmItTZNtd6wlUV6ROeaWz2DG30mm+lmyXQ8uO9zPkiXTWAVzYwIYE+X7Gmdb93dLyQFjWTzi5TZYkh6MQ19cDdcr+7gJ8PNUUVAj8cBVnwaJ9fFlaRERAWoe4EAAACsAZ8KakEvAAADAAADAmoNJTFAFAD+QdyZaufOGIsQpcaB8Bsk7j0takM+nCvQiteVPHOnT3gnZek8xB/3/C8srcmscj+HT1kWaVIPZjZ3RZ3yER3lZyIS8JbWfCS/vBljGXVDyt0yxAXtVyo+lS+A1dTb0PPcuGLNK+ljgOEp/XE2hL54Bg5RQ5nMl3nrg75suYzN4dlt9lyJ0kpvyYnQmCnhBdOfy38rJHq1oAAAAVtBmwxJ4Q8mUwIK//7WpVAAAAMAAKCULdX+Ctz2UJydEHFkiXSWM49S+pxP9X5sT31AtJz4ZxmLpDditX7txj9Dam0icCBshvcDm8TNGgB2kekfqsbQOnVsRlqvX3qisg35vXmxl/oYRMg8W0/lgCAO1p5CSbEBmNZAOVybqFSfumyyfaVcpWm8L+SxOgcGSD29akljYR+d6IXUICn1aJyVGIRqmhSh/D7BNX74+pKDMYatJ2gJW0twQUPHS/tUjw45he9Exi3glf6XS3hUI4J98fKMGVCHel+kbwDc/Es8yry/Bl7saTzBrndegHX3ivvKa9bjq4RWJPGeP5BXk81JfurKHf4hEZkZi4e8/w5u5AAH9WbeukSKi6vhrSPPkwkfRWWsqBglIEJo3M07Wdx4fKZ80bfogeg6cHNR5utmBSAT6T+kdGEx+nbBZSJH80GLX/ETazsTcypQxgAAAZdBmy1J4Q8mUwIK//7WpVAAAAMAAKCU4m/gP5zdBHaTI7fsCro2fXhKFwaZtSVuzpvFK1eP74Df2wB6EVWhl7ZdpyQ+6AtN+WFrginqKgglwQm4AIU/vQ6We2DTgpn680DFNbRUbnspEz/EEbQt/NuxfVeb49QXoxcwdm+jF0GsM3540uG8Y2kAJYJMRFLFKkfDElQPEnJUhLfj58+cSeMC5OnnEBVMhswex2x8hR61/zeLz/xY/2JtmZ0JsUU4Mbv6fUUmT0Q7Ck1IDuq9aYpwB50nJLrgW6l9Xc1WZ1obiu035aN+wVncbawxQ4FOys0eu+ifOSG7NnjP2u4hUvEGzfnT/HN5nYrk9VezmznVE3RrQfBB/twYHR1WE0i5jBgM1PW+gvSIalUZ32GwUHMZlLV1BQsEP7dqba8tMPPag9pProYBA4w8xmqT8Bm+MTL3B+qiLmkHHpxPpusY6G2rDBui3JF72Izv5oil7p/oBlDio2Knb4qlGwEpagXPqvtmdRbU7aH0UodkiNlcoL4p6I2L3BxuUQAAAYtBm05J4Q8mUwILf/7WpVAAAAMAAKCV7rKABGW9zow52WXcGhiFm46QjxjwwDQZyuW1JViy75Fcdg9cGL8TcgHlBdFy/xQr7aq5oVxcyyQd4O+l98ZmP5Y7xL9UGcHpF+4LcjK3uNe4OovxyjTcqZoyW3iHlfmOE/JLkYtUX2ZE3yzta9JzGkgyZJD29W0Be0O0EpkgBdUSDiG9WgBNktma2S0btCwdTxvLQ3FtZutG6QSQZ1Y8LzBTUgDPKirybFtYzRZlorHme3LhkVkVPRyunWbDlN5nyAGIwuPW7LgYYKFjNQ22wL4XsQ5TDt7xH3NS8+ZXaaM376DVfKRS2bOkYN3vY/Qrqk5Y3gymZQuMsxt4G+vT04g48zcAvrQydaIYWQKs5j8Xc30edOK/fuPFn1U+wPRPE81irDGpY9qLogLIOF7jGkejD2l7IVIHxKKR/gwhzzknakmMM6GKEoH9xJ7lcvnC72loTOgZnbHeRhE4cvIQdMja5sHdCNildl6Et5BJvKu48ISvyQAAAgFBm3BJ4Q8mUwURPBX//talUAAAAwAAoIKpqqaDQS7KG6MsyKpLLFmjslvR3c90NIUZ1o3sB4PPUx5NHbLXELBbDFBaY+acfRqM1vokHQfbZRYsgZBVuYpmv+kNqcWseku7fW1DMlU1O0Pn9o6e5wiLI5NvoQBqbNiJWg//AAuso9TCNVYT+yhUP1EhL7qRjmJk8yr63BHTuj2txxBRRhLk+WKoV6h5Bd93+ixY+JcLjD34/KbSF0g2bzjzJNjlsgX/c6dsC48xLId88PB4tKVIK2mDrWYlEKkhSaG6WQNLt9cPDoB+SrgcforqE6DOkCnCvKFcOqsHGwnv1Vq5FSahktS0ZXGYFT4snPF8DSB1cuM+g2LVGQT+S7HO//y2W+ScJP5jzkTdBrOHWdU2zFnf4XA5w/feLlge7LimnTEAzWvBOLHCzpt9p6zpcERJf159BkNDODOlDZu6eIAcd3x5PUdN10GuA88brEBdRRJRO58CjhoVhtvvFiKmhbdqYCGow2W9zxgSUaT4XGLcpxumc+iFy/Y23PP0+H3xZjSdvk6AwBUrFV64htmaRE33+cjnhHse+GlkFBOlIGEsFCGuPqMCBMs5WrX4Dc7LzAVFvEI0iux8KXHqUk/xmTdV6+6nORBm4KEM5GWSMcgZu1Cixh7My/6n/7sh1n079GvAPaEAAADiAZ+PakEvAAADAAADAmgiw15Y8k8Qd4vYAIeCCUW8Mxsm9n3XbkSdi8ygykEu0tI5gtHoXdSDdbXUU8Ynga5clx/h2fD/9KlQhA0cJspxwvw6QnmXeT6OnbZq99ncgBc+ohD1bzMHRhUo5aeT/008TvT+6J497YisM5Em1N48nQQOna01iCVg8rcOeaSGogFD2sEDK9xgM38a64zdgO+mrvOv7tIld3kpoLmAhkGOtJGrlxvGOmIlH3xMnZAzRUgXpTOZH3xRRwhC69wWUD9ovUW/0ieZjPc/SdFLs/mAOOsTQgAAAg9Bm5JJ4Q8mUwU8Ff/+1qVQAAADAAGL8wtT2M3ABGW/lJPenhrDKSRGz6SBmaXl5jH4ziZwqLWCDnIym17G1SSGVeutX2zMfPzfrAf4+v1WX3QALpXnPFJFrkPUixDWUpBwyhkcHPVTxvB93RscuXD1sHs35QPzh77a5iGpLE9h4gH4nYZLuacBHX/8LGdaqmpuXjhmsVuj5rvc529C7MF7BJ9MKNZGvSBYRBXj8ncwe1hQiwRECi0JpTkTn10UyRA0R9c7nZ5o0lNUDhXF/KWXFkPEEy6LI+NsyGNS/J+CfPOeMQKYaJCA1digEOAG63Gk/Tvb5xh/LFSTJ5JiNvU+KfH/JhbU/5u5DD3s4MOeyy/MDBVLT7dOXIbcA7BieEeBELHvDoSFfiALWIkO4fSv6WWGP/TP3xbncvyvpavNqSNGpdGs3ygpJTXnP4F8sDTYExUpLXMq/kZhRmC97i2evKLnLzf7AgL/aoeunSWEFDhTcOvUhF06LJ+MCOEVtC5FGcmSNhszVs09yWckxQAtkC156iRZ97eK76sWGaaRGzwLQETGU1nB+irv391ddVwn/lAPPYIdihFKGoHoOdVTEfb3RjxXJIf2N8wp4oR5qeNoNlRIgiRaS1/BqK7g1i84i4kPfnSIQCTRcYV0Vn8u0B63krJ60nJ70Ke4vBTzCIjRTK8O3yEE7MjRpFvlRgAAAPIBn7FqQS8AAAMAAAX1zKAhSD2RKEAh/Sa3+pz9vhGh6rD1B7JpGmcyT+Q3beJYAIUhRftD1bpxf/YKzT6SG5Uxx0ilSIUTZ0LdWkBfs5fF8FSwmU3g+OwBP5BrSCtl8lxdE1unB9x32C+lVm3B+sS+HReWxJ5R71gP37ecR3VAPLaDj4+mxQNRAXCcxzRuEAvu/z48U7fid2AJmlOjgMLvOvRQdTHaIlvCXxzuCdR36ypvMY5I9sv2264L64SnYZj4JobGwHF2ugP03Wit0SxX8YidVLnlLmHO8wf4dQQErP5yYEm+U4sgOYNsRMFOH6wfiQAAAb1Bm7NJ4Q8mUwIK//7WpVAAAAMAJg8DNYmcp+fnwM2H/D6vn+5oAEtph7V+tOvZdEQdp1ROC5mUhtHvG6m5CVaZnAfOcPz3SERyr78mCHkBort10ph6afzVJl9UuXCk0wOOXz0BB8IkvskyytGEWsJYb92Wx/nq4y4WDYiBKY5UDIOu1PEcMr378OFXy1QF//kqkbV6B6sh3NHVTFsZgQF1zFYfjTIyOinxNP9LvyDtIJBrkrIeiP19V2lUG4vp+EBHaBQ8bMTTeaa2Mgl8vWKm302vaAzpkBJGBpeRTWol7aF4IClCNgDHhH3p2heNi/MI7taY4pp2Jh5DTEr2HHWtrd/gUQ/PVvjA7S+gMtIMGDfLjTl879CuEj97VxOuOS+c6Z8wRiHXVLIPSpsRI09QmeSivsT9EsM48ktPyaIm32E63FnhaopQ2xp4ubU0tQmLhA7SgT3f5sidk5/R0QUSAjkMLvyBzcKfP9G8/lNcBVLi79gbgrWDzgAI/fCahiSm8mkTT0wyweZAeQYoaxUi7MRAtAnP+ONedqa7wGIkTv0tazsbJtL9QAbussRzmJKOeK6WfgsT5o+niu0qAAABUEGb1EnhDyZTAgr//talUAAAAwABi+QOrYoAE6ZWbhmAj4jtk8BER7nvc2oIJyqxb7BomfmhClqhhu7HUvqtb7sWACb9zQQr54+3/pcrdkolyrcvPdS7yfLUS26RDfAAsB4OK1WrQ7D6Gd36PLxvJyFEnDcYV8GIVylwi5yU+B9IY384H32KjqYqmrDGHdZ6lFC0wZBK1tHy73jhRkO0soehrdvsTlTGxhVyveRpBfaYGsiJ04cLIP31gaJdLu1BN+1EkV11OyYAp/4IC34QdgwB+rn3FLQ609hky2ERS9aMln83kq43e3rKto1LPF9bhiJweiJwJSuaMhgybGS3bc9zRSXye4SMVGglxVzDEDqwiCBj8eLTJDxtAMXHm6fgI2q56mvLamOFkjjs+7Si4AUmf+fHdRcAc0yVNexMJ+7tsKw0I/sAS3hsLys+mxeSMAAAAe9Bm/ZJ4Q8mUwURPBX//talUAAAAwAD5p5R8if4CpQARi5wIuus8fjZt57Cw60r0lgz3nSFuNciofwG3EgTP0uTWZK7+XEh1RlznI7/IXYCD8P7SKuMEKOXnM1xqkq/NSBX60jbEEYspOW38j2bYMTYGQY8a2mDQTb20510d6YahOHh5fmCe66I2NtVf6ZgEDCHYn+dltzwq6ELYkv7vQL3mxkAAX1z2YOj5XhvzqX8HQ+0mpVnTamPcQ4s1z1M/Ozk1qobjiphZmIwzSbs8bJiXzyWUOxU3V7kglH+SOVE3xo9+87ezkAkclQlL5VOmYE4zpmWqRQD61GFAzK+alarBYVajbK+IsnpK+tbkE1mD8fJPZvIVVYzKmW6PAG5fFvW/Aj+YO/rmumLa/Kh0g4FEKmFXwNFeFV9oEWmCpPxNVPSysQERB+2nTApqH2ygeTrQOJpfFy/HYtow2PynNZEwRlDXngWsOlCAypx+ihVTa1/aOKscSMzGoYtMX9OK41yoaF48M9GgJ5f+lJ0/tOsKmEql0Cvlr9EZrdKpHq8TNvt4862uq0woHZWuuVtDcLGzTzMUeBM+P06+g4j/QlA06IDaMlQ0wl0pVxd+3xOHHUqIgM+mKpYKwDEZqihtlVfon0VxukXe/JNOnjXjsEAAAD7AZ4VakEvAAADAAAPK5Lr/gwgq60lWCyRu6LXvofCdYPQGRiWQIvjrT7cAF9QqpaIMjC83cYw/Z5pQRl2Mj31lWXgd0yWNft6heSroj/fvbrw4sbcXQL9z2KbwRJmALGfNCAwb0Ph2fgmaak79W+UHckLQPlb2bIAxbg8/4UWHDDGWF3MfzmmeRf/KeO5UkOa6RxZP8COMfMxWH9/t4s/5X7E/pgVZ+MGtw2Wk7D0HKI6i1Orz1q70hJrLTd+6+2AmB/jzDXo0b3M2OepKvq6GaC9XN6xlG5VnPRTYBV+lN4SkjHymNqE962avvwBZHTf+NhRoMkKRbt+/3YAAAG0QZoXSeEPJlMCC3/+1qVQAAADAAPpoNa/hAACUUQ59jYlb1X5+00He6ut9LaGYhdLXtZMJmmih57XLMaG3kV4+Nira3mtEtfWuoGdpX6q9OGKgv97Cn8IvTYNzZ7JxiJNfPwVHPGqsoO5R172rLcjQlpU7u3iX+bfRqbe8RD910qWz2pUA+5kPco+X4skqK2pd5y0raeVTwosl0vHGIhayvP9DPhytewJP9vEFFUubOPYwbkMwM3WWxHH4OKKS0W/PmbNpXtMj7UYYJdUlDLgpB+89lvAmcxjq3cimuf1Joc/IgTxypvev/tiHPy5wryflOvQCGTrebUf6t84ZbOrbWxZLPRiY1Nvazl4xwgBUprINX4W05SHLI3SVpol2APY/suYPmivu3RDlKsWcA5nTY6onQL9ypybaFmws3MEyjvMhYWM8TL7B5vwVuGpB3nQX1Kg2ScIzu6C1WBdUMq5RSPIx9Nnm4h16j1tRdWZOmfGOrEKm94JlBUyY4JeRVp5S7rk9dE9tRTLWCZRrtg3LW+nXU2sAdT2gRrgXPTrotYdHBPwFnVO8D2z0n33IfTyz4Jy7wAAAVpBmjhJ4Q8mUwILf/7WpVAAAAMAA+mfxx/nFABKsucAMZoggWWSB/zFpLXCnsDhFKVtbGlZMFBvxQgkX9HQmk3RRfnQc4twT8TfrBKj6OJEuYReklP/GDohqzTD/Svzws1qoO785VnbHc4CdzFeJr7OYKTX4k3APsRciFynqSHZmhqwWz7D/ifvHDPacHg4TH1loK9lClc0h+ccCcDCB2xaTeDEcETIl1t/yP1TRy1xu6RAXCL6neDwI0XIFS+Ma356sPE9BRAgfDlV6C+4q3sr9ddYjel54xa/k+mGdpWbesT2f1ORLdPtMQ5exYdwsKtaFziEgNiEVhmZxYtupRGiGTgwCLABNrPdFPWEXLHPAxc0SqHEmDH6ouJJF67+4u4tAh38Ek9Otp/fkqr2TsyQWdzUkjAXLU2D+Xsfac6HZWv52WDccnPrp3Lltnbq0fS1TYne4sI/K9o5AAACAEGaW0nhDyZTAgt//talUAAAAwAKVqEiqX652QAWzL2MB6PZd//4GeXwHh9P2IhPqHwDFccl6+XJXkOElZtXcs3Gk30AtqHaVr3d125dSh8z/b788YdrVQcaeiZmELBwSKEXL47eQSWh+8NG3Fwnl0ir6ZdaHkDllk4loIU/nyTuakfMNNtpyKxjZ4FFrqNtHdExvBvpyX7ryajSi4diuFMDCJgfg7sujGhwN1GFa44pSYaB/5P2CgXDrDRE8P0fpVyHSZDdXxKQvFYOYHle+Xklqf/2/670mGDvly+ozqNr3smAD1TC0mmEYJchCJieXx9aI19JZGzcP7tQHZ/7OQVXxg3LgWkG7SQhs6T0xdhYj5VL+74oYoH+RRxu7UXP/Tw0Qb4eWCavTx8EgFBnbmWhYpX/c+5VsX5YM2Pz40Cp6ANy0ShnTxszz/qIWW4KxengIP4NWe8zGmjn7cEzk1kpptyKE2E9ActkYBxOMObO5gzUDsZyxAcixFlUq6QVC4r+3SKzslUX/btZdqAE8Ujv7gZR3pD8tegd9WrYKH8L8PzS8Ez1qT5NKY4VFJSUU6gKD5DKxnyHAlrXSVRjpCXRP/qNbwAQEi43ne5F4qVLPzrwwurFo8/h5FfPg+oMlYQFbXGYlHsKSxH2fVtHlwVj6KUuermqxtiXsgLWABdUAAABIEGeeUURPBP/AAADAAAagr0uN2JH/5RlhW1QAEzqpN4n3UMoqr18eSqdYrrOCDB5jSdu1q7wt1ahh+HC6EvJxdqHHaG7VEK0LIbkU8t+Rg+WBeHRye7LlLm9sRC2Ux6Jwtn76H3iIB10ctTZxUhSLOd2ced2P7ssEzAPSUcJSRcGJxsTlzs/tLOtz8+ozXinvrBjSZnXeqJee6rDPv8IEIaBuFhVk3L4Z0NDoPUSQ1lPcGw/noEnW1q4B99HSxbiU2gngIw6wULQ7GE+AFbr1zyKBo/2nDQhnKmbIkprPD1oUGTHICshqoQ0dfk+/sXirwHdvsEAA2/wSD4/2F2kCWxGi+4VADxa4VPLujKCR+QBwFOJYesKEiAh2BczpmWZ/QAAALcBnppqQS8AAAMAACe3yFmHc7SQPfpUcNdxyTZGBDvk1PeEZWkP7ZQAaT1M+7tdIosiTVBbG5wSkavP6tPPkbv0ZcnHbcYuByhyVitcdcks5iDzldGv33aHfTmFW/1UCajpogx0qN+wBY9zBvROTtxE7NxaRSv7zQJF7qcdF5d15o3B5WoSh/auMilcF2IPpey7xNdsVt51umtEvwX5/vXOz4MMJkPmNEb++C4/8tspZoto8rCAW4AAAAHAQZqdSahBaJlMFPBb//7WpVAAAAMAGp8vKI5eKAZp2W2bTDj0GSHx9gja9inmumTcozuhFE7g3Ql0d9H8j+gZ8Sh7mWYTAq2BabHAAk4mS1JTccfgAmYQGE7dSQKHe5AebVIUhX9hgmrNw9vSraJfZTsVu9Q3rcrpuv3uoAMfTXdQ1qcienJc3QtUDa0WfxdIiZmI475uxLsSysiPZlS7/qnQD+3OwSD9pZtQLr40aDuDugy5LvypuFtPuqKj2YGyBBWfZKpTw1DMcwVrK55uKRQFibqT7LgnkAY1w9Svmc5CgkMa4i26SYb4JZNXH7sr5DpXMzbCPRSMwH7RWglZrcn3wbLi454oNc8v4ap6/FfIAvttvW7FgDnSxycqNrtl9ZW8Ws5SnLpSYM0kYKOvRWldpO1rotc8/gBXqskOs1JJ/wB7M4CbhQTNwhZ0HZjjK/5HEj6AExZfP2vM1O/dL/xGRKNn3+CDzjj+t7vTXr3wcaCwoNAET+33D7L35fi1V+lErvq94k8OxHhitSoWS3k4san+Yl/90L4kfu+nt4JfSZwHu/Iq+KtbEdI7yd1lQu7theGDaVrl7lBx7w4JoQAAAJEBnrxqQS8AAAMAAGbcy1pDJMJCoAIgLdIGdwC0S446Ug40zqkaDZy26YWTgFqhfJmXhMNtdqm/+YgPWV4M6sW7TZZjoUbkF3U0QKfkzsLF8c6thG/n7KZzr6pWU9lsAB0l9PSZLvQemZMlSyWX/UZAyTRElTWwWJxKVmq3ZBXS0vuIe2ICDX+96nhwMXKH6VbhAAABpkGav0nhClJlMFLBb/7WpVAAAAMAGqrPfFHbFAA/DIanj5wXCnj8gsDxPoXH3P1mlxiLxUZ0Xcq+sOSGDDaELfzml2HnqZGPPLHnkXOeqO5cYQV3muYJwyd6YHBB1yVDqoW/+nrLTfe7KzgEziMlhuZL0ZJVS6e1E4kCmLh74xtPWaeU4YlqPS8AYhgBX8QBs7SEwe4P8+i++9RDIRWkRB6ojkBzCecE3BzQhJleXicI3eiXB5jfgG7pv38h/MeZwejKYeOaVXza3CHVRRJGNhqy5KzH4AqleQAjnmP1uisp2lHTFqjLIxpIFWaqrxCXngc7S6o+yVMPkHiSUxSTC8V3NZr7VeerBH0/ri1cYBulwbmD7sxSacBfj1DI2g1u3YGHw46sbePsNjZLi4PjHyYhfl+RfxHKTA8D11WkDLn5Gg5ddFozyGG93+NFUTe1E00bMWU8AZERS3eiwleT3blE6WkuVW0S3VxQSDLJpYWddtdynKSgKELA1I+vGRFgIcnawFHDgFLkZXYYAczIheW67GQfF7XbKuc3idQvqN0zgFUaTPs0AAAAtAGe3mpBLwAAAwAAZs8unKutMw0G6t7yRMzKaIACETTcQUf/CuayziGMi8Jk5p2dqaEFDc4tXAl/U9RqHjMpKPFVVi/FthApf8CsNx89TZuQsfdZxBxdcJtPS+ObRPxuewbySwkQGrWrCxl5l3+Rzorqc8M+83zTJxXeO/5EksPUXO+4B3HLAUPXvC9GVFwlZbJrWrtmko2vymVRNS1fNDw72yfFzs2gXMCQow1d27pIwDogNwAAAWdBmsNJ4Q6JlMCC3/7WpVAAAAMAGotxsivm6rhyyAByLr/HBAcyD03fuhms+dpKQ9PCtG0rObpbKVuaS3/hbyzQeAD3KSsX/cueww3NcbzznRkMtaoFc8yMIOZ/2/kKv/+mE6WEk8xtJlvKR8oKNPMu7lbWOisL/GO0U7fKZ0lsdj4YkaYj7ODHt5os1bi3l2pyPH/Ut0vHxJk59+HYZAaE3BBBMOEIHVUYah5bEEH9MCPZnIE+gXpwAOEX/yKQWSXEiedYHbvP2Ymc70ei1O2MTC/TcQ+zAPzP4gJKJCnqpet5ief93tnMs9n93BvNHTyAbOqi8w9s4LeyOGjyMksUW0GUV43j85o/MeUfIyHD4XJ7Vb+N+5FuvuZ/nF8y7yvZZUIMUVRI+NVf0z893TttmhfbW34Rm9nNaSyvePaZJZtQFMyh2sHnRFQQOjiINmko9OL0weva1pmeuzOrD8q7J5Ggx5BRnQAAAM9BnuFFFTwU/wAAAwAAJJGFMWg3bP0o28mv9npfMWnRiSsACZ0h1p/CQgZWgVwD+09sQ3HEb3AlZ54TD7AEUbvTlNFO6iix4CmxH2f84PJi56ibJxMHdABUPOW0oskuJplZ/Hx9ryXVV+PPVNuIC4QXOVLAmTS1HxlKdgWti1akbhsBYdZAXeKqZEGGdBjtosw5CLZ+oakUs7IgvMp0qFjPNiuLPNVFMLRgXTK9NOMJBL4jecLAHjULInQa1QsXbzri8ZUkKxMBuOquL/v/7IoAAAAgAZ8AdEEvAAADAABm01UNgWTeCX72w6B4b8Cfs6wAoB0AAAAeAZ8CakEvAAADAABm3MoCFAC4d1NhsyPkNbzm2kp8AAABhUGbBkmoQWiZTAgt//7WpVAAAAMAGo2x02pRlAFpFhqeasKopcNnWglX8wiH1q/cEqFGMzwUllJF374wus+7T39N3rJz3hbCEV3XVfrpd4l9MXGapXAx1/hGJ/QWDBIjnD1UJM+Pb7yToES7yYY3ItS0YxMuDWbcA0qT02ybAuFmnAXg1X4qJdc4MrgZcN1K6gtR4Ebj0dXV+SFIqQfdqFay3bpm1AJnH/mSZMxmP6Yer9wdShJKIgZV21g3LfGSJjept4RbFVEowx8lLNLyEfS9qTgqbunhYDGKqkU7x8V+FiM9lZytBrWHzkU5QsUXhHkqPEWGjiYDc+nyj0b/J4baQRCXqrfvvjGTodmOlF1Ld/0irjapl/RSymi7851OmISqKByZiULkZa6JPEpYJ81ir2zbsQ5kmA3nONrfb++kzGb4x5Av8WQH6hQSyqNaIeFiyPO8pdShE2ze4aHysUA2tl2iJ8wnmWkxzgyJKQSIXtti4KHLczQwnjuORvDthubzI6OBAAAAV0GfJEURLBP/AAADAABD+p4LSmAaF+ADVC4DGpW3Gfrde8gT/QOC7NK3UvlOsRUncF+HzAR2NvLFdgktrYaUhhFy7N4QnY4OEjMgoszoJY+U5/xB6iyvgQAAAJIBn0VqQS8AAAMAAGbOYBIsjP0I1gmaVVAAiO/vHUQDMERj+CbRRoHM7MskdPGqfsG6PO9cr0peIIJS/mk8yj7xz//7hetAeGXFoAypn/3D9uQj5lYJLyo+W7VaoHMsqvHu40yZNz1/EGWK1FiqCJFwWe8jsC3ozcIJVJZoqeF9ZGt+d3Mre3lfor1Ca+fa/B+v+QAAAhpBm0hJqEFsmUwUTBb//talUAAAAwAar9k9+fpEDP6YloAEOstGEQEPHVvjNLJtR0E/zYHcQy3ZNtHrT/gZTVsvFDEfRIk5OzQwJAQtZChbwrzcZ07QWLt5C27f0SplhR+Jz6MQ3dam/Sr54CmGSouF0WKarAHzLzh8TFgfZLUUtpRDFy1IyPd1rv1oekWxvhh0j6T/NyTyQYw03MQ0EpCx6aEjoVfLrbomf2zwthbP/9yfca4hZk6hYfV6qlqrKgCYck755ejEd99G47JvBJxGNiGo688viqTcBeA9QBLkjAHLbcRsb/XEsoJqsh2eKopNvzXVeOhJg/87FsPaZtJMTSSSZGeFPBD8yCsAeFrhPsgiszN4CEo6u0/q/dBUc3/XR9NgVkBmoOakBAAkF7HVTo+CcTD4osv3BVj6geQZ4qAq4HSYJn5MTylJNzP/kpmb6m5McL5KkCCkhBZc5RzbLmpuhDl2gTIoTaiXE8rBI1WXez9mfIDG7Zu8/ZP61nLQqGvNbUG1PgbB7EC1MNhtRubyiQmp91ULmCBoKMMmuAqpXH9x2iLwx8cRl8F12wElOkTak+2lQUmN0L5dd2Dmrbcww07KPoR6kHqDZorrhXciycCcUW04WdHfq7jDBac7GxAevq3FBypQcXbXUcFU+AcheN/giBdNsYFOHEpMCBSJ530keVe/mwtb46e9Ibyo8lScEcSX6y6pAAAA7QGfZ2pBLwAAAwAAZtTKFNlO/F2aopCsAJ1o+azr89d19rhv2wIucumFGN4vJjgl4uc7Yjt70BML8lwwr4/uHs3nYfFj7+IGiTTuMvTvgCFwX8IdlSaFReBbOZ9iBYzBVywEfI0PRyIDOlp7DjKpm8Y61kaappODA0zloLYetSeGwa0qD1pbadiHnXZvBKHk/waI4qbtzsss9m/6TyrUOeNtitEoSfmM3c2EJGxtCO0bjSjnb14ux4Ij/IPO/SUTRAF2Nq5b6KJbIGeBLvDliUPqmi55NWPhZMouVM51Dy7lso8qk4n4rS/HiSe+YAAAAgdBm2pJ4QpSZTBSwW/+1qVQAAADAApf72a5U562oAPGMWgANDZB29tP0dp3W1QCVctQKPlkSHjYJ7F0l7tzGAoMmRVOtZjkuvOSM7TJENod2o18Sv0xGdtYxn71cAfZG/h5014hGyirGDXRdhsYl65fTZm+Rq5JlDOEErQflc94ehc6n22hP4nRp5lUvrE3m2Fbg5d3ndZidzji/nAeBDsjpUamUxYNp2RTGFnLQzB9XftejSiZob+/h+kXQ17YUGlRhHyDndqKWksgARp/Tl+NBp5PN/9P27BICpI/iQrVuvkOiMmYPOYLa5X3a/KFcK5aPDsoBhQUoclaAZrASBw4+DO+Dc/gXdieL4bZ4AcvLOikISZaYLT6BVXA+dLEsqw6/WwxIQUtY4X+AjK6xYwOTZdfCbAOQilD7jrycerNvgkSQFEliLDzc8UGXZzEhyftAwXPWXtvQBdyjArT9/oXuOUZrvYutqnIA8v+M2E2vamf9ipVpYC67BgmcaKCrrZyXzdIirjhc2xuH+5X3QFAO5ZwrFN24Jhsy7VPxnNtiTcaEF47tlUatAovGukzvZRMWMuUoGNsJCBkc0tmCGzp25KEfyyY1/XUx39n/mX6ZnFzsxs7emPhlKlwv75gZuszvMxctq0THpeY2CsvxWX2rQzFSdkIlAHbmgIkUDCGDuX+VeGizrAAAAEjAZ+JakEvAAADAAAnuIHUCxq3+q3cAG0jMqXDwtm9DPoRcKg+JpYk46VnqOw51iINquQCrIRmFpGq7nJ9mkwzGSvHjq+8nGAK9KTryEGeywyKklNssqFym4rAe5VYkSydHl4a2IGIiPCMOxSAEqKIPC2BM3l6lnhbpaorX8JPFtcX89cPUENkSUrKhyM4N6pXslwMmmdUCGXzI2eg84ueN3SCrVg4cucZeVwtszYtKPyW1F60Q7YdD85XxEBhmuG/hP5V33+Fzh3hjKv/yO9P5dO6+bI+mFWiOjkg8RHZ40VQbKMjVLLOQVvbFEn1gMVWjMezRB0guzysF6P0hd+2w1bf2GYgcNXSU+Moc9AITsZN3EH5jlF/D7yaH7Uk6RnHippvAAACL0GbjUnhDomUwILf/talUAAAAwAD6/snluAwRGouX4RCyUACo/3Q4jFPgEPOd7l0AgVGy3rmXIDND1HdNF+Tmrhhn0yMjkmd3ZsogptRxR03vA/ffGvOQ40Aezpe95/LFmSI5INJB5LgE1laR+vm/TAYSNonBw6AvB5nyBw39Xjhb50nFG45SqcH1KTM9fV8lSdsE2scH9K6+VwPuBiR559EAvd/BhpkBJE0OvwLdbGFfgfqGUh+H+NEuKmfXSoZY21tstMAG2Id/sQpmtTeEZC2lghdMM1qIR/v88+SSlSdhKm73W/CHMZQyFLVoefAdq9L8ne5ej8R4/8zqV3T91biIt+unGJrzVpAU/cosFo0yn7oyQGliovdk2s0+hTSM9KFSKLrc+UbY4g3yuhzReF0fKviCJi8dmQ3jY+oHHVK60s0l57Rtw0lsICJFo/Yrcp+0g6iKXF+RoVCrIr624lhkJzkoIobu+2Ny7GI9tFS9Lp6Ma24InusrLmal2Fcm1+1JOnqWkr32njviZI0eVt+sEfEYCvwwLxUvs8O5hOkS4BU1j5QLh48VHSv/khWS7ZLy+BdXLZrRpc6BCjpLAN/lytN0vdlovwTZGAuZBxG7vRCEILEwjbNxsQHGU0DZq2xm+RXofnH+S0gF5GtUGADmirJzB0M1jHdSJpIZuTVyvXM/e5WfVZ/r51/ma8BPAjqGe0C6q0gXiCLZw8N76YnR/iCkno60YNWWcRUkywAAAFAQZ+rRRU8E/8AAAMAAAoxQ/79wJgA5isPi9NPfkDndnny/zUbG2nA1PGkwdoOahPqg/8sAjHsF/T60WhJ1GOsNLAM8qj+Rj+adH5Q7A3FQrauFyE6wdDhijRibuXoT2+m+FT/3m5xJDavYeUD10kLicTgV8HsHV6hl82I903zEgr6SI1Wy0r3IyflVgrRiyg/WMuNHhtS8x5GE/Gi5ovAitAQ7V4bqZPG4m27lgneeY+4GagTxQU+jr9MhL9wdutdqP4MetLRI7xN5iZvJq8sJ/X+EC/oOReWECD6hls99/54BoJdbAxITzpvqo6DWIvOrrJsXVZwkMFaSL6kTwDGX/1eGTAm36Bm9oy33BpLQ93W0Myx+wY4fynlIy0yZUU7WQlBU+YajHXtZmo2kMugN51DlER972LrzvY/tuicasAAAAEAAZ/MakEvAAADAAAPKl+ds/kl3jvteIobwH4OzgA2rNy+LalDRtzk9ope19owoG8aGH3KIa5kCz2G/b6mIEJjuZFC9vBGQHFVcUaC8c20ZjEkWKKCHcKJijesg7td82erMBzi75yBa/hGIxHuPj/jsk5U6ONXIUCsO/VhlDMz6rg90i/ng+AnWkgxZBXDEnyjqnJmvfqYT+ia6UaVZPI8vdLE6+HvlaB4meIRGb+B+EtWn+7GAp5t4Czkfj9iGuoEDC1dNIWF+CfstzKf34z9H0VPVTdockxW5rHoPn9POfSWYob2NOw75L3xBPPRdlDEcnSDzjLl95t6S6SRGF5vgQAAAkVBm9BJqEFomUwILf/+1qVQAAADAAGM/ZPLcF037zJV4hfrIyACxJgH59+TfD3Idklf6Yx5/ZdsJ0zp+DiC7aYmBfCHZoBa1eDBhMlLHoibJQ8fHM/EblxkyilbB+dDeaouVYjMeCMqOtb+IUD4g7Ql/v86hSgrVainpttof+e9XzJBvtlahxArnKhRgFLZartQKbveFGRyN5DglgdZDFNpix1bQl8bMoIbA98MrhNmyAjmzHbsyvVKZXJCiwsummqO0AINgrsZLHpSegJHNJza9fdIo905DcumgDSRpj84kBUQl4SNfWjWMzEd+lh7LlXV3jfVoIHf8F0ujXQaHNFCSOhjdGLj//ddyU91A57trwcmS4m0riMxaAUKZROfR02XPHpaRe3NXQ/voeMFRL14RUSPiiRfvht1kdD/+gk6IUKhjhko0uOGT1OJb6dGy83hXlao6gdjMpQTVZnc6GwGTI3wqO7YDnzv2mSinslpwHDZWyLsqZ1I6Igfav1RLkekzQ5NcB0aalbEob4Unnv3xhmfCogz6+9GD+IFsgSWYWQyJKIqFaY8nEI1goqFzzx7b2TE0yZ5Y2zKWTMmbObMavCLAdb+9K7xNG4zApTpFWH6Eux/5CECMGMfwArj5DoxNrdMXMStNw1xSYSPxl8S6RPczY6L7gauouDsMMZshA/G4ayJD3kWXDlaAXA8iPkGsOAGPURqHATpJ/eqHtMlHll4Jo7JWckN3Syp2cDYg1QKdzwspT1QiZJY2nJJAZ8eC7TRgQAAAVxBn+5FESwT/wAAAwAAAwPmEalh8Raw/VpO+5QSVQdlCENK/SjhG4W0q4CdyOrSTf9rIsuWOJZhw7+9vtzs0uwQy2tfu+id5n04L3A/PbHzL0OpiUXsexAf8lBZINi3ql79quUdelVTHtBPJa7fKKhvsXikM10WLKYvmUzfQVbRud2KyirAm4QZKNrVLcH01O8bH72H2v/fw3vsQ/DC194QTvfHgHmEdXG49CVEiDGwVpO4UDYazxRl2FlhFMafPG2LwLctybjoYd09aj+b1hkzSCPpJlECmGpg/lTnf1CCYGMTw8SpG0UAmNA+OrDMWz5e2YDJBRG18k5DXmhh7qkEhpJ6ib1toOYVQZTVTCCr+nHGSEknmNe8SSxloUHeu1v1Ccx5U6Z/Wn9hB1aha8X9WMt5D1CYXmSIvBRJMLcaO8IGn1aSCNSXXdk+Gd9Ln1KpYciu5HNuWgLIqKcAAAFGAZ4PakEvAAADAAADAmiMG0Od4C1ABxnaUBJi5dkCCjJUfQ43TqGSwiIj2laCkCv8ejkl/kesLx7Rh2me32PROPlaKMfOnL0gFb5WmHLFjaUQZaKvQCCQAvkbkp10CLGX6wYaeaFjz6N4c5oOaTMZAsMs5dYZpsHhjWbflmg4/MnpHXmRxLS3YTeEjRdS5PCMamWzH/c/gr4PkGli/CprZSyHTWZB8D0lgQWDxpVXOhLZjvbiKCeFNBZ2HPoe3taj+cNufZzae5mQu/guEnd+mg8eoeIzZUFJebxQjxbK8HOaRSHy9gbG0uvDpipznLLpEeqck8WFb6NrARUcSSu5E98gb9n24USGpHx5Lug4UuZaVfLveUvaZZbCyngneCi5OQu4OMjmBC6vSDsajz8ACTUGIobdW1DaAAJHUekezol/X+euduAAAAHYQZoSSahBbJlMFEwW//7WpVAAAAMAAW4x6WgAg9qTfOJeG/sRuPBvDkD/u+XV5oYD2/5e96iygzT61lXea7hp9/0zftw5oHCJ4q5w7x2W3JCigMBXDvf5EvRuC+B7XRgkVM3DKP8LYpxbJC8zRpYFrfsYH2RawO76czzzzJt8xYRmdChqIYg9ruZlUoQFCT6qvYFTBgzvCwP3z7Gk0M01EMVNb/kCk+ak3R9X+EeV13Drt3m9jC3WiDhqiJEFaNYGoyHXqkdGm1NKwQF9n/lUa4O8LTE7ZLYfUVwK9FjDhgisXMGCSCoJTjLOHYQK3IkL3S7LgSKVUb2kvMGUI7217kBth1hxmO0xndbcIr3lk57vLSAFMrSR6XuDXx60l6z8/5LYNGDU/ynwmVoLsAiiiCI3I3U3ShAZvLPaCT28MEA1RTusoZsFF2m0VWHDjkBxheVzXrjKxGJNCPqlDAXfBU1R0AupNMZYnz39aHEn60jp+F2+Uy0w27fsr5VIQqNpa/NQIUlz2h87+VCEyV9NX8T9yF+aNQuCJaqvo0Fo5fUIlZstX3CQJSnZaBwf7567qUEn41VPZHtpxhbvSJV/LcJp2nKnNKc0Aba8+jzK4MqRfcvqcxbW/AAAAQoBnjFqQS8AAAMAAAVjXWObG7aBBECk2SEh9+/ZVoVqVlpcAGmRvtD6r9zoco/o61toH+b34eOzdZ2rxv5eMkZ7Gn5CO738X/4P+C+elFbbXbgHFaqnFaUmneTMgsA5Sy79BMTj5OcjiVR4AcHl9mCitnZ43QTnr6huP0n4hoOBA4h+SpsOQ7Xojw9eSWCAjtE+v1cgqSBQU985D94SYFC1PovPH7kamZI0lqAM6M/+mKKf7MsGPpqHq8jQ7HcJMzqrDxxQsSvhV2AUQq23B8G3+/kNev0UQ4Ot/ejlB9YzEFiahFJwkcC9zb6953exjYrilWuvOsjR1b72VQyTxd+HOjRmXQbnDtvucQAAAipBmjZJ4QpSZTAgr//+1qVQAAADAAHdTSwWqh+CXUKqbAAdVkyBdaNBb3FRVQir5+b3kxCubRwK1ovcd166EGwwlW+s2xQGOy3pTu+drhrYuNWij1cUxum8edjr43i8HhT0YHQKGm4JWXorVEGyKvjutQgVMRsBJRZeYI14Zd1Ap+UR3tpVL5YyONzf1Ctw4Hi79Rv200O78bx0ruk5GMyP9yVOrj+nmPA3rkbiKPDc5rTf9qVSWw6Z7IPomKOGUlzM/VZa/st1y52HOFOMPVbXSuVSk0SGQ4pnhKiV6uk/aVH+bK4RKW2uaAQzPtvgiAxIsz0PQkgJyhlcINbkqMZ5TeZzZFcB+rr1Ck9vBmkxAqUrc6b/y+BzdKh+f1wVWIEsCK0/N0+yNdPeV32ecPsZPjvJWG1GPGkmjmGcs7NQpxMS852vJEv/jlsgrpRTROS/YBHlQ32E2r90DZ4YN+jXffUuEQby38a3n2927WfMjZuRfdHJ4+7AbK0a4RrOBHCjBKlAnBTpHBOHwt35Qatjdwo01rwVPvNSY8zpCezYEH3WH1o25WsS1wPI6PWTyBw+MOVCs8dTwIvPHKkIJyAzv3cUtfDQ278VklFFL7ciKH/FXQQ81NyjVA5pfFQSeyVco0ApDs9f2jI97yWxyCxI9Bicp9en9SjwGSJU5utc7bjGQ/fLBkrbsIfqQu/rIkVbzvvsaLo9e5R+eopsAzrc+PGnztH6Hgrj1AAAAY5BnlRFNEwU/wAAAwAAAwKeyjszMUbnnHrdgKm2KjCMagCkychXTlIHaQH/6g1RnXdN/dn2GdIK1T/t9hWloK6htCUpFMUwDOd+H0P/AdhIWalfWKVFNeGQtanZoboQK4lZuNVq3xgHa/j6ADjrJ3KO9P/MfEKZJz0dVdLwKbiXSwdaUwT8qZQJywmRPJxSptjr/7uiKuSnqmnI2v776hgiYE9kwIXlEBNlRLTymrvTWtXLj+nCpxdwS6aN/RnEOYNoy6Q/JHAqG/f+LHkSxSR+gM0S20ehlD4Vdv7BdtoW68PMHUmKUK/BKBmoq3L/zmwczoAVWUmVfYKJAPtwscPj+I5ozoti0lUXnavj63QCY4lxrIUfC+L5HVBR5VTMmQZn0z3eaUEgmwympR/JuNKgpID6Z4uEZGZKENM7x6pPaTjWak/vVz1ICfAhc5tuUUpWwOaXR3PBdUrs1JNnebCbKUSMD8m9XLG6iCcRb4OEVqoaMQxnM1XIpYjwNZcsgGg64bor1xSA/dfLuxCGfAAAAVkBnnN0QS8AAAMAAAMCsbed9KfkBJrACcFSN2JRnPmS+sbRpS8u55+98D2Vau/gG9i/PExzABBWajLOY8gXldfFufkeP59rUYtiNVZTceB+RmT7Iz48YMjd6vGCn3hez88JHUOEojmZWZD50eY7PxUfG2TQ61JXWnTBn0pvwwx3lihR09dltvcdPQsShYqHT/39nLAoU3/l/b+420oYcl9yoUHWUabs05UWWG+FXJNq3cc/YyMsE8AXAtdZf+vKudcqnF/N/F7NXZpIfm4P8ucEgLTryuRPHR/arTpxzwbj5vEZ2VjU/eFn8C+moifbMFh6QAdF3fbtXgQwQoc0os1nXdU/NNyuO2W9H5QdnaMl0FkNfMCxRGHpMKE4mFs64G30VTnZrkKlHwmDJI300qQHSGa3Z3e/3bTSXF29/IaZnOQViHkU5zslSKe7JoRt80j1PxFz57di2tEAAAFXAZ51akEvAAADAAAHPclOl2lKXXdHIlrx9QAE1FmxKTD3pHmL563ah0LCJqA9seSCSYoauPDzm/YyCGLJbmXRVGYeKpTjmAPT8oLtHiYa1kOhGVCFlkHAFAQ8glVOxsswjtoIQhEU1p5CC1/yP90/aqChebPg+D2rYjXiISQTrlKcyjkU1q0vOhi4TSA9ypOOKimvo5gMEzDdbXgxnrNiIMueAyIVQTWS398BTMSle3OQcjMIwihLemi9wege9bFRbM8YtHscMix8y8c+PsxhooEguK+LqTE//zg4QHxVEBPkkthPuY8VOp1c4k+mak0uR60P2kNg04K9JF/+IneHe+CSkGM7tCHtX7gY7BPQoMCTYClepxXXNXPAFx3DOuUZ4b4Ic+Fyrqy+yC9f78CGKL4NZ1+UFgTNTzPty7OpwX/tBf7fz9yy52vTsBT523KDXV+yPyOq9wAAAeJBmndJqEFomUwIK//+1qVQAAADAAUIS9RtMFkX71OAA4Ssa9eLJPQMJliRjQdb0rhPA37Q6j1ULzeOhTkvNv941TUDEnKUZw9XCGiwgXSlU+f3yM2WugYt+M7l77xVCnXIEw8r6VTZUfBDOlvaQ5iYJdLmLUfKjQazjmAKAFf2fEwTO++Wx3Y7xVHXRIzoWW4o/F3kEagRs94d1V36IpKRadTnht4vVTawiTReYOxWap4I48KE8L6EWG2zBVNQle9UZqoLj7UsB87KdqW/axVEIf1zU0Ag1+HeoPU1rKdsfTB7zGehI8riQmWsbcqLko/7YnfuzBuvUm9RLqpAIoIsCdryH+rdVOPEWNYqFcHk9WDHmQSdT8MTfSadM2qAKRAbYASz9g55Jp6pSyhI/p0IBz9Tq8dBWhxgAY7ATAYxaOH6TTJKtVezq+/8vAVA1r43FFX8wjVdGCorMOjycynY9YEeoGy4a6nBsrikz2FgVcIC1wRgRF2sP0YPSrpGqCsZSyDGiRRf/yVSp74dOA0yimkU1eDvcOaQL+sLjo6+ihUArn8dWSRd4/5YePAskQi8v44CEoeMcnAuTmjFgqi3+Ij/xMkW/B3Z0+KQRvJpWJLn+yuNMWGUQOSeOb5LNq3dgQAAAgFBmphJ4QpSZTAgr//+1qVQAAADAA2fmG+U7QNABGHsLPulXJsTv28zX2b3V+Ar1lbMPYmTV0oN3wbHK7mwa+eAcIij8R3tc9/M2rFdLZeeiyUfH5B39zOHrHzie15Qq83wq8TisNhHFWj266D7twvmMnvs4s34MUwl4EgfBDS6OluD11298H7Mlk+cMciMcXYaNBGw48FurLuBAdW5KZaxE7i4VkLKTKCUMqQvJ/m5Gr4UkUyWzbqeY7geFPXP+7n2/YOc7+Uib6yJnGbTuA9YV6F5GCaBnQHr7sgt3/Dp5pfCSZHxlHIANHc5aFg3ydtnGdYt9DQOMpA7v/GyU/oobfmKNI0ABgy2ezd0UAOkv+FPZKAsHDvyI7QNav3rs8OJf1Xb2HMhGjxgAFwvGej0j9ymYZsyXo8pm5VHW2sSKG5OBWkqtCc1xsSTk5q3abCFDBN+dAeGmNtv1Gq5Ze+nrXPlnkQft9WC+eG+j5aP/m1NGIvHGU+vVKgqUGifKhV9niyiVWqtovZf8cEJHChIATh/76STrAlS9pzK6HxpjW+N9od+bOp0cYH8tuwj9Foxb+PCazh0flQAPeJbPSLEv0y0E4qn/hVBFyFEcuqhwyT1hYGuOdEBaGC2kanbkMODwnC1eHbltDwUzPLb+qhr2193xoKEpwA6Kw2bgFcjE4EAAAHiQZq5SeEOiZTAgr/+1qVQAAADAA3leNTjtVXWstP6hGQAXwMKtRhxtDrd/NtRrnlwdiTF12riTpQVrqbmd98SjTla0W0BeOGQwX8cBkTXWPmz9jtZCFJJKdpbA3b7e+YLU/Mc38gDbD3ZwyFs9TBnIojmKlhQTegv4UvpWk4VW9q4FTAp1KHUFSwB8W5za+KHuoxETmygkj2m2nqLp9wLErjI7eewHe+FNUobtbPsOwezmsPSxhu0vC/ClY1keebVgDWD60tRO9ii61luksiiBJr3l3An5tT+dGuyBG1y6GTg+//iAimzjMgSGS+H9QIMRhagX5iT1dn8nHd1IlzdXiISPC9pd5Y3pTZcsuI85n//8QClRXkcy0k//ClGdcLxMpHMqQ4TaH2WMGWQB0fTtkJYNxLJ5qQt+JdrBBRrR5wNsMXYhKe2pfaZoABDePiXqVIuO9JLLg+N+wGweFHtYkG/yNTdwGqxU0RYdeywFFy8c5VTr2bz/0sksPla8g4B6Rql6MUycbgfPO4AEiv/HrAv/UCt7zy9yhBzrHbw73qkFUN7gxy9clMpltUwBbATObmMo6yxd8FF1HvXxO65hE9DWqKGRkuHjej/YixXy5a1yl6L5xNoJm0JlcCr2K69vLwAAAHTQZraSeEPJlMCC3/+1qVQAAADACYoVEJ33uKACWuAGiTmx43znp39i3zCLsKp+tsMrEb8lAY+vFmWr6/psWn/Le7inZcUlOT2PDS8pukf+I/VF8oNzwcHZR4mKxyftz9JADzF+DGs+UVOwvctHPkL7DkG/IC8Wum87NtpzMQe12eZ5XzCF00tp1pnj6uT4X96HynvXpQK0KxyRnIUi+eqSoXclsjXyqSCW1lDcuSj5MwSqbTTzSK9nEyu1dsq4qmyYIVkm69UJoK1Nkj47qCipHDhx+VT8Vb09PVpjLM0Pfxdb74c86y9wULBiTAIQuOJIY68nidRmpv6R41bIDFW0HBiox1RIO3lm58eEy60+3HmNKp+B6E5N3Qz/0M75tpM3urF1JYgs+Q1f2RbaWbGYc5+eK0+0FjdFKMEpXNoaN8BT7jWa7l4/dTT/OjNZPHDKwwgy9b2vU1qY5iTpDNHduDKsgBG2Wt3GywMmK6gz4Tv5LH3fcAIaPvo8BPi2MQJGSdSouHUnC/5mKz2kGrpYAIBOnJrotM4tzzcXRBGvF3OZPJGRvClnISuVpsd/YWGyZc4nUOhR4aSlPlwOIZh4NWvas29C7dv993d28PHUmQDroEAAAJcQZr9SeEPJlMCCv/+1qVQAAADAtxRxvwEGPcAC6t/O9bgkSCBKTeG39EnQ6T/AWmYnHBCHofAatcV75w3tG/xH1JMLuRlpHrO6DuVDi0PbMboPa8MDuYvLslWeQN9eW52Kgwc1JIT5pHiusRF95ofLJnCtcfHg+ZAvYkHc9tcUxQzQzxIBf4pILzPHibIYOo+kRpix+oQ6yO8x/jCVrRxiM0UjAMwaDKdMvfqkt5uT4Yz38DWFg2/KJFGw3lBSlSEHe+7/QGaHBERQGd4T3NfGGGyfN6ncZA7jws9dXXpIi39vMZzx3p9FlSlQaaFOwB2KGSqK1KhFxHwPdekJNaacopYKSQQJ0PK3R3u7RwSALyzmjM7Z0clAk22Gw0t8h1wBQm39gLez6yphJLIo6JyApLQUnZKJXetjmZgSeD6uCpU8FaPqQIhNbHeVS5CiXnAwSEgzOyEIhSpUsI2oIxeH/jblaYyyWhiqYmwwxenwAnA84ItwATEmChvQzdM+jhDfLfx8d/Pj4xgcTGVR1+vQQEdT5DUqh1mJdPZBhVt/tplSVg4KzKG3NSj5fDPdOQ4PnOSh/3t9ln6c9bM0AS4QOXp/6CfV0AJVlIw955jEfH4vxfu2ZPDSe7gx5yRLL6DP8PtKK0gH+i3nawQrKF2BJQXZ2LukCSautZrZQXk747YUFuhxrVjNGhJN5/AjHyCA5VwADYL/VKsnOQOx3yjuoSumEgMR6+FmFaJUKeisg7DlCJF1AFnjEWEYrTHa/SnkF/A24L05xeJfqS8Ym0ccOSbLnUK+6TRNLRbQQAAAS5BnxtFETwT/wAAAwAHSKwyFCz6n97/j2bOIuwlZ3wsPpJeRzR3gAL7LlfJR22cTeAGFeof7ZhbpjSC/nJqxtXRbb6LKDLY6TFyWbiQC51FJLLDSsA1QP15bHv88A6DNkqczHjBY6upbU7pRinGqg9PV/Q5rWe6xjlPxr10tAfoIsxFS+uswbF3x07qr9EYuJuTCs36Q4XW669GqmJnZ/ViSziKuq6eOUkq6M/EIe392upLWosH9EPXTFD8KVIoTmJdWl/cql1DQY/FoJS4g88jt5AwJ6heS6AfTyWz1ZLw150CFdj0ziWybqsOs5GmKUkKh8jHuC1RCPdjubNNyGgl9fgBrXk3BeY25+kDt8gjNAi6pZS3zIUxnO/usnEb8IEK8NiIKQku0d7ObhXKfQAAAOQBnzxqQS8AAAMACw7/b2uSxDWUOxFACMq/JcNK0iihS2HK02ICkVBZRjtA/+jJj8lZ7TsEdntMU5hQdARbOzbJhxD2V2M83Hg8KTycql0//FPpakGPh0gP9LJSlyX/aXum5Mz5301qRnYHLdjPFtFQXFnUPE94Xn45oW/7/zSOnYC6RiHUJlr7+EjseVJEimORKX4Fqe3BHzFJ7M0MXvfZOTqd47X4L4iBM2od2GiMCMVISxzCUiyOjx8jQqyqVVFsGdzKXLJjFhEnXjT5pcF3kETzYwP/s7Cq9++jc6M3A7qf58EAAAGtQZs+SahBaJlMCCv//talUAAAAwMBwr2gBKs8pJ7073tFFIh19AiWBXseDn7pGBwgGJQq2LsjpfXXwyHT63ZqpaVo/KA7ZRE6n0bPvxpe7bbIKt6FvRpp15C+//HbAlPHqKB9C7OeKMlL4xDU1wK3+DYApzt9Eczib3yUqi6F743hxMvohHaofe8MpEmaXJgNtgnAHVqX1450QmFzK77eQUQphqIgeXJdnmOAAN17CPOmAU1Bc1lyScWSuiLzFRr4B0QveBjfk0LTyWRBgdFFWCriLHnMvILwY8Rqf2lB6nRDx/8CFL/k3Lxm3N4Hza2DHM0fMz7DBi0GRwkiUCRBYbWZGp6vuVV2/+JTNx8a8unnpSgotPQEIZ9v/16txbXtoBXGGOI20WNskRE2/vvXrBr+e0XRDxYq5AonGEva7QA2VA7Fr9rw2GKowT0Q+LO23oupd7TCOqb1fCE+qmW79uMAuvEeo16KuyfpssFj6VZZmnvBWlo+bsab3nMaMJ0Akl4fUahG2ccqU9c3bkv73AHo3Y3quv31adO8etiWe9GCH//gcE4lStoJoDggAAABw0GbQEnhClJlMFESwU/+1oywAAArhZ4AApO/BpQzgyRLwxz4WBhJVGTF1iRRJMsvfmqpu2/KoD4JVaOrWa46N/YEIg+ac1h7l2/8tXdThrXlj7N6Qn5Wxy8jZRTY9l32QM61mO/ktLjGi4o95hcr+d6B+4vI2ZE402YGHMVta+dfKV29L64teUJrtWGBNjX6n3CClaiVje6keDcaJiqXepUImfCOR8Fpi31EebJs6UBl5aqf4NgQJOlDCufjlpxEbGlruTbE+grgdV+DDP/rWtptizghuR0vtDu3qN4Jg6zmh8WrjVKsDI0oU9sWCG9c6LixVZvPmLRvJHZbUUtFFjKYgIaqAnUCidFUuzb6ibqUkeb7anzYCI0wE92CCbylUi1H6AfY2NyfTvTfGqqmS3LskkPjA/Y202xHxrunnmmFj0Gxg3nzn5VhW5fcfKrt7gjKiRgo+O3KaO0LSE59KVVS4ojrFaekj7DBKSvJdTU9LBn6sd+0m/dzsvBEoozo45EVL0pKcYqaC8BGcKI5dtAmN3cmlxaMp+3Pr9tAnVIHDBtAIyKKpQSSlKr8zhU7ZF+I7PffmiNtxga4yb+w4xOY8RMAAADQAZ9/akEvAAADAFP3+kZBXPGDsgCms5KAA2rdg7kCbobbTtvutWkEWVpmBic4WbMVd/7p/PeCvTzHe4riY2CT6P8TD+oO/Ripyn7UGIa92ERTUD+HCm3aUt7o0QIc4ZTCL3wMkSmdET3kZWQaDdF6TAf+zkgZ5II2R41/EF8+3LxokXXvzS8k707LLzYrchYGdT0QkLLXklFwNa8kT8CayBGYOgti2HwZXLPiMsMqg8ZDHfmRZthiX5rmsTMsE9Qxh3ggACbt30xFuT/y/bg6YQAAAZ9Bm2FJ4Q6JlMCCX/61KoAAAb7cf8FBG+d4a5Aff4qmyMfN0K7MvNjFAuWvoyZi2aULsc1KJfUumQB88wmsQOBYcom+gToQF/mzisDx3619p1Z70D1xFYDssO0Z6JkXm2zZq52y7fAz/g3i5Jwqxy4Xio/2+v7F33I57c8Te7z90mfKv6w0HRbPL5R0PedKv/WpAqa7+tWZXzp6V4ZM+mPJcuy1vs9jakwTrQfUY5gny5aoialUETlG5mC6MPtElIB4a2PYvFn6GxSFwOkynXhbWb67LPfrnIM/WuX+bIAK3MD7nhgQM2jUb7C3Rg7p+epU7ZRuW26WDaN/8cVMxPFNO3e79Q97X/K+sPoDKvsjy0nPbzaKjm8dyvMeUdHRkZyxAqD8O/uIPaKLuI+1vTN0gfbNC55eYF044upzvX20Hmyi79QxinBSzrzldjwVsxnFBJ4cww5FM+rX9nsck2j5tXnaxD2e7NI5UGw6MkHIufOejU06A9EM4xi9jhsEBhJpFQhSZWbBOeme54d17NZqqZYIpjl4iMDAPUAtEgK2AAABakGbg0nhDyZTBRU8Ev/+tSqAAATGk/zizpUAAFcUnJBoIrK3QuETnsrPOr3dTQ192tqojuJFiJpK+2WO01NiuCW3buI/A/B+NvSxDPNIV1aMc7Dp6v/zd/3qfufxNON13ZsXpw8Bpw+3qhHq0e8LvQZ9SALFFblh8SVroUcp9nv6/34wLAI2skTYtJZ9ViR6BfUN1zFkvVaicsCOnk+xcbWx6M+fJ4GuxxzH1N2+JCCkq8o/C0WT1uaxE4q6srekNg3mbob+qa/29t1o5X4miOMtBQr+6JVBE+ykKznvOFekUdLjsiqw8zbG68lxZlVw3mtrP8EiUI2Pv716wh3PdR8h64uZvPUSlSPlh6LvMh/rvmN17l2zTW+TLFrVzKgEGlnPFBhtZFfog2DzZLOeuIwGaak7bWBQ18GdMPE9CkX+N+ksB6c7S2H3MzH7+z0NKc6POt76BIvyGaY62mNiMtSZ3p11Q3OaAA8JAAAAmwGfompBLwAAAwJaT9IyyAqJEq9sFABONTICFpL0JXydC8Uk4jX+W8duJEpLGPqrqCZT9X3f7iaxJxD1Y36qA++RzxDCOKZovf7zImeukHRuU2ZkbfuFTZEnIH9gk9Owy1OyKTbI8DqZN1/M+5dTeELbG7FwA+YAfhuiuRnQoGLyiQwM6x+21hNIU/+yxc5Bvhht5z5Oou/gHRswAAABWkGbpEnhDyZTAgn//rUqgAAMr0Z/xw/2AGqbvNnxCl2j1Cycz0449vrd/xyvrFCJn/4g0b19ZTHTH///qbmd70MJNg5DTxTb8Lgvv6gOA+poHffnBzgKbHI9Hb3gtJGP9rZ5aADv1adVxfiZmsLspnWVNtq/SjgLv9WVJVx6105IL9JaUTMSAn2sjnYRIQQSB6sG4PwfpjTFL+bHNPoAxS7i76AHe/adxqwpQFZAlOnhVpIy17m/uS1ma3zTATK7mVyvXa6nti3FoxZksfWiy83+QcbprsXFUjg1At9HZadyK0HYSfiIGQiWEyEmJB3PtPkiMhgF/3S2wtSzThOnTMAarxuQuTMrsbjyULRIhRQyv+dW3JwZcK1gwsO0kJSR9VZZrydTnHbniqMqXYtskM1CiZCN2zCuTtPhVEUpccyK5LCBcv60k6n5LJSJ45s3/XZbDqCI1mgAFnEAAAGgQZvHSeEPJlMCCv/+1qVQAARhxXK/8l3YAF1b+Unv9h0dw+kUNqqtFQOReDKwz+w3hczfNSoj/IhsFBCLFE9bvHtNsupObBEtlwZlOe2uJOcnTcJLLb4F3sp7xLiSPZUOjqzw065V8Rxn8SMXCTAi3Hc+EHHCCaKde7VDWyrLko+tBmb3ZqvWHCUtE57RQ0CrIVK6n4MN3NHxyP1uEplVd/qXbR4xIm6SIRhNvkrEe4GKolh5ZJBSj+AinwfQbSeAmZvY1lrueHLaeiivRFFIF0uUi+a4SzIBBm6lSnmPgnKBGX2XD0T1PmwThrJjjXyVE8U3+KBW6JuzrQW7ZqZprjUX6I1U5Xt5fS7KyEmD4G26CCoKSoID08wJLYst3QbXGJhnm2C5NKe2lLcOvNHJEMgtoNShA1j9sMXb0nOJwE4ucclf71H1qdcdAGWtOlSd4Oj9HkMpi/ako9KFd0ZoiSPIx1stnbEVj0rmG67VcfWg7AAJcjlDEUJ8Lwhx8lELJfm08RwqTBf+wsOhTOFoiuH8jkC8w3n6xLH/w0JAAdUAAAD1QZ/lRRE8E/8AAAttM4MhgVfhvRdgbACczAMzt5jm1Kt7qvULTUMwzNrwKEpaD5PGIyhS7Su12JVj9s+AYVqrkpxvjegUzXykezSZccpqI/sDAnSSfs+rX7KA4xu3037Es16stPEFLWP63ha3+s+D9eXwySq/v2/+ZB+h700ITn574WG7pXQvRO0R1BrfypV39tuPRe/SGIpPbwZ53ptFneE15rsvMhNNV3OMekLWVO0A6VF1zfa0d/tBgkYF/p/Wag2L1ppJc+vZVqn5lGdyPAkeqqzgL1hUNt+2x2CvCVriqkpMYHZBQJXrJ5TDZJmG/794HpEAAADfAZ4GakEvAAAQ0qJsUBjqTkg0FqCM0VVk91FBk09yg2FKUxGWzzUUQbU/oMtW+qvmFDxfdOuLZJ4/ZV/MBEB+ANrvmysoUMP0465uV8V4Mz4nJqJvWbFL/SgwPRH64PeTPELWqn0NXoK8yVBF7V8f+OExe9m0XLwcze3JbfJgt0fCAutiOd92oLsdLx3m4NUJODE5vx1EhNNTSHhd2PbYXHeSpdyVGz/MbTE3AOpydyw0mpRPKZn+QoNQM26DDRQ8G5j1FT6pyyy6KGm+Je/rmBruXbu2zIB+cmGwDJARMQAAANlBmgtJqEFomUwIJ//+tSqAACIIIz9yQ/sEBosKeAD0DWdHLXWWHGLa0+EnnyW02m8t3IDBi3Tis9E2sxfq7rtT1+9OqPSSiwXf6CTFn1byNDkKxoyDUbsFZq8d6reDo99dEg8FxgmW4frK7atph+Iqw+gKp+kFm2ZpwyYNoePCB+0CGOm4PsviY9ShAtJHGkW2jA5WQ854xsnnMHfr4288zzxOyEiQueVgBrl2PgjjhddxsfVm4VyjN7r2pXYJpcEntKa+o324JHQGjXd8lWExtKTj/pdQAFVAAAAAhkGeKUURLBT/AAAGDXJLfeq+MABapjGt5RjXBtHEm5rdjnQZd2kWIMxaDhOq2wA7DtjoaS/b7BZG731nFLT9XfJV+w8hQG/yGLU637fRGkoJhoZ9Z3dWv3ts01878T6TRbflf2pViAqWzg7NkdrYi9e+RBXrKBAMKSPXfeT/o06QPSMdYHpAAAAAcQGeSHRBLwAAEM0XgLooBFSUADrxG2lk6A9eio9r55nttvKSueJ5dY4qnsFAI5d3+KUes9IWPtmT3Pgthz2y1LcEXkWwQUhLa1t1gPSpn6l71sTEpdQLwGhq9zP9MLaivHze34QvjX3mu/pnL7X8Q2G9AAAAcQGeSmpBLwAAENCEwDW3ABfaerY66mPdZHYW48a/Cm+By6n/EKu7CCz3LvaFEXHB+QD1U8UoQS5lPx2PFQ0N4k9tbQhjEiK0OvDXFC6R9slZhlFodfzLmauDDYJdAZKgXmXJpr0FsdZLn1a/mcsT2iggAAAAb0GaTUmoQWyZTBRME//+tSqAACIKJ/G03yYIv4owA4QvJvSPJkLDSxpvVxJY11/j8QbcS4G+Vio46U3oRpbdEMMocI8p5KG4SiRJxoOs3L5KrxP+IcC0xUBPI1aJsv40gX7iX9FD8jR3lfP28gAMuAAAAGYBnmxqQS8AABDN6GDHue4AL6IyP8va5s7nJXAzrECfgfddLt+HWtoYyNPJGaf7+oSkpw7puqPTnBPKvolBuS0MbBCx4OKO/vE6KwJainJ/86qrDz0SeO1knk+7l0y54Y6nH8QoJ2EAAAGJQZpvSeEKUmUwUsEv/rUqgAAiP2Qg+W0WrjnzaFr+EkFp0Qzeawoz5tC8bS5o7CRsQI2A/AOLE/G+5o88pSddv7T8jLvgiopHiHb2PqdHmfUHX21G/jr1s9JOYJbXpArTFhQmd1Zg/iMmMUh+Ksk8AYXxkYSesNicxdKY6liTAYQ+R9BEZeC7oFooC/VNClLEHeyCR6Z75SErF5m9emaP2lBzIxP6aIqXYneo78zakmCPL24+dKagiLwGkFXHa2UJcb6fGNXksZe8ZYpAdwNAvWZCqFOFCLwYH0jJ7xIEYfl+JT8Eth1vRnt1+8TROFeTl+ALTgfKa7rIHYEyVSAcMHAXesOpVdgB0NVpowBIBLrgrUffuzdPxu5gBrqLqMrKHygTxdLP6HK7k98ZzWLqI8b6sFSDqfLiMsKfMJHtZVzRncDvDCR0qJ7jKdv9lYE8D64gekvFMjPk9aFdUlDaebnKasBWSyuCaIjVFrqWE6eh7l6QJNbKty0R7WXxoFwMm1vsaV9gAGFBAAAAmwGejmpBLwAAENETivU0vWfXV/VvUzxTMhDq2AA3wE5Unuaw0UJnl/JTGzxda50srOV7ogd864Sj9MaGagzoufTY1lyd+7Mbbs49MU9rcfMHUG2Rke8mdO49owxW70H60hFwNN1y61UA/b9otxwJM04cp8G7Fc+VaADi1OLGpxu83LaWTJRRwIlDpUSAbXPlnKjrCvziif8pei4hAAABdEGakEnhDomUwIJf/rUqgAANB8bwPW4bQEYhBrdq2cqKjx7lAQrzQtv3FjihHthqbJVNI5SPpj1fmrSLp24rtZLmIpamUFcBSS1pmFvpbdvv66Lfpm75rfUWNZ3bvZsdqXWc7NsG8o2e/ifkIOQ41BcfKiId5OM1he+5LRh/KhTXSDA9fBt6h0BIJdy1U8C16ZD0hKIEDfZMmfchUCJT3d4u7uYdRf55+HY0BS3exxOLahaLsklNai3YqdvXaei4shmUKaBIZCCPC4E5BDSUzSenILBVzBWD4mTekLX4I+uuhrGi+R5hL058uj/cLF+8CSoz/PGqf7j8f5Llp9sihedEwnVMNWljES28bzMUODBfij/0vCPw8/3sLEecZ2XQr0YuxrC72mPxWl4XUtAcPNbX04YpgyzhoUd61AhgXF3oVYQel+6iCot1808R0yb0ntkR3oGXrUIqoyBKjwp+tPjGuvC5YTLLOLQJ9tKvu5CQPXADegAAAX5BmrFJ4Q8mUwIJ//61KoAADLfKkJXWhYNifgIheryzm5OODec1eUJ/dyEkyOy6g0FKEpS5GlzW0oSOagQOpFrtuDyZkcFSb2O3AkurVmS5joN3O5l6HCksH2lSQx6zcBjsgu+LZhB4aP5bLHBfUPtH6f9Fk9cWkErOR9KHREPa27/E2H8DoBmMACk8NlGQ6zk4O87PQL92lC4w4Q/VKj9NEN/j9pHtKp+4Jy+LEbOlC6/IBt+WuKNRFqvezCT/iwoFLvL4WK5HA6Xa+x3zed98qhOROT8+TvgdGUrtcvssRxqkjBfLHMa0MokoKHd4us++D8NYhd6z/q/WLRVimBCdCnOGLjXc5JG6p60qOUT+SwgBX3wht0nOVt/HRivl0gLW+6/Ghs2OyEAshePxtpaJ/taDq54qDwiZZCgqszc8kRZn0/UfjGnJWp7ZysIPgNRw5MNvMpxzPUGfvTGDjgAXryq4bIfB2mpE4Ah/1yhtUhsw061CrqyOt+k8AEfAAAACF0Ga00nhDyZTBRE8Ff/+1qVQAACc/esHvAOYJDhcgEK7fIYpKlINRNeEsvgZ4Lj6uKg8V1hMr95//6yUAKhaYmmW0DONWbuICul0hzYm/RpQWuzRAEDtEdOI1wsrPv/wkRNGxIFY0coNgbGy4luSN8VG7ulpqxl5TuNpdjpg+6vya7/0FUtUENadcku0hycSy1C4uAB7oTnzp6Nm4eU6Py+pyQtt56HSsyr1pY3oaW1arkAi6YtIRT1FnKtTGtugmonO5nCrQHMg+ugxzrJepfZBTShDfy+frtPA3ZKj2j8cE8OEs5TThXS4I0K0n/gFe7mRvbBd2r55ltkHpqcgmR6uHYZPyzzbPyMmbQnAmBesjB+1hthBc6cOaVliybjrG6OjzmO2FsTrFkjR8ah0klndcIlvprS7q+y8nSgmMCsD5o9lfplVxhsaHsNYG0XsXZt0Xk4D+zN7iGQyjzL6o8cQpJC+gRpa4MpFALDnsquDx5ZGke7lNmqD0imqhwkJ8MAlBKSubSMN0dnXTuXxngTEzoFYU1KXyeerAwnvOrAi6CRD1oMIMZzjc4+ED8eka8oowYZXbH5hYI5VXpSk4XXrFn0duatlJZvBy4J19me/8yIaDuwwHvz69q154AA0YGgUIeN2lI1JsEDztD53dXkYCfHRY8B7t+Cm3XoHeVqdGjXYTZ3b7+nlPnF8B5IohMQmgOcQN9EAAACyAZ7yakEvAAADAloYHTwcRDCwS4dgV4KCXUV0DMAA/+XxGsMG2Ed+8PqfwKdM0o4/VUjOa3voMsLhU7AfFCV+BO/wzsbEBC/agOF38a5HgDM01twxPMBzB3Co/YQ4pk9KzifceUE7ErL7VXkoJVeq2psMKgEOXz8XmSsk0Kn3JHAyix1bOASWCrKnkxPF8acjarBFR3GawBMrLUR7nC2o45Nd5eScjQkRFzEHIql/0sYxYAAAAVdBmvRJ4Q8mUwIK//7WpVAAADk/QB/pyethzljAgM81PnyFS86nBBIHDFntuUOz7+52i+nySbdMLS9CEsqpmvFQ1Ml8x9AeymGYEzKZkZVLIcQzoNavkP91/NUzvc9/8b8cYUJf9zW6LYC8+rOBr9YHGZQ9E7wnh13PzEkeKKd2Y3S3OVRaTAbZjcjGXP71beKCbyl/Cx+d1wkuap8T8y1aR6bA90QQ5nUBPCrTQ8THj0ODHgo1tla/8F87ApTRN05f2L+bYh5rdMNXcH9FMmCKQfkUSyIeHEcKc7Nc6nktLeZu22rqEmJT3AVL0Jp3b1WsxUJLmOfutHuTGjEJIFOXZ+CgNktdn4NVJqdsCZTBWtEFk9R17Dfck7EiqLbVPPFcs/gJSRASg7yVSpIK6gj5/ggd8bwtkq/9/i6zgU6DR0bBrOE3EGZlO9yQcExBX6td0tpC/Ak4AAABiUGbFknhDyZTBRE8Ff/+1qVQAAAV0gB6Rhjz3oJBkta6UYZZjC9VmDlLNGz/P1qiH/RqmxQbWfZVjwJiaAwnK2YksUPnmhSkcqror+2n04Qk1Z0pyHDsKCpY5j1Uu5WPpuGV00HoNt4UzEagBQqO2TdzIQ+u52nflln+7daGv/jFadd2auvY2OQguRTqOmlegfOWRJ/lhYhjSKzaejpDM9T2ZSlVShF+fq/+Cb5e1vQ6lm8QwexIjYVVzGrn9GlVxs9eC5C9kFBeVbEQAHNJmj2YVEBHfZfEWnafvUXDF0Lh1mVVcdUmJeUzMR0D/BlJt6mU50TCM9l9DuGhqrv5I63yag/Rz33BVZXW7DTznVqUngbHilrI7Xs/ZaGA12E8QeRe4G9i1zWtnhNBUnvBSloR+827iNrmMFb/hc76pxwI3WT22LlTRNa66yHPpZLYv/e0mMR6XpwZzGvcy7wiTfETP3VWOpngI6hdFgOehLO/nYrAA8MZc5ofi3arKBthtNtBaw8LkVwkYQAAAOQBnzVqQS8AAAMAU/EDp11OO4Xj15rdABfOM/IXjW8EluZLwRL0eorCSGgJiGLUEnl2Powlji4AifgC7qlxSXEL3O+kiA9qqQIikergIvZax69uW/OEwhwy/9LUxro6NX8oEPFgGX4O5pYj956Um/lcvKiPMtpN2sx4Ks1sC+SOY4D264itrovYcHl7v4J6EZIT8hn+7IlCkclIcYxaUZK5+YCS+Gu2K00GVZJPboudySv/C8T/HUbzwztj1zl5P7PQk6aHyDy/p6y0ASHHOdJ0ehMBE4KlXO3IoGaOTZffMpTg9IAAAAGbQZs3SeEPJlMCCv/+1qVQAAAHq+fhZrwSY69daAPdrY+3MYLAs1JwG8nFv9Za1hB3H0xbOYgVN8FdIbJJNrtGkcsBPheB18//ytDUZk4NYtnJOWa8woJ+cGvMxU1+UOQab1ReXMMSxV/jjuqeuTJKOV/oXIm0sNTVDyRYzjhNmbW6oryE+xo1MkZbvR8X/Wj96WJxSPUcht5IlLuaBkhdph5NHpct/sN5R4xY1D4OVKdd6/qMJNkH7vWvf6qKyPqKwiuF3egGob+KWb0pGc95v17JkUTilW3IcIo0cInJ7/g71BE3zQrgwLv/0YMpCQpm8Zim01JGMsDLjjsUGC8NdpC4Uzw7DZhNxtx7AI6zKN11tj39Yb/ogre7DxXQa1o6s/Ird8UJdPvHNtJdel71g7uPKIpeK5Wq7DMdVZEUtt/UlQeXxcIWlsX7E6URL7Pjpn0wRbi7pRfEr6rDfmw8d7XiXnHd3CTxI0xLI3taGlwxZLJbB4dJFptlOU+qozmREumom2JD1BAvmqMb3jIRfjy6EAwvNrXYEdqrAAABmUGbWEnhDyZTAgr//talUAAAAwLx9bQe+t6S5jjxQOSMICH96036qIwdikuYtBcR6RbwlDx7JCELQgeHUGEfQtI91NqX4LjigOMyFRaIClIGcTBEUzkWkhjKZW9EggRRBWV9Y4CF3euLgDWB0HvvyDs2ZvsBCLltfZsaFJZBbqeEFknJNYVBrhHHXPFeTdOd0w4SVKQD/PDDBCRtp9fifiUiPlSK0fZSm7Z4xn/kp7BB1RrwFGRjW2lreBeovnW+6PUnAooXEbhzx/kgrV4V4CXEVtwj2lTSuUEXc//Ara1UYMcl6E4ttpJ9NNDGVn+E6YdfnZxuBD8R9TtTmkebBDmDyRMd2shLJQBlGTPCcFaYZMfPRczBQjDKfxd1t7Qk7L0rkkco1uqBg6yJD0SuRpgG+kUPQOvXblGCfVdlMdcEQSa4ftnan1kWzJg4HTnoxARMTph7KylO41eSKWVFHRVgs3NsMQjzFzfT6cNkliMhy1YrFtWNZitmz3BVSzGkxJb4oWaGuT6RzHEedvnpVfpgi11sY9IkakEAAAGYQZt5SeEPJlMCCv/+1qVQAAADARH71g94BzBB40mOvfbPUQ5gRKdP5ZqnFEezsH+w8a/lk5U3WvQo3vUdQaq4EfaJuP+l8UoTJVkTBBonlLDZzofy2ZidFFMH2jYdzBeDAMdDYyOEd86lYtSoLGWWB/TCR/ivXPtc8k+YLQWwWYgRAwxynHfDrn8uN/8zLYJUsSVhPzbrYI8F/7DAcQfY/vOR5FnvymlbArF2ejX8zG5fiTsxgNMM7tl2o5jUIXhvsyVUi+qJB2lvpSr27eoQcH1B06HiQofTm7RDePh2hUT79O+ZTJB670AdfvynlG/8qRATV7Klu8iZRENWQBa/Tkv0v2w/T9Y4uAdBGbcTGu5nRD6VI518GTZvFo3RJJrErlg0Mu3LU48IKWrntHVeDXDK4dUzGgTKqWnkmj2vgs1B9EvqHVL+vf8PBQBKstUuwjDXt1ToagW7DdmBs6W+L5GzOIMhLmWgNAzX2EZhi1FeZQbPhT0uHshJBiM2p15CskM+gENvINKznCrrAgpAuImzb0DQaR23AAABm0GbmknhDyZTAgr//talUAAAB3/n4WOiG8WjRyn9KIzghO/ETCHqlqjZke8IzZH8HJxCXfCZJ+Rl3yzcI8VGI62dItYtN7n/l6lcEvOH5vtE/bn8Qh/54y/pWIJWiTIkXP2tfRCoXxkMiD/7GB3oBQXzFN0Gz3wQOwl7795XgQdbo9gXsqd5At+R1WLhlKXBnGi2SG5f1N1R4T0masCe6qeVuuXCDlQaKlUex5+fXsk8MS6JSbvFTByt7fEzvX1BGhne4If7m0xD9qWyYA80cP14vttbtRnSGDrW2olgKaj/XHC5amFFkDfiAXBMpJzOZKc/5akR0IN6OJfV+QeqgKlDe3n647oC0Z8QC02ga8xONtxJpmo006oSKGGuxyWoxBBSXiRzM4PHGxcEYLZbeENEAP/ayW3x3hoHRHk2J59zDfTOfhjBq+vP+vifrRlCACXWC1IXo4D2/63TrUyF+0yehBSjACMvhSgZhupIB0dn2mB3U876qYgsRIh4z8gylU+hsnUUz4dS1QLaBZLlUThUcVMDIA4LyAhaXwAAAcFBm7tJ4Q8mUwIK//7WpVAAAAMAJj3guNIKjipgcbJ0Qmpir8oSB2mIupE5e8NEYTUiPtxDGUcrlTNL776E4O5lEULEc2wUmOqeEVMwI/0+AdmTXPAo1oNNnE+14NZZ4SZNBDhEphIkAITT06hybnIenBrsOO7EtrCMzPziP1yxv/+9J8JOKvI0JHTj9SwdAwxCu48RmQCsZgYqIBueWyESU8UIewT+yzPhgGGWNa3wqDxsYe4aX7/xrwqDYeewj+FM0ck4XOMqUsIokeQDa1zgfsvvBGOX230uj9ocv2T0PHfEygejAIgFK/+tgtKg/kAeNaXBjMtG59J3Eb8jeSyzrCPefgsv7/9K8QZVVWm8WB9wkYEpQXoVM1HW+vpYPpZrVFd6SY/flx4Q2KJma3awIoZb0Fa5LZdmdiip7t74Aa0qvtDzprE6QIOKW+LbK6dfo0BxD3Hu3b+YvjB6FqJmM0k8ZzKLpHgMOcHEBnpLik7YMWcx4+9oL/uUmKI3aaE+B3gf4ah3oQObaWoFwD4HikALBi76jXXic8/hDRuDqlEeRhjunyvAskNVOqknRE2sxxTAEoks+Knmb/MW0T9VNAAAAchBm9xJ4Q8mUwIK//7WpVAAAAMADjw5igD6SxjRP0z1P/5axywh89815KRMk4vzTgVbRX0UXCR/poDW+xkAQ8/eMB+8L9Y6gCJn9zjar/Suhb2bDMMI1dZSH/KOf3cPDlexdVIxhmSRoAklfFl/YOFtu2p5KoxJ7nhRKNDobWdglpva1bAjRikJ4jlMuELeq0GVfMJMXRtMfnE7YQHeOHfIJ7FTmBfl0gT/E0e+ztv3CxHaR+IwxLXpwE1n/wRqqKChMe8Cc/3G/aWEhnhHjVwQqceN8RGhY+hjtXmkxym3mg/fEYg9mZg5jRvTiEyGA6uk/iJxy0m1zDhLrtLzB+VDXmvZ/cUYUN77QDIy1JXByt5KHZ/dyVhIo3p0EloETyWRFG0Tq+JFPietIqjG28h92j9rr6/5jDOaFD/uaAUx4kPButN+l1PAauLMeX+Uqqv2e4+JZ+XNDZz4AIHkvfxry99JUIvgX/KdEJ5KtUdnNkSoZYuFlYKjU2cy7rA7mJLwFG0i/FZnqBEQKY1Pt2mXpIEHny91DSDTkqE22sxegHSMNqCweekBfZB9nR4hDZjTCh0xj1xo6aGZF2cxed6v6up/mqMbJ38AAAGrQZv9SeEPJlMCC3/+1qVQAAADAA2n7J79KUMxYi3LQAOyI7VIox1Wt4/XPXx+COsthEf9gC0TBVqS2y54ZxxAfQf9VUIM+P/EoOOHJni27Z9ZFLwsbcEbOcjC4+Q6XvVHSmNhmQ9r5yPYy3xBZxltPZkfKIbQ9W8IIWWO02Ucc81Ovf+f9DmeMwUbsFf3oWOifDZcG+spJ1N23A/AQ17KMndvTggSI/ckf/5JaHA+oqXv/SDF3dGc2a8LEDzyEQEkHavTRoEpqQgJa7fRVULQqwRg8QGV/doSZpikMFPs8Vxo/IyZYKRhnXPPevWRX3pAUd+kr9w/vn85sEf9+cKajH6xXF2pxOtjx9jZjkouieTi3T1f0we3NtyCyz3JminHt9R2w99SDoGEm/8CpztiHTW62jL5R0v3h2AEBVvALsVkB3hXP5QizcxrLT2CCpm/gAIAN7IjRKdLTrcC7fmslLkM7nNBXc93z38bJchXytjmGQkPMNHiitBax1rtZ1FP3O2FdIiLKb0EzE5Da3v5kv5148MW62OysuBVNmyfiFfYoSvBXNVPZBuxwQAAAbBBmh5J4Q8mUwILf/7WpVAAAAMAJg8jdTAaz8CfJn+yPZeNPeHzi2AqGrON4+8iiLf7r+9GD95AuYksbX23OO2vZbSvq3X1f2TIbqiD7SWnB6eNiPn6xw6FcwrZG0WHXsuZ9/t9zvlEMRSXu35RVoJ+l9O9MlTVoidRpPJVciLAMFcnnGbe/BWkPPts2ddqO3FkNBke6HGJJuHJHQZibKAVraqsio9ER2s1tp/u8Ziot4p0VK6gyzgW+rytjEnpeOidyXWyG91zJA7/yGrQwqb5wfGhznuahGdtV9RWQ9dlNxBOqKuQvBqXtczAOvaG6GL+bOoH/PDR5J5pALYE+ChfWfdSz+kQNtu8X/puYQMMt2s6yrosWKTVobeQsV3sKXr03Xk9uBLYrdpJ9dMD6fkvQr7mrOQ8iHI2ES5p5GuJRGGunSLqm2Mh1lr+pGZTlkSmWJt9t1IlXWW2iRnSgGAyvw2TK31TXP6SZcvbsHOY8ThhGxdbfVIaU0wMd8f3Cc4slUjYnX1pUiojjk75i3NIBwtiZz4eojsYeTPEjFh5Uw99keb9cajT1FLhSwtV5VQAAAIKQZoiSeEPJlMCCv/+1qVQAAADAAHf+fhASzruduomjQICkOg7Pf8FuL4IsJ3/ZlT/MCPgXQ3XLROZP8VOb31PR1N0wsHbadv5DzanneB/xmT4sTbKx+2lpQSE39u4bKdRWPJdpA7wZ80WucN7iA/J6/9W3pp8qBTP/5aYF9T06FYPFRWAvlRl3hMwBicsRL1Omwf2jBNlOAdoZdFZLUJzNVOGbqv7DaXikLgJqod/PQHpZ80Fyn6jX6QInxUuRsEs1dBa9Xehfio0EJ2NMFpDNBMcy5HkhVIZVK/eWs6btdtdycgQjZ6shzhip2iYvasNHCzlj+Z1yKxgzmemjgvYGG9TV9FA+rQH3SLSC4g86zrkJt7Lk95Z429ldm2PIaNmLXc/VpCrcHYFP4AWldOBPPIT9tppjjcttqSCaxA8lJ4sVI90Fua9fAonlzd3xQOVotsdXnD1z8ZpqXUTKy5wafXR9F4wRmta8pqfRX/gtevUyv7S8aX/C49bnPDRR8pkQz6lI1oATw1iHIkevBlmbfX45wLTlT7DWBrPgkr72Z1OXm7/6NI9rEc+tfCGlhOFSBDKu5pEMA2HsX9bk9y/fjHp7/2D6y9yHkaS9GRTrHwNxosJG1blL5Jnq83S0dR87pjFAnv9Fg6wq2x/er90e4QeNjjQKBhyuGJU0tAewoMPIqLzeuod+D/AAAAB4EGeQEURPBT/AAADAAADAp6ge37XnstJGJjSfikJ9I1uAAOwhTD0FhkqnJGt/2c/5ysBUoSb6KNfdhNQX1gI/ZGEw1Dg6wAP+AcIwsc4Je/grLqPiWVGN57n/ujnIFXfCQ8aZzFQgqz1TMz9D+vo5FZ2SZUCI9lqkbjeSR+78bM3t+Z58N4JN17Zih1cTtHK4yFhDaHuCOgilmb+aPWr1d0qhCd1fLsZIpfkuV15oaKe0eJguqBJsStBZxF/ThT0UafgXqAm0NeShxM9har4DLBVXpthRw0MbmVEBJxl4TZ7zFsjSiq9sgX0pNHb6Q8tiNr++AcEegioFtc5kNvRrP336pSTu9jgcUGCWtYqYQaoYhAJXCzh7tvSKmcQiKLiA5son5Oneeghz2Tg157uS9M26GPWdhvAXpQveRWERIiXHQPhNN6RVUHAjBgR8xXe+nqfHKiZ5t/2sh3IMNudoWyTce4C6IZyDNkNI+px4eV3Vl27cYszJVXDD6wQC1mmkaHvW5VYzmUiRqK9zHSsXxWVZsQkWeKAPhr7OIOfya7SwpI1+pVA+5v6x6S9UPzCcgA0tGIFE49WKwAUVyYDZpG45omQjymXAFyeIjDYmsqsybQXJPG/K0sGEeqhzF0dgQAAAWABnn90QS8AAAMAAAc9SmTCbeZr0TTSnSKpBwI7AIAF66JDy6Xg3HwpYv97SzOutvzvc24+40ZqdKF04GGs/yCNyMxeG6hRgAtyKfbd5zD+OVqwuiy4FNj+mpQA/CRS0JK6gh8KSaC4JmAVptZE+Kxlb9CG3D7RlOEkxboYRpjvTA3MqdpPETI0nJV7+tXNLFFd8zxkCLiCGDFXUdsvhgpdqNGJ1MlcoB8Dq2xLVQilIuonpnP/WGzGoWulZhmsbtQwHNvI7rmaGSOuCFho/Buu52jvWJ7XLFFo6y8RRhsYQi8j70iulMmdeHKox7uEZPX/O/DL7fIBfN4L2xHtPMogt8V04z+AskXiaCcxVhx0Acn+Y6pM+IVoxCt8aBNb088uLCx5UTfYjpNqS2Wiad8QIE6dFjeOx4uLys89Oyar14VI1b3xq0TLPTEVNwsEerdbbYyoiJJeq74zCSUux8FSAAABUQGeYWpBLwAAAwAAAwKfiBXQG/gKoADdP0hfwt/ipvuMGEn3/8m7qUurCmGpKpyHq0abUyh2mI8gSkmEt5UKCSQzFzuTkzJv8VKN731nMY2nsByseyWbzXXKMUCiLnm4b/MhXizBxfPqcmoPwTdrX/rCf68XPorUYqcXGhXJ2a0TpemqXY84rGbcw7EhcLr4eXVSQTTMCVxaQUFGpeKX2t40xYmXOQ6ugg3EycQVG3Z2Rrp1osd2IQTR4iWN/+h8lVvPgiwU3WIYQMvDCTCqilEOB1xQBmWm48isiS4d4LX04jBqxogf03LGUGByhTSzSrzi69xlep67W9zY/dP4glmZt2RGgQfvT73DkVyo0CgVmk6uSkCcWjzTf/wl/Y00eqdVe4zWyRtRaGJzyhwfQeIdGDX4WSUs3SkPUhewjs8DIlgZdnV+3Zuw9S76DT4dFRMAAAHLQZpjSahBaJlMCC3//talUAAAAwAAoJXHdAACWXSNepVM4ZuYKqaXQ54FWjBRlu9TZEGlUlBCcU9PDFvqb8oHhGmnUt0aqvNwMaraZr9bIOAge5VGzofmMzdRDahSIuYVQts1hqhBvoHfDbBj58yC4fIR4woXCQX0oMVPOQn0phxPZFy4BFtqpnczH8tVuaYLFnJuYvLLw3gNqUCF3GQJwDEjoES33cxUh17xpcZO1tOfZfu+/P4IM8+P9JHp3XIhKql+fD1y5obmXA9qncdlz0xl6+WHxsvJzRp/NlOzb3Rpy/+UWBB4qA0YN31uWmuzqH36eW5UmDCxSzDtMrwUE54zRBU6tkkMYoPU36ZbtxuiFdhVcSgCUivGcVxcFKsbKXcxDtLG4qFFLPrCRlEToKU0cHzd2MyLRYZELhclBFEoxF3DYAY+TQ+diXCUUkGGEV4NtfTFgo1kXlizoM2tQS0XeYnQmltTEL/uh9Bw+CcbFYVxzMKSe3EIhGen0erXNKR2Y0FuApFHMEWkiC7qUiQcDjN5mTgmzxwWgPj3h37QP+83yRPqqS+p1BZrcVkrGaSu7AWDpSgp1MHexrMXQ1NUwiqTkzgr30QUAAACF0GahUnhClJlMFESwW/+1qVQAAADAAGM3x//YDY84ABdkO0Xt9JmP1nokuZDYfirKAIfrTXDjm7RRfrtge1Ixj+Y8e/Wbb4OKAggumQrFIpYN6xO3+CaTZJNOspX3TlrOwTRjn2uN06FmkDFxR83IggrSDN9iSn2/pyeLWhwp+WTjGfWv6948IOIPHBe90Jv9RUpRQ9xqZXl4CuozXnqVW3sfzwabKAQz3f9qNosGKxkoyvwgsd5xsNlVKYb0drzqvQfRNVoxK+be/2D9+cCGSCLK/7eEXrDE8g9ki0u8vpoRUh+24wCzHbFHpxDHWjzJ6Zr2ORhPyFSmnxv8CNQyY0dVYdq220ggkQb5tjvtyhYCjMQqEn9K3kb0vyE5UMV6I9lkgEmcWQevrkNO9ynywSYXjdJ2rFvh6hhQSF7EJoOQLe9Z500EBl89I4J55SQGqGhZpMuzA27y4R+yW28B7mQWAS/d1JdRf3SCDzdx8NeaoqC/P+/3Q/dvPjY+6oxpGOJ4w4aZNVDvFnH5EP9o9hKA+olRgmsUiEzCQVaPB9BAj9DNmnmg67jM7oPsB4PHULOr8jjaXQAaUL1DkehhzQrtA1KEx/PJL7iuJL/cYflkzOBsuOrKmYxCOJ/gpo6UvUyon+zx9LaCn2oAC+cgx4NsSW/IXET4QlBUTzS9yCcInTdYlSS7Kd+oO9i5XFSCKdyfFKMF0EAAAFiAZ6kakEvAAADAAAF9cygIUg9UAiXJVbSrqbSeAA2rd7EhtPcbfsUTf1N54Q/owA8y7fu5hVFEJuE3Z4ofgjob2KZTkEh/Xrsx7gk4kVh/d3R1Tu/Br4+8DPsXkpxmVyvDrnjs0TMZ9LY69+VJTLA04Ck2eUg4Ut1ezSFgu28x2IPa4QTMYSN3CCzViyx2uE7eilQT9+B4bsf1IElbM8Ss8U8e0oL4D0cigT5psNrRSRWdMnWAodx63xahH7d+Q3lQ/oBgZVszB2AEIny9ESDyGui1BLdZou56GqERePc+2WTEEP2+rhONQhI8P7lPoon6i9FwcKV9iKAFF2ya5Vr1j0RIbjVOrf5d4XLFa2E+cQAfbXoHYHnItsgOdi+PRJkfO6z/nYxGee2YMQhccJwbv2us+vIPgTtDFg/ewSZS39GSzxYNsVj2C2sjq8cUYOdjpQaDUa4rVKpilaxzAHaX8lPAAACQ0GaqEnhDomUwIK//talUAAAAwAarev/Iwy8gAC6t+XDeSuFfq100ZPf9vVpu2JnMBnZY0d6nmraeJqhlJ2EFPQ5TG82DmGu0Q5CJihI8aXdB/8YyhQzzB7IyZEkGtDy/02K14T3uno4lSunmryV8f4CI5Ufa6aCZB30hxvaMUm8Qqy89gZPWxksRN+HkYlmPFw+HwHrcKd7rSVd3DuWW47f///VB8JE9mT0e3CW3q8UnkoxawMpbTu+H897YGcZ5YDiSRQvm3yum6uPE3VzMYhj2PPpDLWyFJJUww+gJhD5j6WIOZnlq1yc8b7I5zV+Q5RETpA4agRpGwjrGVH8KFYnr36J3k1DnG/rN+dz99xGpb57P41kvEZO/RF66Ps55LzLLBUIr7rakV0WM/TFi4uv+xhr0HEizFhmVvs7voaC3Hk4UOnDPuQa/RmcqdnUJnOmIeG4FAOmxhlH1Z3lc0oDFohToMjDeu57oMZSyFsBWJ+ymL+eSQ4fIvHQbD/4o3QnXYqja/SdsehcLT20rqcKRw4tgv9T1itJvN2kYLZZnM80SjeCYwjUtLAmr0gxrkc/sW6rCi/N92Pnr4lZiHv4nay8tJJ8iBT5yGTUy5S5JgpV4Qyb7lTIANeR5lkJUFGGfzcfWGb/u/B4WKZhpp+LMUqh9yUFI0YhtXyROuehhpAYuCWXbri/V7qGJKaP5LLIqvTg+4uDZyyGNvg+l5BaZrh+nVlgxmrZZ/oKpidHCUftp/jL97WBgWWGu8k1T6031wAAAZVBnsZFFTwT/wAAAwAAQ/1IYOyKPaGDxCGPV4KIF9gAJiiBHGjb0Vqpp18rK0hfnVaZ/DdRMzsYw9Xiz1opcIMqqIf+kaUyIAx8ztvSFOW1V2K4Hm/Oa/+LxmPyOClGRKSy4WEfV4QvNJa9el0gK6OflGrflicr8ka4FQZw7rad5JrfcnOaDUHKqmHeP7zf6iDujhNtDYO62JpE7+hdxE7d6UEogPMGGCaIemydIa485gNAt8P2oekkuZ2AAAvJJNyhqv/1O1pmRH0TXmCd97XMIpOMQatCHCEYyR+KOvh7CgKrm35UNO+Rh12sQB3Uin9+3duRZUtrDf7dHd/WXib/MOUrv7s6DfteSmlK8zeGdCBVs12wwCvXswzzZIKMVaSqDVqMLtlAm4v7hFOOEOeSVkB3GhFNfUbbYbCknsyEtRzjoymKqaxCXQ8876Qe3C9XW2M6fZbERnbFdRgy6ImT7k6yPMTuOFG4/iNWV+chqxBQIa1LbG7YdIgjrEzsL2MQkOsOC16PNmqQHYQZE4pQz/z1S6EAAAFfAZ7nakEvAAADAABm3MoCE/yidJE1vPxEABMCagcb18tpNr/tFDUfqkjjD+EfZD192fpN8muS9i168uKstRVV3ML3YDdQYdUcnM1dEmBfnuXLA3ouxC/t5Rc93clOWMWjwC//fKutOlx+s2faxO5lNYKPltwbePL6N74w3+fodLDnNI0Ga4mfIWFxfayCjhV6q6qZZRUDKk1U5gebCdeZiyoy/ZBvd8Pv/m0sQyX7G8jvTnjR8Wx+52U+s3uf7uWUcUeToNSwiyRu/MoM9VqASsmPpFVNIDlCyMInQ1avVjhAd3SAl7FFoJmqhp1ulW0fl5q03lUK7fvQvjRQRQtzRPO4Mqz42+crmf1GZxv9RYqbKvRJko1bLRpuS9wKIuC38Pcxcfh3LXAwzp6q+irW75W3jyzWNuwH1YkPP8PcRP0rLB3rCtQxOjCIvWsHr1Q5qtcXhz9fMotdJOpWvD6oAAABrkGa6UmoQWiZTAgr//7WpVAAAAMARBPVC6ZMxmf4wFzzfQAJ3UoIlWTp39HaOC7p2KWmdtyR4QzjpSCBHBQcg76dNpU730z3sZuUdYC8MBzCvLti/PIUruQ7xS3ZIJYuUo2MF9s1+/PAFjBGpRapDep6o7lyZrsH2mTQjClS2nyjvXcRFXR4ZNK645GBTjs2RYJg/erydfyp3m9/sUWM/63Pz5dLePjFCNVH/8NVgcUQ8nInrMG48Yda+FfugtnQhELf1P/0JRnjwikD/qhzWOWYJw28L+QCy83B62NTWOrKK4Cj7eHx638Fy6lpL4lAYWT8uqj94LpeHobXj8AHioMl9RNvfk3bQGri/dn04UR4z520pdTGDIM1IrOwfE8au6wlLNa7LkNaK9/WJ8xlMqfOlhVfqVF6/2axtJoz8+LEY2Zkc1KKpGW5O9/fMUZuX/6gwps2+Qff0XlKXV+94o5y4gsjdKO5SAM1SqV2r0gJHe3dKChId2Sgu+KPdpEJNbBWA4q97NKYLzUaT6jKOOYx1rUIDSaUTpBumdL2rTpJh9Diqx7xqkg4rv6ygMAAAAGrQZsKSeEKUmUwIK///talUAAAAwCzCYouLe//no8soAEQIpfhIb/4Bhmxs4nCi/1feO1X9yTrqu0R8clgrybtgxYZFy99VnpKcChdoniHz7AA2MrrXGuHIRDP/7eBV7BfwUXE9GiJvRqkRzAHIjiKQrwcAiOFo3sCgfxlsTjA4EDMWT/LYi4934QFDUwKDfcf+582VRE8X9ZNElZ+2OGSkl3XhW8evMm3a1sc+CkVvDb1GN3Vf12vY1Dd8MhCqnwwL4/1MVTrQGcQKsMjToXXp9LSCNLwbQcio+WQst1AhpUmkAYTRFch7nd5v8cFCbmmG0RlhhKvHBfjsU4/cJ+glewA1cCzNmVdp/7MunYOI06ZqZuGTQBm9smuNEkFiQ5a3Kk0pmvB1uLswd27JYVf2hrkA3REwx83aW02nStmGLE/4IEuhnW3PRQYZbBFja4h7G6mgAvRHGeY/w5I/BPflVx/JcyDkNGw5PComw3IALMclwC04zlB2kKwE28lL7gaeH8rv2QABQaQ0ieTlqCyXGmQRbDrFVuQTWf4y1cY/Ued80WaaRKvfTqWXQAAAYNBmytJ4Q6JlMCCv/7WpVAAAAMB0ny1KbtA0ANHxE7jH49K+6NPDWKgdghbnPI2lPP1XKKjLIWQITgRTlp7b/haYi8CMwzTk+leiE1fUoEie3lNPp7fY/0kDVAa+M0K8WZ5QINavp/hcqCprVu1humh2tsKeqfW76E/HZD1r2joNModUe3Kgl89TLGsMV1N/w3eeMsmL+fBusft681QBf/gEJ9FWL2NnmeXM4EYmUgP7Bf4oUBfsixh1ihxE42QbwJ8lQx2smnTzvDGzjlxlUHa9mJre6pE2VxcAkOkBwm0RnwebtT95/zNE9Xom6AOkecTe0Wj8bwl1up2H8kFfYb7Um9apGM2utNG5RSTj7K2V6abkCnLpl25oxnjiDeCE7wwBAsNz0JH8qwx9xG9+U04F0sot9kR0zZWCNZt9IW1lNaPABnNgs32aPQJo5yReNhXlzqlTeA6JfZRFKY4RFzviGkLqDUxfbRL8p6U9w/DB/TvuTIedsXVMdgh8q0HiSHaLKAAAAFlQZtMSeEPJlMCCv/+1qVQAAAMXxTpkzRC9tHqcACdy3Exwzj291pSOJFe+ZzgLT8e/LHPddg+dm//AaUPnU12htTTa5TzmClDJwpG2OCOpyEcnc/xW+l596JY/ZDttn2s3+Z/nLd4Z646+dvAkoTbBNxf1gBopdPmftmqv31VW4Eq5iWqOdnEwtxtmHM/LLYcDFFIQ0VYz9iUVSJSVLcp3DzcJPRxjHTgd1s8yy8g1zKAVoIVuUJoZPMi97VmiMyMOgVG+xFXhcA5c841XyQmQgfYNgKArLk2gA6qwdCzfQ0KdlenJl8nFRbK6WbVExFnWg9QNsva5aX45x0pe6hFzjBTZhaKkl9V1sdxStS/XCEG30tmgwTKeQ/2mvrbepXfSjjbd7x/WWyFD29smsmwsSI/2EWave+KdprCZnhNsTDgiAw7whjZkm674LZhdH0q7nw7E9A4ncg673XGhdaeFc1p++CAAAABfUGbbknhDyZTBRE8Ff/+1qVQAABVL0U63iIKNABzMArg5Go/O4xX7opxv68pmoQvY1A3GYW+z6E/t0nGTVOg6ITSnUHweoOEN34wCfnXNOuHM9mJ/EQL0tgpLxkaTydlcSsvAZZum0HPaev5V5qa0yC6x7q9UjRPARquDxG1ecJbK9mFArpSW60BGIiw4eqA5LI3bxGiKxSn8Ja1zYFuqGRzkpFGFEjMBcr7kDNMG3+0AJJpCcctfC9YDyeeD3qVWdx7L++TvQ7P0Rw9UYWNGucxMRBpfbQ7666faQ8Aoy1l7Kdd4eAUTLrkgCAkkDk60RgjrS9bWOIk9DO+IzYeec2jXcSK5BzdfTVVJ8jjDqpAXbcaM9035IEqqZeDVyO2/egAgoEWKoFmsfRyMh+QvvN0f3IIdRvB7A/wE3CHKjWHJjTiOI+MPj6+Mfmwn9UU5djL2OwqHpiZfaF11TBePS78wtib7umzdI/t5kUfSlr0kDNkiqKyEgWwdFpuhQAAARUBn41qQS8AAAMBRt/pGXEEgzP4eR5WgXnBTwAG1RJmyXjFfX/ySrahIES8zQ+GeLNHdye1rovng8J+ZtyJP5xy9sMF5qni/MG0rPIchwEMlP2NoeyThinL8tT0VojkX1eWFCpmwLHAh5p5XV3wo9azYki8/rpmXVbRJ1tJ4GpiXj4BFqBe/KlV9KbHrkCvJLd/Jmyw7M+3qLyWAL4VxmK7jXeyo0PQvYdMhU4YhhMIue/N5Ftee/pBt9iUjOaFjieHIbHvXFt7BO/2o8TxtcDhdqrsBUbAhtdSwPRioup3KAzJWsou/R2PU29kRqDhs3NcLmMHUFnjjdEf3jedS8xbdsMixA9ecAKv+P+PqJbyYCkd2NI5AAABq0Gbj0nhDyZTAgr//talUAAA2laFo0WSZoAFyE1ifGk6b+9dKfXJTacCxMvcLpNOAUnO9kdRCo43m9rgv0/X8yAfrj1H9TYAoJqzK/eiAOtGDzT+5hij9I6ZsnDOl9qARVmnnnv5VozbGyhk2cDSCpl7u3zXBL1gzU2/zqPOYrQ9V3RdbXHze/XSt8JHXUzeJELiDi6rJl5UWKvoRRL0xeqxf5ee10RMsRbJWKeP08lMmL++Fh0AiZP5/HfQ3NYFexN0onOtS0K5TKJn9/pwHXsC+KN/Wk7JG7x3IOxBAZYdUlATVnKDGN0gPrvGuHOMKYbX27NrYQyCedku5LFBOiyrRDyazhixZ5zabkk6T/52imC+f/+WvjK+O0wsRXjMyJ8NuXT88BULDdn/+rlWYwW4OFysolndXYiQHw+7onGJP47BrkkuEpVkZ9GcPIX1xCwDQMm6rcyWvDDEjdR6mu7T8bV2f+jyYoQm45OEWp86jI+aWXlYhpgskAPQa18f8HAKj4PNdJuf51derwAHNUPA+IOSCY+y6ul16BWEjSwP39bULnNe+ZeCrokAAAGCQZuwSeEPJlMCCv/+1qVQAAIw4qHVw7ZqAEWRmK8s9OohTXrFoV2HJshLS92wfvYj0AywWeLPm/m4nDK3SIbQawfjswr/k22Orr5eMtfhOurWeWVBij4xdsS3xcDQnHYpY0Wf27DrCvVvAi40CxjP1BjafyiV4HTU66fQZd8GgwPaBpVG2pBjpuJY4NarxVvw07T/q0lIyIBYshJMWT33XEl7B3hdU8SxZADnZp4gDw3o1ScrK93GRPL1D5UEKqw9GUW21i2MXwd70N+3xJ3FOhezfl43hbUmeu+3twvrmoKwom8jbhc+HskKyodEblLpE3Es/nIz7QrmFvEDlG6Y+hYQ46yN6bNBdxOV2fnGzruRlefcDmgEodueny/29E106Tbkt4kVnYVraG5KB7EyoEtjCfc5G/k3l09WFE1xYlK2Poxa81mLx7PkitxMXa6FKEQXxnjzyaMILBjweFGJq5pEfqckWb6ngXGvHB2d7sdtgThOmlpczvo6wJ8upkAA3oAAAAH3QZvSSeEPJlMFETwV//7WpVAADp3+sTl4c/68AmymfZsX4dkOFfoKtZjWFa+hVsEFC72G6HsPkjLKnAHE0z6m+64vzYrNGbQQ05XPhQMC+Y6BqVDJDVl0fxgjlndtk0QIZzzaS+2Ypv/wJsUNAdwLUgiuLpfFFIh3UNSi0nu7gBl7wEJmwfk2stXU4egox/upcNaRIbrMbQ6hsm26+1OAziHdw3DCXglgrYH4AP+VBNkOBEQ45spItCRP9cbWynTchlIakCqQLb+V3P93JChf8pIySGCoVOdn3B9TwzhZ+Wrp0oINt39je9yRlFvotmZv/BgZbDyYYCm38+AKvIFOBWPm/jT9oICfZcVuUNUL1/4udehCiQqvMNBXXW9mYhkS0zk6JJl47VcVgu1x2erqMeUWVLHAuzi1iXWkv7PSBl99ItZbxe8Pewzb0svsGZFZP7t+UZH7mKAKGGd+/7D47GCJ7/4X/wkYQTKITAMZbe6XiuKWMY5BUAG/KUuH3FJk94QGzBo8Wp20Tgno0IaZwMHD96aXYwTTRCXNHGVNQl+4N34zbBV6bGHkNM+xVbIORjxwv4x3PbojNK1AmtrSy17nYyf8Vtt2L89zZJVF+C6OES/v1LzrPBeWKHpjNWmCbmL36ABsmOmSKtK3U4HycOa9HxkVviAAAAEbAZ/xakEvAAA4jkyHSO5pPHHmU2z2HYrrAAhTA5LrKT4RB97bpjj1N06/OVRq0PnJprW0J8IAR4jODlQWCn5++lSZhONNLf80mXHbMGH1r3TjXZ1EeucGI9JfjoLVnyUMXKPPkncyKe+GBMH8uRX+MANGVWUZJLrpSb4Fec50yivgQyAIb57jYmiw/zdAyJzNbeFACWW9s3mdZQ+GoOsh0SVxl1U4DrBD1+9bDt+8c0lMRYZqinVSe32pOfZZxzbt5tBe+VZHecr3EB4HAvwdui7M5ytFUOQO3OHRXX1RqPex9gLnhFcO9C+IuFSW+t/tRlcTlvUlkV6ZGCH9LzbgyzplAJAel7WmPEBb355KWHAI+fI4yei1YZDhgQAAAX1Bm/NJ4Q8mUwIK//7WpVAADqT6WomMcFs9mwAHabPzuAF2wdTuGELJ8jh6sLtlv1eKTXySA88o9IBu+MO0JM1w4Fecv9F4lII+rXzZe8ALqySyYT+oPHlps62swWH7TxsUNt+aaJ5boL9KC+UYhshlwq3M4KVc8GkIDEBngeHWp3f+D/JLoXbeE2fzGQz1ZjNfBcOWEo6R/qF6raRF28IA4+ff6NxZGRaxDRS12zCLXFGOif+IGxfP8pMteighUNYJASwkIJnNsyAS9RelUkkHCDmblRhHUuTM33iEvs2saC/vIEoLNFCxVvwGbdRLBU41GU88XYxeuIQrL2Y+/CjKrR6xzU3d35P4LW3XvSQr7IACe+NO7So7LyUBfsa78lIzEOsFS7XtW3IjjcqBsTsx+PQXaL/IPUOV41TQfM/FaM92by6MpstKjbSLDT2E3suhn0IhYYUjX7D0BcOjmAvW1x1DfilDKcjxxND5AkfenJ2hHci3H7mPHgkAAdUAAAGRQZoUSeEPJlMCCv/+1qVQACYm6vMmMcFme9QAJ2ZhR8B60g+K/DsggQisdv8c6aAq9gEqmDhbJIyt25A8iHNB/G6WjdwPlFRABf5/N25DLTvCRXF+7PXFcnh/ovZ0ScqiSWPAQfChGX+J8WgseV7HUJVNCNAhsVs3mPfFJ1vs8NrWbJDhujJrnPjN/NSuyMJf911/kmkqElXHisRwhFyGRJ8ehWwo3npv8sFn+ZJdkf5KbKsslS7fiBE32+zlM7lQ/6tU9WVRIhFj0CUZ9XMjZ0gWHB6BsWfkeNvTUL+v3cJzQRaNFaZH84rKwKfF9j2Bjn48IGckIOWdLqQ3Cis8S+/ad7azLyCrYQAVQgZ9BeKyrjhR+/HcSOTVpgm374yyhE6ftDCbKGCq/f41G7fhQaYj+7EynevpP6WCRBsBmbtwbKow/XHv2Ri4Srt2MVvwnIoxi2fhWq0mTukODsoscUzdPORvQdo/VPmV2Ii7A4mkh1UHUU12vnjhR0Lbu+zLAF0LlD/hz0r4tRMY9I4AAu4AAAHCQZo1SeEPJlMCCv/+1qVQACYJ67NMvB2KgATtLi9YT3ULko0fWMSCCgo6kCDbQH03j6bMzt5NBAwhPMckqbdC2jog+bFcpjp2XRt/JH94oA4ZCyL8GRSSdOKF8UX8v1A5LjHpSWcdaA52Nf/rOIM4XB5af3mUuBLwUi/rk0Y5VOl0IoVrT1iaS5yvntOmZn5fIk6pfxkbBejQPHIBhc5m/X6iYOknkKOAZLJzfNg93AauC/RNzJ9gcsNG2QczRbh/w6Vd61+E0cCWJltsEW4rGPrzc6774UtcLDPzFLp6RiMsH57dEwHdrz+UgY73pFMsY7P/kiYAEIpHT4sjHXsq4Wu5M18viz2dNLdjM+Zvbj9Mg3QbxnsmbfqkE4Ww+gbDY5+SkmT75yy8TfOdI0wVOjvYu43INTHA6Is6aK2LoS30sf/691sopFjbQizpQthbHNMGL2YfRoXSVqv+vmJPE9TAWveBAZYQqmIQ/h6R3/ZtNxpzng1yLi1d0d6zuFr3vnqowWaUsVppqp+Z8+jqvs3ftofQ1JBf2ewqBZbnXobnD4Rdpl6JolUwCU2cwhrjnVlnJ/LLBk552Y8jfivIAAXFAAABb0GaVknhDyZTAgr//talUABitilKRsDQAOMdmTmqd7XKcHXbK9+C869b6lRx2lCrcGoZ2O/8wRwb9i+g5qL3AgW6+vBSA928+wS/3WDJPJfkhVcLlTsmPvP4M9ZnHii8/oCtFiN+hY3oNVr0rakfmKokD93FasCNyL19jgAVb3KRcCFRgXIjNFJyRvswWsBl3u4alqe2Kx8rMfH1j5lEK+D7qCkQNH5N55621a0MIlVpfaftyKmd2+ZgL5IkxDagxKP6yWIQVxxukV6G17kC7bsJuqJL3pwh1Qfh3FgMcEGzAJP/d12ZdrYLTTytYIe3E+F13ANrYNa77QdvFJY9vrHWGYT3vRZa6WWcO1pRRNGXdivwbIDvZm4JxgHP/HG0uvmclYLMDMlaqZq7ElH3oABu2biVX0Gs0c8fMHI/nKOF6W/Q5ig991h3HHSFtZLm5gss8+Sd7aMAcSca7LyNBk7f0Ic+A/cRtt6N+AAApIAAAAHJQZp3SeEPJlMCCv/+1qVQAGK2G8PvDQALpc29FMIR84a6f068E26X1FURPs9tHbxQkGSolPBMeC5IUjshk6YCKHguyPWIRQKow/HcaY0r830qs5AjRArErnQF2paJ8mnobh6cI3Fe7FhJ7fwYq+Te457nUPXBHGnzr2MWj8tbAfwbQP1YklSUWlt6Zvtz1yw7XZCSQGqYO4ugep6dSa7wXSDBclzpP4VXob9O7fKl6O4N98dLaAyzgpa+oMtHKe2ShTkOdclawAKVOun72wog8olcMXc0RLqEEPFMCplpnzkzGjabdplQRwad+R53te1uY0dHk6aL6Muu0Ab6t/Mc9J2WVQeYTrPq33OdhA+/b2ujEimHHZJ8+BV44O4m1m+4lnsJTBGFzb79N+x8OQWCqUzdW5Wi0401cGzj9+2wDyQ/TGfi2YubCWnxZXC36luSth0w9HFEq15O2okp2hNYJu14xQ1cqP5jCiIFAnQZkrcnMZAAAAtaNE/nz/D67U0F3SwSIuqmoIooffki+rhNBAm9ziCf+4cHn0qCzOMeKX1u9AVcCbkws7rCLVfY7qLnt86PgG2RhblhVr9W22Kbqal4n88ZAABGwQAAAblBmphJ4Q8mUwIK//7WpVAAYvy+ILhBoAE5sPsHF872SmqktTLPk253ru4kx1E1+bFq7iL+KVnGSLJKtcJqEplqQ3d97nt9x78RJ+BAjCTnElc2nTZ8s2WlrXk52Qif4/qIr6LE0keP/SU8hunHSROCQgqOTmIPI+1Y+GSFIrICT37ArXqOd0ByLhR3p2MIwzAUQV31/LYOAhGX34o7iPQvXSe8OtU9HBWwHp81gl17ppUJFn3+6eQHeTpTVfv7bHt1BNAjpe3x7aNc4Y1x3TRBeeOwukaedOUDWXtnNhvBiX3++scJwlBh4Bgy8r/277M0UJUufbqx8KCsw1Jqnwz6of/Rh7IVHTDk0i1aypgOUTFNzw1pZd1QiBj/PWAblkauZTkdVwpJdUq99jjI5YTdIwPZoNquxaer8RvJNwQ+0Rq9Fm8uyzer010NwlYD4+1HCG4hoJ4CKgRSYiwDjedYb4F9q/WTbHosm4qgHDdTWszPkoW+HiQ66HW6jTV4FTyt4DA6sr/tdbe5RhaY2Zht9megdc4PpuPhPTEmuoSYwrkc4hkC8AtdhRBoJz7WeAQ411UqOAAAq4EAAAG6QZq5SeEPJlMCC3/+1qVQAPTfs6jw7ACP6ADdtzkU9ze1+wvun+F+1SXWmzdvFU2B9a2hMOfqHzqama8bO+ZYy3UT9ZUMhN+xVyx6ZWYYNWu9QqiaKCaaZZF+RUelHKk8Kk6iMm1BUTpMQ0rX50oXHk3qe93XmF+Hibh6SmQIzkrf23Nl6CvRLmzUe8TAukWK6USdhav5Bj/Uv9I44iNr9B4pBvyXUJtAG2/QjpdlgND/bWuBUUcA0kLsPv4v9nlCxc/YJ9K4haspJD6hA3+hFV0tAvkN25bSD3Ht52P7gz8ONfjifwfe0jcLVfyy+jnGotUqKbWdS4CsEwH6+vTterYTpq1t/7oHyR814eUl1DQHEH9r7QAeHIzynRifsIp9kWuQJWY0ndw5T7/Z5cwxtV20SZqQ65arDf0L+M1VE8D6x3ZUmoIIxq+Kl/o9uFyBo6FFEmMco8A1/HxID618BO8Id7fSX51reqtq8911XWhxSH0Ruw9ReY/itq4G8wUHQgDqPpg6b0r7gm63+N50ZA8ZDOTkcAAQagIpWlr5FcEuD8QPu7ORKtYkEk1pWIKwgTgHQ7qSuAABDwAAAhpBmttJ4Q8mUwURPBX//talUAD0NGALLGbgATsdkZcqhhQ0zqnDp2xaGjKhMu6IVcEpabNpgEvVozQ+enO+PEaFP1V8UQ+C6yo2k3cXlVeYkSi7vagBDiLvQ08MrnB4ud5daw5i6xKksp8/16GEMaJsbJTXagHv/2XdBJlppjpUUPOeSUqhA0VjHH4XI0XlBG3sZEKTuLHounf393xYxCn6URBNZr24yu9ttuYemw6kASnlNHItcF8GfxiZCpoSBuJ2NKIHjaiAIn3Qd2iwEq3BI9d9Wy730L6C+J5ryTbHC8wfUUZCyPICHLozdy736h0vUiSUhqSLF33mJWfzA5HpIHtV4hmL4cYxX9zHyc5WRM+zjpGgpCfFDIUSeQ1daEd5snLUSNdy+TK0TcCgOLSLohXgH1gOKmufG5r7xLxbx/qLa79R303kmvr4+9SzDPgB6zyPuz1j13fzGgxvtkG20sa5l9Dm/Ht+I4xbDvkh8CYVa78PInV3v5QU4oTwpqqvx2shZf2JdJv4dUIGCpxhCqpB7KGYgJ+AQgfFwb+BJnyxtJmtadMH7lXypIcO9FtGZHcLW4hfR1MDT1Sf8Hd+SZmane5pUvBuO+5KJJ5QGqY55WtleVVOsaHvJBZazxxsuzJT7BM/Sz+3YOPm3RWm+5peNE7gsp+YRyLOcLc3m31nm6LTDwPOI7ooIkCHIAAZw1emoQkAABtRAAABIAGe+mpBLwADtCYnyiOKebrgA2V7+FOAEWz03HJVIKu3BlsMFGLfnaR9E9c3QENtwYLsPObRNUfp6LWev94H/rtJMSqCFkGiazympVnbuKvX1dhUzDOhVzQlo7LwFyROnfB3vfdqAEPqtpKN8COGJ/YWuvq0yjD0DfIkEh3ttaActy83QOknw4Edj5OdYlfp0K578rcbD+kzPSRRyjaepzRaW94z7fcuRKeiM1P3HO/RNMMRkI/FPYv0GQcoQcQtOL8Ivpzq8ivkDhjQzFGER7iw2LUMzvo4DPwPfKnhNpNe1ge9jODztW/0PQLpsGHVPyCYLGtB9zk40RDQXmV0wwyCqwI7RGsYcKaQjqxtY3O62b/j/0v5X2TcDs/JOzSgLgAAAa9Bmv1J4Q8mUwU8Ff/+1qVQAPQnksvMGbL8IT1AAdi+95E+NGShsiFJ2F9/He1DiWvwXnKy2DmC53GD/t/UdEqGjkqtvzitKR4ARdCVM20pklDMekjqE1b6Sr+KSr4J2FJKhkepDJlxNJWDLoedk2/5lAhSDOnAZSgr5lAihMI5Bsy5mkv2Q5QuY7qH1/2ZjNjzA0c+wB3g37Z512daj31YH9CqQVKXSowzppXb7CqAB4x7GDYmBEN47ROZu6bFEzvLiX53Na8/28s4gOVFZPI8gm+Judjboqte2PGCTpwXJ42KnBGcPIw5rF9xgUpojyNuLnwhjujDY5tSolKQtowYoz47WF6frhI0NwGJpaYtYAfntGnO1k7p+I4cNPIMJglGK/PmSFoKJZ7gFisSZTtxr44m8Y9/cqJBUwA3isn0m2/ylUKJvKtZEL0ZhdPqjUqiZWeWwxQCQh9axMLEV41lGoAhKg237sjgd27OGs1pBi8Uv2UECN5t8a3IOJpqnLfjl1x5ARESYyFy3CprFQaDARRzMY0qKaEOPmKh7Hnk/MqNGU1Vf96likOgAABLwQAAATMBnxxqQS8AA8rvuuoDHUnJBiiICh7xozgYxAdZ3K2cVKPiHZxBqYULw45P9J6PFRLpRLH9x72UEUgx77TS5LEe1xb7piuLZ/35Oy308UCpmJAtJqwhygVAqctPH6Hhvb5/tmohOqOhpxuxG/MSK1tsGXI+z3TVzCtooXbt98Ei46E0MU+96OhCAZO+KHyaZS+nzUQUWN1YRjWEVMvvQ5gmHc0bnf+PeN7IIcoMw7bQMRqf/H9rNMYfVsx1oUAcvMmjRqHE80oIQ5f0H4GpQ08WuslIFc9NkR3j1o6CK8cMLr3TIq2jjObj0sfXqZKk2Ob6U6yJpCAy2t5dQe0GzpfJ0Sad2BridROMrmy1VOMXpWnne8MAgwdek3UXCcb3ELu2WyZWatgZmHkC0wqK6+nrNADzAAABV0GbHknhDyZTAgr//talUAD0361PBSJmgAQnqWMN/WrCKgnk87D9WMw+CTuuVs7Oxgd31TCQgKI4MUddP0QHi2FUX/JeH3U7nKhin+qLGDLbcJShRP/kW3MtGCluil5PambdTiqtPXByVvalStgwHOnwwuHfB19Ud6v8/EH9WBmpGqV1PMY081qUo13YICgaxiIEzFjz1CU9MAvgnB7BHiP40W0os3Y/Ar6LlC46H//u3GFGx9DJCL4OD9PoD2vuwDy93bjDpdbvo2TimoxHDq3kp56Tan+MCzq1TpXtDcdUDokjNW52AUBulv3o8uk4QzMgzirX3QDNAmBY6/H1nDPUyixe76n/YcL05g35cNB5RG8RV1Ho6xoadmn9+EKJ0WI3yiJ0Et74O/iEOptkySgt6qNhGAL2/svbvD0VqSP8JyzNaXMNtj+cZJP02PCCu74svAAANaAAAAFEQZsiSeEPJlMCCX/+tSqAB3/jVulAUREuG+APKACIUhFfoHcu9qI6ZkbNby/MWPrrRdb53N8HTKLxzsMae8Pl20mVma/QlnRtAExdtx+58b9n9AgSn/PXoXqQf7f/N9sZRqAKk6SIJlzqb3DUG0/ZqerxbrMHROy8EaNbgT/tf418emJF9kNATj5Ih+Q1/idRhkQHPIqxJBcMenamXlRsDS9qC0sj9I4pUjPD2gSPKWVPsGfNIqxzGArhC6KBRVIo17vQjLwIvfdWGE2fFHSU7MgEbTa3FTLd6d75iKeNo/Zqumd+YjCcyCCdx1iJ6FXb1hD8p4Irn/zVp4Vf75VGHurHS6m+SD/aK31hoAr++rDBo7pvKu+BTOGUNO+n4WPifFDwivo5ybz7/MYyhVirn6lDeRGtwsVSMJiotvb0A6zAAAImAAABL0GfQEURPBT/AAFYUCMjhXon+DjE9oRAWjkYcA+bY8gADRK5Tox8fxLlK6ELRucc3JiKNfsu7FqkkrwrlM79haSN45Mt1mXsN0e/vSU7jlVGZPmKg1/yA+vvqiTb9JxA5Xt19+SY+1bALafGyakledHlA2AWzYdUYQGNPP+HKj2RMaXeECVPBhRan7/44FYveHjjkB/wJnFnqbuxzO8paQSqN5Mm8fFeHj+PFBD+zmHFUlgUy7pv774/DlsnpON6dVkDHr0RHnr7CJEuIzVDaaXEtE8tgVvsonYXI6bEf778AVIO0l7u0HBiUgccCrXm6dlF6eI8NJeSZCmkfYb8alTFAqCFutn7Ag/3/6NJJtPExVxT7LJr4SWibsP1ILPVX+sFjCEP3HKlA3eFUncl+QAAAQwBn390QS8AA7RggMcPAjIOgAtwBuFMBM6rz3sTjgBh4ZDy9KR7TTBZmGsytn4pwzLiGyaJQktk4ABfIw2lmhVR/Y544d/njV1SKpmefUttgmf4XdkcYVM0QnNvWZUIVU3KRPXzz0/bBXyISetaAvZlgKsFVd/EiN8emDWSmLM0mG8Nt7JneR1UGHibWsDkI+aKkdDG76T7BHzGpKFiGVg2NT92A/7sSCRVFy9HnThnP9u87hyoQs3WuABWeKWarnl5UpGFwgtsa+VjueH8m5FM6tzaTLDsEDKDfDmReYO27hH3uxRlPAzINaCdzWcq+W8nHJbm6380rsN4AEbfMxC3qsAa4zHwHycj7ZnYAAAAswGfYWpBLwADmwwEeVcVLumwQj7QR8QgAdo2u+OMToNA+KI28ecVImpjwElLedUZ65k6IkOn139eGudoTu+5sCHWQVzamFWGvUCGf5fnhmJgHfZi3AuKrB0RkMcSljqWT98sKOhVhJNt5vGfDW4xoJsXeMO3Dtb4KXdkZ+nPGzOqkNJ8RB+eTw3b3gyBm2x/UL3841dvTW9EvB3Ewfa4Czx+kIgl/3QpMK5uY7nMBPceWDt5AAAIJm1vb3YAAABsbXZoZAAAAAAAAAAAAAAAAAAAA+gAAP/cAAEAAAEAAAAAAAAAAAAAAAABAAAAAAAAAAAAAAAAAAAAAQAAAAAAAAAAAAAAAAAAQAAAAAAAAAAAAAAAAAAAAAAAAAAAAAAAAAAAAAAAAAIAAAdQdHJhawAAAFx0a2hkAAAAAwAAAAAAAAAAAAAAAQAAAAAAAP/cAAAAAAAAAAAAAAAAAAAAAAABAAAAAAAAAAAAAAAAAAAAAQAAAAAAAAAAAAAAAAAAQAAAAAJgAAABkAAAAAAAJGVkdHMAAAAcZWxzdAAAAAAAAAABAAD/3AAAQAAAAQAAAAAGyG1kaWEAAAAgbWRoZAAAAAAAAAAAAAAAAAAAQAAAEGAAVcQAAAAAAC1oZGxyAAAAAAAAAAB2aWRlAAAAAAAAAAAAAAAAVmlkZW9IYW5kbGVyAAAABnNtaW5mAAAAFHZtaGQAAAABAAAAAAAAAAAAAAAkZGluZgAAABxkcmVmAAAAAAAAAAEAAAAMdXJsIAAAAAEAAAYzc3RibAAAAJdzdHNkAAAAAAAAAAEAAACHYXZjMQAAAAAAAAABAAAAAAAAAAAAAAAAAAAAAAJgAZAASAAAAEgAAAAAAAAAAQAAAAAAAAAAAAAAAAAAAAAAAAAAAAAAAAAAAAAAAAAAABj//wAAADFhdmNDAWQAFv/hABhnZAAWrNlAmDOhAAADAAEAAAMABA8WLZYBAAZo6+PLIsAAAAAYc3R0cwAAAAAAAAABAAAAgwAAIAAAAAAUc3RzcwAAAAAAAAABAAAAAQAAAxhjdHRzAAAAAAAAAGEAAAABAABAAAAAAAEAAKAAAAAAAQAAQAAAAAABAAAAAAAAAAEAACAAAAAAAwAAQAAAAAABAABgAAAAAAEAACAAAAAAAQAAYAAAAAABAAAgAAAAAAMAAEAAAAAAAQAAYAAAAAABAAAgAAAAAAEAAGAAAAAAAQAAIAAAAAACAABAAAAAAAEAAGAAAAAAAQAAIAAAAAACAABAAAAAAAEAAIAAAAAAAgAAIAAAAAABAABgAAAAAAEAACAAAAAAAQAAYAAAAAABAAAgAAAAAAEAAKAAAAAAAQAAQAAAAAABAAAAAAAAAAEAACAAAAAAAQAAgAAAAAACAAAgAAAAAAEAAGAAAAAAAQAAIAAAAAABAABgAAAAAAEAACAAAAAAAQAAgAAAAAACAAAgAAAAAAEAAIAAAAAAAgAAIAAAAAABAABgAAAAAAEAACAAAAAAAQAAoAAAAAABAABAAAAAAAEAAAAAAAAAAQAAIAAAAAAEAABAAAAAAAEAAIAAAAAAAgAAIAAAAAABAABAAAAAAAEAAGAAAAAAAQAAIAAAAAABAABAAAAAAAEAAGAAAAAAAQAAIAAAAAABAABAAAAAAAEAAIAAAAAAAgAAIAAAAAABAACgAAAAAAEAAEAAAAAAAQAAAAAAAAABAAAgAAAAAAEAAGAAAAAAAQAAIAAAAAABAABgAAAAAAEAACAAAAAAAgAAQAAAAAABAABgAAAAAAEAACAAAAAAAQAAQAAAAAABAABgAAAAAAEAACAAAAAACAAAQAAAAAABAACgAAAAAAEAAEAAAAAAAQAAAAAAAAABAAAgAAAAAAEAAEAAAAAAAQAAYAAAAAABAAAgAAAAAAEAAIAAAAAAAgAAIAAAAAAEAABAAAAAAAEAAGAAAAAAAQAAIAAAAAACAABAAAAAAAEAAGAAAAAAAQAAIAAAAAAHAABAAAAAAAEAAGAAAAAAAQAAIAAAAAABAABgAAAAAAEAACAAAAAAAQAAQAAAAAABAACgAAAAAAEAAEAAAAAAAQAAAAAAAAABAAAgAAAAABxzdHNjAAAAAAAAAAEAAAABAAAAgwAAAAEAAAIgc3RzegAAAAAAAAAAAAAAgwAAFr4AAAGCAAAAuAAAAG0AAACqAAABYwAAAYYAAAE9AAABdAAAAKcAAAHAAAAAsAAAAV8AAAGbAAABjwAAAgUAAADmAAACEwAAAPYAAAHBAAABVAAAAfMAAAD/AAABuAAAAV4AAAIEAAABJAAAALsAAAHEAAAAlQAAAaoAAAC4AAABawAAANMAAAAkAAAAIgAAAYkAAABbAAAAlgAAAh4AAADxAAACCwAAAScAAAIzAAABRAAAAQQAAAJJAAABYAAAAUoAAAHcAAABDgAAAi4AAAGSAAABXQAAAVsAAAHmAAACBQAAAeYAAAHXAAACYAAAATIAAADoAAABsQAAAccAAADUAAABowAAAW4AAACfAAABXgAAAaQAAAD5AAAA4wAAAN0AAACKAAAAdQAAAHUAAABzAAAAagAAAY0AAACfAAABeAAAAYIAAAIbAAAAtgAAAVsAAAGNAAAA6AAAAZ8AAAGdAAABnAAAAZ8AAAHFAAABzAAAAa8AAAG0AAACDgAAAeQAAAFkAAABVQAAAc8AAAIbAAABZgAAAkcAAAGZAAABYwAAAbIAAAGvAAABhwAAAWkAAAGBAAABGQAAAa8AAAGGAAAB+wAAAR8AAAGBAAABlQAAAcYAAAFzAAABzQAAAb0AAAG+AAACHgAAASQAAAGzAAABNwAAAVsAAAFIAAABMwAAARAAAAC3AAAAFHN0Y28AAAAAAAAAAQAAADAAAABidWR0YQAAAFptZXRhAAAAAAAAACFoZGxyAAAAAAAAAABtZGlyYXBwbAAAAAAAAAAAAAAAAC1pbHN0AAAAJal0b28AAAAdZGF0YQAAAAEAAAAATGF2ZjU4LjI5LjEwMA==\" type=\"video/mp4\">\n",
       "</video>\n"
      ],
      "text/plain": [
       "<IPython.core.display.HTML object>"
      ]
     },
     "execution_count": 29,
     "metadata": {},
     "output_type": "execute_result"
    }
   ],
   "source": [
    "from IPython.display import HTML\n",
    "from base64 import b64encode\n",
    "import os\n",
    "\n",
    "\n",
    "# Show video\n",
    "mp4 = open(video_path,'rb').read()\n",
    "data_url = \"data:video/mp4;base64,\" + b64encode(mp4).decode()\n",
    "HTML(\"\"\"\n",
    "<video width=400 controls>\n",
    "      <source src=\"%s\" type=\"video/mp4\">\n",
    "</video>\n",
    "\"\"\" % data_url)"
   ]
  }
 ],
 "metadata": {
  "colab": {
   "provenance": []
  },
  "kernelspec": {
   "display_name": "Python 3 (ipykernel)",
   "language": "python",
   "name": "python3"
  },
  "language_info": {
   "codemirror_mode": {
    "name": "ipython",
    "version": 3
   },
   "file_extension": ".py",
   "mimetype": "text/x-python",
   "name": "python",
   "nbconvert_exporter": "python",
   "pygments_lexer": "ipython3",
   "version": "3.10.9"
  },
  "widgets": {
   "application/vnd.jupyter.widget-state+json": {
    "0fae5d5445d04cd1b6a58cf7b00a3640": {
     "model_module": "@jupyter-widgets/controls",
     "model_module_version": "1.5.0",
     "model_name": "HTMLModel",
     "state": {
      "_dom_classes": [],
      "_model_module": "@jupyter-widgets/controls",
      "_model_module_version": "1.5.0",
      "_model_name": "HTMLModel",
      "_view_count": null,
      "_view_module": "@jupyter-widgets/controls",
      "_view_module_version": "1.5.0",
      "_view_name": "HTMLView",
      "description": "",
      "description_tooltip": null,
      "layout": "IPY_MODEL_6dc0abc71b6e4181926cf2153a480e42",
      "placeholder": "​",
      "style": "IPY_MODEL_b55a5b230fe34ff49859e118547d4b87",
      "value": " 1501/? [18:07&lt;00:00,  3.07it/s]"
     }
    },
    "197b894de9424c91bddd12666d325f44": {
     "model_module": "@jupyter-widgets/base",
     "model_module_version": "1.2.0",
     "model_name": "LayoutModel",
     "state": {
      "_model_module": "@jupyter-widgets/base",
      "_model_module_version": "1.2.0",
      "_model_name": "LayoutModel",
      "_view_count": null,
      "_view_module": "@jupyter-widgets/base",
      "_view_module_version": "1.2.0",
      "_view_name": "LayoutView",
      "align_content": null,
      "align_items": null,
      "align_self": null,
      "border": null,
      "bottom": null,
      "display": null,
      "flex": null,
      "flex_flow": null,
      "grid_area": null,
      "grid_auto_columns": null,
      "grid_auto_flow": null,
      "grid_auto_rows": null,
      "grid_column": null,
      "grid_gap": null,
      "grid_row": null,
      "grid_template_areas": null,
      "grid_template_columns": null,
      "grid_template_rows": null,
      "height": null,
      "justify_content": null,
      "justify_items": null,
      "left": null,
      "margin": null,
      "max_height": null,
      "max_width": null,
      "min_height": null,
      "min_width": null,
      "object_fit": null,
      "object_position": null,
      "order": null,
      "overflow": null,
      "overflow_x": null,
      "overflow_y": null,
      "padding": null,
      "right": null,
      "top": null,
      "visibility": null,
      "width": null
     }
    },
    "1df2869cf61a45a5a28b2b14ace854b5": {
     "model_module": "@jupyter-widgets/controls",
     "model_module_version": "1.5.0",
     "model_name": "DescriptionStyleModel",
     "state": {
      "_model_module": "@jupyter-widgets/controls",
      "_model_module_version": "1.5.0",
      "_model_name": "DescriptionStyleModel",
      "_view_count": null,
      "_view_module": "@jupyter-widgets/base",
      "_view_module_version": "1.2.0",
      "_view_name": "StyleView",
      "description_width": ""
     }
    },
    "30e47e3e20a8413ca6236f7f98c57476": {
     "model_module": "@jupyter-widgets/base",
     "model_module_version": "1.2.0",
     "model_name": "LayoutModel",
     "state": {
      "_model_module": "@jupyter-widgets/base",
      "_model_module_version": "1.2.0",
      "_model_name": "LayoutModel",
      "_view_count": null,
      "_view_module": "@jupyter-widgets/base",
      "_view_module_version": "1.2.0",
      "_view_name": "LayoutView",
      "align_content": null,
      "align_items": null,
      "align_self": null,
      "border": null,
      "bottom": null,
      "display": null,
      "flex": null,
      "flex_flow": null,
      "grid_area": null,
      "grid_auto_columns": null,
      "grid_auto_flow": null,
      "grid_auto_rows": null,
      "grid_column": null,
      "grid_gap": null,
      "grid_row": null,
      "grid_template_areas": null,
      "grid_template_columns": null,
      "grid_template_rows": null,
      "height": null,
      "justify_content": null,
      "justify_items": null,
      "left": null,
      "margin": null,
      "max_height": null,
      "max_width": null,
      "min_height": null,
      "min_width": null,
      "object_fit": null,
      "object_position": null,
      "order": null,
      "overflow": null,
      "overflow_x": null,
      "overflow_y": null,
      "padding": null,
      "right": null,
      "top": null,
      "visibility": null,
      "width": null
     }
    },
    "34354de56b434e0fa2407a5fd2e62b3c": {
     "model_module": "@jupyter-widgets/base",
     "model_module_version": "1.2.0",
     "model_name": "LayoutModel",
     "state": {
      "_model_module": "@jupyter-widgets/base",
      "_model_module_version": "1.2.0",
      "_model_name": "LayoutModel",
      "_view_count": null,
      "_view_module": "@jupyter-widgets/base",
      "_view_module_version": "1.2.0",
      "_view_name": "LayoutView",
      "align_content": null,
      "align_items": null,
      "align_self": null,
      "border": null,
      "bottom": null,
      "display": null,
      "flex": null,
      "flex_flow": null,
      "grid_area": null,
      "grid_auto_columns": null,
      "grid_auto_flow": null,
      "grid_auto_rows": null,
      "grid_column": null,
      "grid_gap": null,
      "grid_row": null,
      "grid_template_areas": null,
      "grid_template_columns": null,
      "grid_template_rows": null,
      "height": null,
      "justify_content": null,
      "justify_items": null,
      "left": null,
      "margin": null,
      "max_height": null,
      "max_width": null,
      "min_height": null,
      "min_width": null,
      "object_fit": null,
      "object_position": null,
      "order": null,
      "overflow": null,
      "overflow_x": null,
      "overflow_y": null,
      "padding": null,
      "right": null,
      "top": null,
      "visibility": null,
      "width": null
     }
    },
    "45fc3e399cf9436983994e04fb638794": {
     "model_module": "@jupyter-widgets/controls",
     "model_module_version": "1.5.0",
     "model_name": "HBoxModel",
     "state": {
      "_dom_classes": [],
      "_model_module": "@jupyter-widgets/controls",
      "_model_module_version": "1.5.0",
      "_model_name": "HBoxModel",
      "_view_count": null,
      "_view_module": "@jupyter-widgets/controls",
      "_view_module_version": "1.5.0",
      "_view_name": "HBoxView",
      "box_style": "",
      "children": [
       "IPY_MODEL_a4a61ae081e94df6946867be34305933",
       "IPY_MODEL_770af9dc4f7c47e7a54918b503baccbc",
       "IPY_MODEL_759c985d1a874073bbc7bb55d92cb176"
      ],
      "layout": "IPY_MODEL_eb526a2a5ac645e3aa61f08fa63125b5"
     }
    },
    "466a87d9de5446f1bbca27bcec2ee206": {
     "model_module": "@jupyter-widgets/controls",
     "model_module_version": "1.5.0",
     "model_name": "ProgressStyleModel",
     "state": {
      "_model_module": "@jupyter-widgets/controls",
      "_model_module_version": "1.5.0",
      "_model_name": "ProgressStyleModel",
      "_view_count": null,
      "_view_module": "@jupyter-widgets/base",
      "_view_module_version": "1.2.0",
      "_view_name": "StyleView",
      "bar_color": null,
      "description_width": ""
     }
    },
    "512bea3b41354939ab01563ce637df71": {
     "model_module": "@jupyter-widgets/base",
     "model_module_version": "1.2.0",
     "model_name": "LayoutModel",
     "state": {
      "_model_module": "@jupyter-widgets/base",
      "_model_module_version": "1.2.0",
      "_model_name": "LayoutModel",
      "_view_count": null,
      "_view_module": "@jupyter-widgets/base",
      "_view_module_version": "1.2.0",
      "_view_name": "LayoutView",
      "align_content": null,
      "align_items": null,
      "align_self": null,
      "border": null,
      "bottom": null,
      "display": null,
      "flex": null,
      "flex_flow": null,
      "grid_area": null,
      "grid_auto_columns": null,
      "grid_auto_flow": null,
      "grid_auto_rows": null,
      "grid_column": null,
      "grid_gap": null,
      "grid_row": null,
      "grid_template_areas": null,
      "grid_template_columns": null,
      "grid_template_rows": null,
      "height": null,
      "justify_content": null,
      "justify_items": null,
      "left": null,
      "margin": null,
      "max_height": null,
      "max_width": null,
      "min_height": null,
      "min_width": null,
      "object_fit": null,
      "object_position": null,
      "order": null,
      "overflow": null,
      "overflow_x": null,
      "overflow_y": null,
      "padding": null,
      "right": null,
      "top": null,
      "visibility": null,
      "width": null
     }
    },
    "515bc15f5678452bb5c05021ac763c43": {
     "model_module": "@jupyter-widgets/base",
     "model_module_version": "1.2.0",
     "model_name": "LayoutModel",
     "state": {
      "_model_module": "@jupyter-widgets/base",
      "_model_module_version": "1.2.0",
      "_model_name": "LayoutModel",
      "_view_count": null,
      "_view_module": "@jupyter-widgets/base",
      "_view_module_version": "1.2.0",
      "_view_name": "LayoutView",
      "align_content": null,
      "align_items": null,
      "align_self": null,
      "border": null,
      "bottom": null,
      "display": null,
      "flex": null,
      "flex_flow": null,
      "grid_area": null,
      "grid_auto_columns": null,
      "grid_auto_flow": null,
      "grid_auto_rows": null,
      "grid_column": null,
      "grid_gap": null,
      "grid_row": null,
      "grid_template_areas": null,
      "grid_template_columns": null,
      "grid_template_rows": null,
      "height": null,
      "justify_content": null,
      "justify_items": null,
      "left": null,
      "margin": null,
      "max_height": null,
      "max_width": null,
      "min_height": null,
      "min_width": null,
      "object_fit": null,
      "object_position": null,
      "order": null,
      "overflow": null,
      "overflow_x": null,
      "overflow_y": null,
      "padding": null,
      "right": null,
      "top": null,
      "visibility": null,
      "width": null
     }
    },
    "578ce53b73d746d98df324fe6a99838c": {
     "model_module": "@jupyter-widgets/controls",
     "model_module_version": "1.5.0",
     "model_name": "HBoxModel",
     "state": {
      "_dom_classes": [],
      "_model_module": "@jupyter-widgets/controls",
      "_model_module_version": "1.5.0",
      "_model_name": "HBoxModel",
      "_view_count": null,
      "_view_module": "@jupyter-widgets/controls",
      "_view_module_version": "1.5.0",
      "_view_name": "HBoxView",
      "box_style": "",
      "children": [
       "IPY_MODEL_a9497bb8e505407aa3234fbdf3c679f0",
       "IPY_MODEL_9364f0cea5e44332825ab229728bb787",
       "IPY_MODEL_0fae5d5445d04cd1b6a58cf7b00a3640"
      ],
      "layout": "IPY_MODEL_30e47e3e20a8413ca6236f7f98c57476"
     }
    },
    "6dc0abc71b6e4181926cf2153a480e42": {
     "model_module": "@jupyter-widgets/base",
     "model_module_version": "1.2.0",
     "model_name": "LayoutModel",
     "state": {
      "_model_module": "@jupyter-widgets/base",
      "_model_module_version": "1.2.0",
      "_model_name": "LayoutModel",
      "_view_count": null,
      "_view_module": "@jupyter-widgets/base",
      "_view_module_version": "1.2.0",
      "_view_name": "LayoutView",
      "align_content": null,
      "align_items": null,
      "align_self": null,
      "border": null,
      "bottom": null,
      "display": null,
      "flex": null,
      "flex_flow": null,
      "grid_area": null,
      "grid_auto_columns": null,
      "grid_auto_flow": null,
      "grid_auto_rows": null,
      "grid_column": null,
      "grid_gap": null,
      "grid_row": null,
      "grid_template_areas": null,
      "grid_template_columns": null,
      "grid_template_rows": null,
      "height": null,
      "justify_content": null,
      "justify_items": null,
      "left": null,
      "margin": null,
      "max_height": null,
      "max_width": null,
      "min_height": null,
      "min_width": null,
      "object_fit": null,
      "object_position": null,
      "order": null,
      "overflow": null,
      "overflow_x": null,
      "overflow_y": null,
      "padding": null,
      "right": null,
      "top": null,
      "visibility": null,
      "width": null
     }
    },
    "759c985d1a874073bbc7bb55d92cb176": {
     "model_module": "@jupyter-widgets/controls",
     "model_module_version": "1.5.0",
     "model_name": "HTMLModel",
     "state": {
      "_dom_classes": [],
      "_model_module": "@jupyter-widgets/controls",
      "_model_module_version": "1.5.0",
      "_model_name": "HTMLModel",
      "_view_count": null,
      "_view_module": "@jupyter-widgets/controls",
      "_view_module_version": "1.5.0",
      "_view_name": "HTMLView",
      "description": "",
      "description_tooltip": null,
      "layout": "IPY_MODEL_34354de56b434e0fa2407a5fd2e62b3c",
      "placeholder": "​",
      "style": "IPY_MODEL_1df2869cf61a45a5a28b2b14ace854b5",
      "value": " 1500/1500 [00:21&lt;00:00, 76.01it/s]"
     }
    },
    "770af9dc4f7c47e7a54918b503baccbc": {
     "model_module": "@jupyter-widgets/controls",
     "model_module_version": "1.5.0",
     "model_name": "FloatProgressModel",
     "state": {
      "_dom_classes": [],
      "_model_module": "@jupyter-widgets/controls",
      "_model_module_version": "1.5.0",
      "_model_name": "FloatProgressModel",
      "_view_count": null,
      "_view_module": "@jupyter-widgets/controls",
      "_view_module_version": "1.5.0",
      "_view_name": "ProgressView",
      "bar_style": "success",
      "description": "",
      "description_tooltip": null,
      "layout": "IPY_MODEL_512bea3b41354939ab01563ce637df71",
      "max": 1500,
      "min": 0,
      "orientation": "horizontal",
      "style": "IPY_MODEL_466a87d9de5446f1bbca27bcec2ee206",
      "value": 1500
     }
    },
    "9364f0cea5e44332825ab229728bb787": {
     "model_module": "@jupyter-widgets/controls",
     "model_module_version": "1.5.0",
     "model_name": "FloatProgressModel",
     "state": {
      "_dom_classes": [],
      "_model_module": "@jupyter-widgets/controls",
      "_model_module_version": "1.5.0",
      "_model_name": "FloatProgressModel",
      "_view_count": null,
      "_view_module": "@jupyter-widgets/controls",
      "_view_module_version": "1.5.0",
      "_view_name": "ProgressView",
      "bar_style": "success",
      "description": "",
      "description_tooltip": null,
      "layout": "IPY_MODEL_515bc15f5678452bb5c05021ac763c43",
      "max": 1500,
      "min": 0,
      "orientation": "horizontal",
      "style": "IPY_MODEL_bf9d49fe94734b3ebacd35a071f8dc33",
      "value": 1500
     }
    },
    "a4a61ae081e94df6946867be34305933": {
     "model_module": "@jupyter-widgets/controls",
     "model_module_version": "1.5.0",
     "model_name": "HTMLModel",
     "state": {
      "_dom_classes": [],
      "_model_module": "@jupyter-widgets/controls",
      "_model_module_version": "1.5.0",
      "_model_name": "HTMLModel",
      "_view_count": null,
      "_view_module": "@jupyter-widgets/controls",
      "_view_module_version": "1.5.0",
      "_view_name": "HTMLView",
      "description": "",
      "description_tooltip": null,
      "layout": "IPY_MODEL_197b894de9424c91bddd12666d325f44",
      "placeholder": "​",
      "style": "IPY_MODEL_e4e281488a4c48ab918cfa000a2c79e9",
      "value": "100%"
     }
    },
    "a9497bb8e505407aa3234fbdf3c679f0": {
     "model_module": "@jupyter-widgets/controls",
     "model_module_version": "1.5.0",
     "model_name": "HTMLModel",
     "state": {
      "_dom_classes": [],
      "_model_module": "@jupyter-widgets/controls",
      "_model_module_version": "1.5.0",
      "_model_name": "HTMLModel",
      "_view_count": null,
      "_view_module": "@jupyter-widgets/controls",
      "_view_module_version": "1.5.0",
      "_view_name": "HTMLView",
      "description": "",
      "description_tooltip": null,
      "layout": "IPY_MODEL_d0e1a9b590674e69b66a3f5099a9b24e",
      "placeholder": "​",
      "style": "IPY_MODEL_f69c5bd240f84309b88113308555d9ea",
      "value": "Episódio: 24666: "
     }
    },
    "b55a5b230fe34ff49859e118547d4b87": {
     "model_module": "@jupyter-widgets/controls",
     "model_module_version": "1.5.0",
     "model_name": "DescriptionStyleModel",
     "state": {
      "_model_module": "@jupyter-widgets/controls",
      "_model_module_version": "1.5.0",
      "_model_name": "DescriptionStyleModel",
      "_view_count": null,
      "_view_module": "@jupyter-widgets/base",
      "_view_module_version": "1.2.0",
      "_view_name": "StyleView",
      "description_width": ""
     }
    },
    "bf9d49fe94734b3ebacd35a071f8dc33": {
     "model_module": "@jupyter-widgets/controls",
     "model_module_version": "1.5.0",
     "model_name": "ProgressStyleModel",
     "state": {
      "_model_module": "@jupyter-widgets/controls",
      "_model_module_version": "1.5.0",
      "_model_name": "ProgressStyleModel",
      "_view_count": null,
      "_view_module": "@jupyter-widgets/base",
      "_view_module_version": "1.2.0",
      "_view_name": "StyleView",
      "bar_color": null,
      "description_width": ""
     }
    },
    "d0e1a9b590674e69b66a3f5099a9b24e": {
     "model_module": "@jupyter-widgets/base",
     "model_module_version": "1.2.0",
     "model_name": "LayoutModel",
     "state": {
      "_model_module": "@jupyter-widgets/base",
      "_model_module_version": "1.2.0",
      "_model_name": "LayoutModel",
      "_view_count": null,
      "_view_module": "@jupyter-widgets/base",
      "_view_module_version": "1.2.0",
      "_view_name": "LayoutView",
      "align_content": null,
      "align_items": null,
      "align_self": null,
      "border": null,
      "bottom": null,
      "display": null,
      "flex": null,
      "flex_flow": null,
      "grid_area": null,
      "grid_auto_columns": null,
      "grid_auto_flow": null,
      "grid_auto_rows": null,
      "grid_column": null,
      "grid_gap": null,
      "grid_row": null,
      "grid_template_areas": null,
      "grid_template_columns": null,
      "grid_template_rows": null,
      "height": null,
      "justify_content": null,
      "justify_items": null,
      "left": null,
      "margin": null,
      "max_height": null,
      "max_width": null,
      "min_height": null,
      "min_width": null,
      "object_fit": null,
      "object_position": null,
      "order": null,
      "overflow": null,
      "overflow_x": null,
      "overflow_y": null,
      "padding": null,
      "right": null,
      "top": null,
      "visibility": null,
      "width": null
     }
    },
    "e4e281488a4c48ab918cfa000a2c79e9": {
     "model_module": "@jupyter-widgets/controls",
     "model_module_version": "1.5.0",
     "model_name": "DescriptionStyleModel",
     "state": {
      "_model_module": "@jupyter-widgets/controls",
      "_model_module_version": "1.5.0",
      "_model_name": "DescriptionStyleModel",
      "_view_count": null,
      "_view_module": "@jupyter-widgets/base",
      "_view_module_version": "1.2.0",
      "_view_name": "StyleView",
      "description_width": ""
     }
    },
    "eb526a2a5ac645e3aa61f08fa63125b5": {
     "model_module": "@jupyter-widgets/base",
     "model_module_version": "1.2.0",
     "model_name": "LayoutModel",
     "state": {
      "_model_module": "@jupyter-widgets/base",
      "_model_module_version": "1.2.0",
      "_model_name": "LayoutModel",
      "_view_count": null,
      "_view_module": "@jupyter-widgets/base",
      "_view_module_version": "1.2.0",
      "_view_name": "LayoutView",
      "align_content": null,
      "align_items": null,
      "align_self": null,
      "border": null,
      "bottom": null,
      "display": null,
      "flex": null,
      "flex_flow": null,
      "grid_area": null,
      "grid_auto_columns": null,
      "grid_auto_flow": null,
      "grid_auto_rows": null,
      "grid_column": null,
      "grid_gap": null,
      "grid_row": null,
      "grid_template_areas": null,
      "grid_template_columns": null,
      "grid_template_rows": null,
      "height": null,
      "justify_content": null,
      "justify_items": null,
      "left": null,
      "margin": null,
      "max_height": null,
      "max_width": null,
      "min_height": null,
      "min_width": null,
      "object_fit": null,
      "object_position": null,
      "order": null,
      "overflow": null,
      "overflow_x": null,
      "overflow_y": null,
      "padding": null,
      "right": null,
      "top": null,
      "visibility": null,
      "width": null
     }
    },
    "f69c5bd240f84309b88113308555d9ea": {
     "model_module": "@jupyter-widgets/controls",
     "model_module_version": "1.5.0",
     "model_name": "DescriptionStyleModel",
     "state": {
      "_model_module": "@jupyter-widgets/controls",
      "_model_module_version": "1.5.0",
      "_model_name": "DescriptionStyleModel",
      "_view_count": null,
      "_view_module": "@jupyter-widgets/base",
      "_view_module_version": "1.2.0",
      "_view_name": "StyleView",
      "description_width": ""
     }
    }
   }
  }
 },
 "nbformat": 4,
 "nbformat_minor": 1
}
